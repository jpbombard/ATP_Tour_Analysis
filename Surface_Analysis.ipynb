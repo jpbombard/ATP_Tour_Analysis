{
 "cells": [
  {
   "cell_type": "markdown",
   "id": "aa4bacea",
   "metadata": {},
   "source": [
    "## How Player Performance Varies Between Surfaces"
   ]
  },
  {
   "cell_type": "code",
   "execution_count": 1,
   "id": "6d6d66bc",
   "metadata": {},
   "outputs": [],
   "source": [
    "import pandas as pd\n",
    "import numpy as np\n",
    "import seaborn as sns\n",
    "import statsmodels.api as sm\n",
    "import statsmodels.formula.api as smf\n",
    "from scipy import stats\n",
    "import matplotlib.pyplot as plt\n",
    "from pandasql import sqldf\n",
    "import sqlite3 \n",
    "import datetime as dt\n",
    "import plotly.express as px"
   ]
  },
  {
   "cell_type": "markdown",
   "id": "a66c920b",
   "metadata": {},
   "source": [
    "Hypothesis: A stronger serve is less valuable on clay courts than it is on grass and hard"
   ]
  },
  {
   "cell_type": "code",
   "execution_count": 2,
   "id": "07becd06",
   "metadata": {},
   "outputs": [
    {
     "data": {
      "text/html": [
       "<div>\n",
       "<style scoped>\n",
       "    .dataframe tbody tr th:only-of-type {\n",
       "        vertical-align: middle;\n",
       "    }\n",
       "\n",
       "    .dataframe tbody tr th {\n",
       "        vertical-align: top;\n",
       "    }\n",
       "\n",
       "    .dataframe thead th {\n",
       "        text-align: right;\n",
       "    }\n",
       "</style>\n",
       "<table border=\"1\" class=\"dataframe\">\n",
       "  <thead>\n",
       "    <tr style=\"text-align: right;\">\n",
       "      <th></th>\n",
       "      <th>player_id</th>\n",
       "      <th>match_id</th>\n",
       "      <th>year</th>\n",
       "      <th>month</th>\n",
       "      <th>player_name</th>\n",
       "      <th>country</th>\n",
       "      <th>height</th>\n",
       "      <th>hand</th>\n",
       "      <th>tourney_name</th>\n",
       "      <th>tourney_level</th>\n",
       "      <th>...</th>\n",
       "      <th>bp_saved</th>\n",
       "      <th>bp_faced</th>\n",
       "      <th>rank</th>\n",
       "      <th>rank_points</th>\n",
       "      <th>won</th>\n",
       "      <th>first_sv_pct</th>\n",
       "      <th>first_sv_win_pct</th>\n",
       "      <th>second_sv_win_pct</th>\n",
       "      <th>total_sv_win_pct</th>\n",
       "      <th>bp_save_pct</th>\n",
       "    </tr>\n",
       "  </thead>\n",
       "  <tbody>\n",
       "    <tr>\n",
       "      <th>0</th>\n",
       "      <td>105357</td>\n",
       "      <td>2015-339_1</td>\n",
       "      <td>2015</td>\n",
       "      <td>1</td>\n",
       "      <td>John Millman</td>\n",
       "      <td>AUS</td>\n",
       "      <td>183</td>\n",
       "      <td>R</td>\n",
       "      <td>Brisbane</td>\n",
       "      <td>A</td>\n",
       "      <td>...</td>\n",
       "      <td>1</td>\n",
       "      <td>1</td>\n",
       "      <td>153</td>\n",
       "      <td>328</td>\n",
       "      <td>1</td>\n",
       "      <td>0.545455</td>\n",
       "      <td>0.791667</td>\n",
       "      <td>0.700000</td>\n",
       "      <td>0.750000</td>\n",
       "      <td>1.000000</td>\n",
       "    </tr>\n",
       "    <tr>\n",
       "      <th>1</th>\n",
       "      <td>103813</td>\n",
       "      <td>2015-339_2</td>\n",
       "      <td>2015</td>\n",
       "      <td>1</td>\n",
       "      <td>Jarkko Nieminen</td>\n",
       "      <td>FIN</td>\n",
       "      <td>185</td>\n",
       "      <td>L</td>\n",
       "      <td>Brisbane</td>\n",
       "      <td>A</td>\n",
       "      <td>...</td>\n",
       "      <td>4</td>\n",
       "      <td>7</td>\n",
       "      <td>73</td>\n",
       "      <td>689</td>\n",
       "      <td>1</td>\n",
       "      <td>0.641304</td>\n",
       "      <td>0.661017</td>\n",
       "      <td>0.515152</td>\n",
       "      <td>0.608696</td>\n",
       "      <td>0.571429</td>\n",
       "    </tr>\n",
       "    <tr>\n",
       "      <th>2</th>\n",
       "      <td>105902</td>\n",
       "      <td>2015-339_3</td>\n",
       "      <td>2015</td>\n",
       "      <td>1</td>\n",
       "      <td>James Duckworth</td>\n",
       "      <td>AUS</td>\n",
       "      <td>183</td>\n",
       "      <td>R</td>\n",
       "      <td>Brisbane</td>\n",
       "      <td>A</td>\n",
       "      <td>...</td>\n",
       "      <td>2</td>\n",
       "      <td>3</td>\n",
       "      <td>125</td>\n",
       "      <td>430</td>\n",
       "      <td>1</td>\n",
       "      <td>0.600000</td>\n",
       "      <td>0.740741</td>\n",
       "      <td>0.611111</td>\n",
       "      <td>0.688889</td>\n",
       "      <td>0.666667</td>\n",
       "    </tr>\n",
       "    <tr>\n",
       "      <th>3</th>\n",
       "      <td>104871</td>\n",
       "      <td>2015-339_4</td>\n",
       "      <td>2015</td>\n",
       "      <td>1</td>\n",
       "      <td>Jeremy Chardy</td>\n",
       "      <td>FRA</td>\n",
       "      <td>188</td>\n",
       "      <td>R</td>\n",
       "      <td>Brisbane</td>\n",
       "      <td>A</td>\n",
       "      <td>...</td>\n",
       "      <td>0</td>\n",
       "      <td>0</td>\n",
       "      <td>31</td>\n",
       "      <td>1195</td>\n",
       "      <td>1</td>\n",
       "      <td>0.735849</td>\n",
       "      <td>0.794872</td>\n",
       "      <td>0.785714</td>\n",
       "      <td>0.792453</td>\n",
       "      <td>NaN</td>\n",
       "    </tr>\n",
       "    <tr>\n",
       "      <th>4</th>\n",
       "      <td>105373</td>\n",
       "      <td>2015-339_5</td>\n",
       "      <td>2015</td>\n",
       "      <td>1</td>\n",
       "      <td>Martin Klizan</td>\n",
       "      <td>SVK</td>\n",
       "      <td>191</td>\n",
       "      <td>L</td>\n",
       "      <td>Brisbane</td>\n",
       "      <td>A</td>\n",
       "      <td>...</td>\n",
       "      <td>6</td>\n",
       "      <td>8</td>\n",
       "      <td>34</td>\n",
       "      <td>1094</td>\n",
       "      <td>1</td>\n",
       "      <td>0.607692</td>\n",
       "      <td>0.696203</td>\n",
       "      <td>0.529412</td>\n",
       "      <td>0.630769</td>\n",
       "      <td>0.750000</td>\n",
       "    </tr>\n",
       "  </tbody>\n",
       "</table>\n",
       "<p>5 rows × 30 columns</p>\n",
       "</div>"
      ],
      "text/plain": [
       "   player_id    match_id  year  month      player_name country  height hand  \\\n",
       "0     105357  2015-339_1  2015      1     John Millman     AUS     183    R   \n",
       "1     103813  2015-339_2  2015      1  Jarkko Nieminen     FIN     185    L   \n",
       "2     105902  2015-339_3  2015      1  James Duckworth     AUS     183    R   \n",
       "3     104871  2015-339_4  2015      1    Jeremy Chardy     FRA     188    R   \n",
       "4     105373  2015-339_5  2015      1    Martin Klizan     SVK     191    L   \n",
       "\n",
       "  tourney_name tourney_level  ... bp_saved bp_faced  rank  rank_points  won  \\\n",
       "0     Brisbane             A  ...        1        1   153          328    1   \n",
       "1     Brisbane             A  ...        4        7    73          689    1   \n",
       "2     Brisbane             A  ...        2        3   125          430    1   \n",
       "3     Brisbane             A  ...        0        0    31         1195    1   \n",
       "4     Brisbane             A  ...        6        8    34         1094    1   \n",
       "\n",
       "   first_sv_pct  first_sv_win_pct  second_sv_win_pct  total_sv_win_pct  \\\n",
       "0      0.545455          0.791667           0.700000          0.750000   \n",
       "1      0.641304          0.661017           0.515152          0.608696   \n",
       "2      0.600000          0.740741           0.611111          0.688889   \n",
       "3      0.735849          0.794872           0.785714          0.792453   \n",
       "4      0.607692          0.696203           0.529412          0.630769   \n",
       "\n",
       "   bp_save_pct  \n",
       "0     1.000000  \n",
       "1     0.571429  \n",
       "2     0.666667  \n",
       "3          NaN  \n",
       "4     0.750000  \n",
       "\n",
       "[5 rows x 30 columns]"
      ]
     },
     "execution_count": 2,
     "metadata": {},
     "output_type": "execute_result"
    }
   ],
   "source": [
    "con = sqlite3.connect('/Users/julianbombard/Desktop/Data Analytics Course/Capstone/database/ATP_Tour')\n",
    "df = pd.read_sql_query('''Select *\n",
    "                       From cleaned_match_stats''', con)\n",
    "\n",
    "con.close()\n",
    "\n",
    "df.head()"
   ]
  },
  {
   "cell_type": "code",
   "execution_count": 3,
   "id": "fbed1c93",
   "metadata": {},
   "outputs": [],
   "source": [
    "df['ace_pct'] = (df['ace'] / df['svpt'])"
   ]
  },
  {
   "cell_type": "code",
   "execution_count": 4,
   "id": "b4ba4932",
   "metadata": {},
   "outputs": [
    {
     "data": {
      "text/html": [
       "<div>\n",
       "<style scoped>\n",
       "    .dataframe tbody tr th:only-of-type {\n",
       "        vertical-align: middle;\n",
       "    }\n",
       "\n",
       "    .dataframe tbody tr th {\n",
       "        vertical-align: top;\n",
       "    }\n",
       "\n",
       "    .dataframe thead th {\n",
       "        text-align: right;\n",
       "    }\n",
       "</style>\n",
       "<table border=\"1\" class=\"dataframe\">\n",
       "  <thead>\n",
       "    <tr style=\"text-align: right;\">\n",
       "      <th></th>\n",
       "      <th>player_name</th>\n",
       "      <th>surface</th>\n",
       "      <th>wins</th>\n",
       "      <th>total_matches_per_surface</th>\n",
       "      <th>ace_pct</th>\n",
       "      <th>first_sv_pct</th>\n",
       "      <th>first_sv_win_pct</th>\n",
       "      <th>second_sv_win_pct</th>\n",
       "      <th>total_sv_win_pct</th>\n",
       "      <th>bp_save_pct</th>\n",
       "      <th>win_pct</th>\n",
       "    </tr>\n",
       "  </thead>\n",
       "  <tbody>\n",
       "    <tr>\n",
       "      <th>0</th>\n",
       "      <td>Abedallah Shelbayh</td>\n",
       "      <td>Clay</td>\n",
       "      <td>1</td>\n",
       "      <td>4</td>\n",
       "      <td>0.035626</td>\n",
       "      <td>0.564362</td>\n",
       "      <td>0.655399</td>\n",
       "      <td>0.386274</td>\n",
       "      <td>0.539094</td>\n",
       "      <td>0.590774</td>\n",
       "      <td>0.250000</td>\n",
       "    </tr>\n",
       "    <tr>\n",
       "      <th>1</th>\n",
       "      <td>Abedallah Shelbayh</td>\n",
       "      <td>Grass</td>\n",
       "      <td>0</td>\n",
       "      <td>2</td>\n",
       "      <td>0.038305</td>\n",
       "      <td>0.570330</td>\n",
       "      <td>0.605695</td>\n",
       "      <td>0.464286</td>\n",
       "      <td>0.544898</td>\n",
       "      <td>0.500000</td>\n",
       "      <td>0.000000</td>\n",
       "    </tr>\n",
       "    <tr>\n",
       "      <th>2</th>\n",
       "      <td>Abedallah Shelbayh</td>\n",
       "      <td>Hard</td>\n",
       "      <td>2</td>\n",
       "      <td>8</td>\n",
       "      <td>0.078914</td>\n",
       "      <td>0.601158</td>\n",
       "      <td>0.690752</td>\n",
       "      <td>0.481069</td>\n",
       "      <td>0.602291</td>\n",
       "      <td>0.572754</td>\n",
       "      <td>0.250000</td>\n",
       "    </tr>\n",
       "    <tr>\n",
       "      <th>3</th>\n",
       "      <td>Adam Moundir</td>\n",
       "      <td>Clay</td>\n",
       "      <td>0</td>\n",
       "      <td>1</td>\n",
       "      <td>0.013514</td>\n",
       "      <td>0.513514</td>\n",
       "      <td>0.736842</td>\n",
       "      <td>0.500000</td>\n",
       "      <td>0.621622</td>\n",
       "      <td>0.600000</td>\n",
       "      <td>0.000000</td>\n",
       "    </tr>\n",
       "    <tr>\n",
       "      <th>4</th>\n",
       "      <td>Adam Neff</td>\n",
       "      <td>Hard</td>\n",
       "      <td>0</td>\n",
       "      <td>1</td>\n",
       "      <td>0.055556</td>\n",
       "      <td>0.569444</td>\n",
       "      <td>0.585366</td>\n",
       "      <td>0.387097</td>\n",
       "      <td>0.500000</td>\n",
       "      <td>0.636364</td>\n",
       "      <td>0.000000</td>\n",
       "    </tr>\n",
       "    <tr>\n",
       "      <th>...</th>\n",
       "      <td>...</td>\n",
       "      <td>...</td>\n",
       "      <td>...</td>\n",
       "      <td>...</td>\n",
       "      <td>...</td>\n",
       "      <td>...</td>\n",
       "      <td>...</td>\n",
       "      <td>...</td>\n",
       "      <td>...</td>\n",
       "      <td>...</td>\n",
       "      <td>...</td>\n",
       "    </tr>\n",
       "    <tr>\n",
       "      <th>1489</th>\n",
       "      <td>Zizou Bergs</td>\n",
       "      <td>Clay</td>\n",
       "      <td>4</td>\n",
       "      <td>11</td>\n",
       "      <td>0.080889</td>\n",
       "      <td>0.656036</td>\n",
       "      <td>0.706469</td>\n",
       "      <td>0.480533</td>\n",
       "      <td>0.630250</td>\n",
       "      <td>0.609696</td>\n",
       "      <td>0.363636</td>\n",
       "    </tr>\n",
       "    <tr>\n",
       "      <th>1490</th>\n",
       "      <td>Zizou Bergs</td>\n",
       "      <td>Grass</td>\n",
       "      <td>1</td>\n",
       "      <td>4</td>\n",
       "      <td>0.041875</td>\n",
       "      <td>0.661122</td>\n",
       "      <td>0.743992</td>\n",
       "      <td>0.511272</td>\n",
       "      <td>0.666592</td>\n",
       "      <td>0.568750</td>\n",
       "      <td>0.250000</td>\n",
       "    </tr>\n",
       "    <tr>\n",
       "      <th>1491</th>\n",
       "      <td>Zizou Bergs</td>\n",
       "      <td>Hard</td>\n",
       "      <td>10</td>\n",
       "      <td>29</td>\n",
       "      <td>0.078042</td>\n",
       "      <td>0.618456</td>\n",
       "      <td>0.707025</td>\n",
       "      <td>0.519077</td>\n",
       "      <td>0.633158</td>\n",
       "      <td>0.586024</td>\n",
       "      <td>0.344828</td>\n",
       "    </tr>\n",
       "    <tr>\n",
       "      <th>1492</th>\n",
       "      <td>Zsombor Piros</td>\n",
       "      <td>Clay</td>\n",
       "      <td>1</td>\n",
       "      <td>3</td>\n",
       "      <td>0.045662</td>\n",
       "      <td>0.621411</td>\n",
       "      <td>0.609430</td>\n",
       "      <td>0.578985</td>\n",
       "      <td>0.599475</td>\n",
       "      <td>0.709524</td>\n",
       "      <td>0.333333</td>\n",
       "    </tr>\n",
       "    <tr>\n",
       "      <th>1493</th>\n",
       "      <td>Zsombor Piros</td>\n",
       "      <td>Hard</td>\n",
       "      <td>0</td>\n",
       "      <td>1</td>\n",
       "      <td>0.092593</td>\n",
       "      <td>0.629630</td>\n",
       "      <td>0.441176</td>\n",
       "      <td>0.300000</td>\n",
       "      <td>0.388889</td>\n",
       "      <td>0.400000</td>\n",
       "      <td>0.000000</td>\n",
       "    </tr>\n",
       "  </tbody>\n",
       "</table>\n",
       "<p>1494 rows × 11 columns</p>\n",
       "</div>"
      ],
      "text/plain": [
       "             player_name surface  wins  total_matches_per_surface   ace_pct  \\\n",
       "0     Abedallah Shelbayh    Clay     1                          4  0.035626   \n",
       "1     Abedallah Shelbayh   Grass     0                          2  0.038305   \n",
       "2     Abedallah Shelbayh    Hard     2                          8  0.078914   \n",
       "3           Adam Moundir    Clay     0                          1  0.013514   \n",
       "4              Adam Neff    Hard     0                          1  0.055556   \n",
       "...                  ...     ...   ...                        ...       ...   \n",
       "1489         Zizou Bergs    Clay     4                         11  0.080889   \n",
       "1490         Zizou Bergs   Grass     1                          4  0.041875   \n",
       "1491         Zizou Bergs    Hard    10                         29  0.078042   \n",
       "1492       Zsombor Piros    Clay     1                          3  0.045662   \n",
       "1493       Zsombor Piros    Hard     0                          1  0.092593   \n",
       "\n",
       "      first_sv_pct  first_sv_win_pct  second_sv_win_pct  total_sv_win_pct  \\\n",
       "0         0.564362          0.655399           0.386274          0.539094   \n",
       "1         0.570330          0.605695           0.464286          0.544898   \n",
       "2         0.601158          0.690752           0.481069          0.602291   \n",
       "3         0.513514          0.736842           0.500000          0.621622   \n",
       "4         0.569444          0.585366           0.387097          0.500000   \n",
       "...            ...               ...                ...               ...   \n",
       "1489      0.656036          0.706469           0.480533          0.630250   \n",
       "1490      0.661122          0.743992           0.511272          0.666592   \n",
       "1491      0.618456          0.707025           0.519077          0.633158   \n",
       "1492      0.621411          0.609430           0.578985          0.599475   \n",
       "1493      0.629630          0.441176           0.300000          0.388889   \n",
       "\n",
       "      bp_save_pct   win_pct  \n",
       "0        0.590774  0.250000  \n",
       "1        0.500000  0.000000  \n",
       "2        0.572754  0.250000  \n",
       "3        0.600000  0.000000  \n",
       "4        0.636364  0.000000  \n",
       "...           ...       ...  \n",
       "1489     0.609696  0.363636  \n",
       "1490     0.568750  0.250000  \n",
       "1491     0.586024  0.344828  \n",
       "1492     0.709524  0.333333  \n",
       "1493     0.400000  0.000000  \n",
       "\n",
       "[1494 rows x 11 columns]"
      ]
     },
     "execution_count": 4,
     "metadata": {},
     "output_type": "execute_result"
    }
   ],
   "source": [
    "player_surface = df.groupby(['player_name', 'surface']).agg(\n",
    "    wins = ('won', 'sum'),\n",
    "    total_matches_per_surface = ('won', 'count'),\n",
    "    ace_pct = ('ace_pct', 'mean'), \n",
    "    first_sv_pct = ('first_sv_pct', 'mean'),\n",
    "    first_sv_win_pct = ('first_sv_win_pct', 'mean'),\t\n",
    "    second_sv_win_pct = ('second_sv_win_pct', 'mean'),\t\n",
    "    total_sv_win_pct = ('total_sv_win_pct', 'mean'),\t\n",
    "    bp_save_pct = ('bp_save_pct', 'mean'),\n",
    ").reset_index()\n",
    "\n",
    "player_surface['win_pct'] = (player_surface['wins'] / player_surface['total_matches_per_surface'])\n",
    "player_surface"
   ]
  },
  {
   "cell_type": "code",
   "execution_count": 5,
   "id": "72881033",
   "metadata": {},
   "outputs": [
    {
     "data": {
      "text/html": [
       "<div>\n",
       "<style scoped>\n",
       "    .dataframe tbody tr th:only-of-type {\n",
       "        vertical-align: middle;\n",
       "    }\n",
       "\n",
       "    .dataframe tbody tr th {\n",
       "        vertical-align: top;\n",
       "    }\n",
       "\n",
       "    .dataframe thead th {\n",
       "        text-align: right;\n",
       "    }\n",
       "</style>\n",
       "<table border=\"1\" class=\"dataframe\">\n",
       "  <thead>\n",
       "    <tr style=\"text-align: right;\">\n",
       "      <th></th>\n",
       "      <th>player_name</th>\n",
       "      <th>surface</th>\n",
       "      <th>wins</th>\n",
       "      <th>total_matches_per_surface</th>\n",
       "      <th>ace_pct</th>\n",
       "      <th>first_sv_pct</th>\n",
       "      <th>first_sv_win_pct</th>\n",
       "      <th>second_sv_win_pct</th>\n",
       "      <th>total_sv_win_pct</th>\n",
       "      <th>bp_save_pct</th>\n",
       "      <th>win_pct</th>\n",
       "      <th>total_matches</th>\n",
       "    </tr>\n",
       "  </thead>\n",
       "  <tbody>\n",
       "    <tr>\n",
       "      <th>0</th>\n",
       "      <td>Abedallah Shelbayh</td>\n",
       "      <td>Clay</td>\n",
       "      <td>1</td>\n",
       "      <td>4</td>\n",
       "      <td>0.035626</td>\n",
       "      <td>0.564362</td>\n",
       "      <td>0.655399</td>\n",
       "      <td>0.386274</td>\n",
       "      <td>0.539094</td>\n",
       "      <td>0.590774</td>\n",
       "      <td>0.250000</td>\n",
       "      <td>14</td>\n",
       "    </tr>\n",
       "    <tr>\n",
       "      <th>1</th>\n",
       "      <td>Abedallah Shelbayh</td>\n",
       "      <td>Grass</td>\n",
       "      <td>0</td>\n",
       "      <td>2</td>\n",
       "      <td>0.038305</td>\n",
       "      <td>0.570330</td>\n",
       "      <td>0.605695</td>\n",
       "      <td>0.464286</td>\n",
       "      <td>0.544898</td>\n",
       "      <td>0.500000</td>\n",
       "      <td>0.000000</td>\n",
       "      <td>14</td>\n",
       "    </tr>\n",
       "    <tr>\n",
       "      <th>2</th>\n",
       "      <td>Abedallah Shelbayh</td>\n",
       "      <td>Hard</td>\n",
       "      <td>2</td>\n",
       "      <td>8</td>\n",
       "      <td>0.078914</td>\n",
       "      <td>0.601158</td>\n",
       "      <td>0.690752</td>\n",
       "      <td>0.481069</td>\n",
       "      <td>0.602291</td>\n",
       "      <td>0.572754</td>\n",
       "      <td>0.250000</td>\n",
       "      <td>14</td>\n",
       "    </tr>\n",
       "    <tr>\n",
       "      <th>3</th>\n",
       "      <td>Adam Moundir</td>\n",
       "      <td>Clay</td>\n",
       "      <td>0</td>\n",
       "      <td>1</td>\n",
       "      <td>0.013514</td>\n",
       "      <td>0.513514</td>\n",
       "      <td>0.736842</td>\n",
       "      <td>0.500000</td>\n",
       "      <td>0.621622</td>\n",
       "      <td>0.600000</td>\n",
       "      <td>0.000000</td>\n",
       "      <td>1</td>\n",
       "    </tr>\n",
       "    <tr>\n",
       "      <th>4</th>\n",
       "      <td>Adam Neff</td>\n",
       "      <td>Hard</td>\n",
       "      <td>0</td>\n",
       "      <td>1</td>\n",
       "      <td>0.055556</td>\n",
       "      <td>0.569444</td>\n",
       "      <td>0.585366</td>\n",
       "      <td>0.387097</td>\n",
       "      <td>0.500000</td>\n",
       "      <td>0.636364</td>\n",
       "      <td>0.000000</td>\n",
       "      <td>1</td>\n",
       "    </tr>\n",
       "    <tr>\n",
       "      <th>...</th>\n",
       "      <td>...</td>\n",
       "      <td>...</td>\n",
       "      <td>...</td>\n",
       "      <td>...</td>\n",
       "      <td>...</td>\n",
       "      <td>...</td>\n",
       "      <td>...</td>\n",
       "      <td>...</td>\n",
       "      <td>...</td>\n",
       "      <td>...</td>\n",
       "      <td>...</td>\n",
       "      <td>...</td>\n",
       "    </tr>\n",
       "    <tr>\n",
       "      <th>1489</th>\n",
       "      <td>Zizou Bergs</td>\n",
       "      <td>Clay</td>\n",
       "      <td>4</td>\n",
       "      <td>11</td>\n",
       "      <td>0.080889</td>\n",
       "      <td>0.656036</td>\n",
       "      <td>0.706469</td>\n",
       "      <td>0.480533</td>\n",
       "      <td>0.630250</td>\n",
       "      <td>0.609696</td>\n",
       "      <td>0.363636</td>\n",
       "      <td>44</td>\n",
       "    </tr>\n",
       "    <tr>\n",
       "      <th>1490</th>\n",
       "      <td>Zizou Bergs</td>\n",
       "      <td>Grass</td>\n",
       "      <td>1</td>\n",
       "      <td>4</td>\n",
       "      <td>0.041875</td>\n",
       "      <td>0.661122</td>\n",
       "      <td>0.743992</td>\n",
       "      <td>0.511272</td>\n",
       "      <td>0.666592</td>\n",
       "      <td>0.568750</td>\n",
       "      <td>0.250000</td>\n",
       "      <td>44</td>\n",
       "    </tr>\n",
       "    <tr>\n",
       "      <th>1491</th>\n",
       "      <td>Zizou Bergs</td>\n",
       "      <td>Hard</td>\n",
       "      <td>10</td>\n",
       "      <td>29</td>\n",
       "      <td>0.078042</td>\n",
       "      <td>0.618456</td>\n",
       "      <td>0.707025</td>\n",
       "      <td>0.519077</td>\n",
       "      <td>0.633158</td>\n",
       "      <td>0.586024</td>\n",
       "      <td>0.344828</td>\n",
       "      <td>44</td>\n",
       "    </tr>\n",
       "    <tr>\n",
       "      <th>1492</th>\n",
       "      <td>Zsombor Piros</td>\n",
       "      <td>Clay</td>\n",
       "      <td>1</td>\n",
       "      <td>3</td>\n",
       "      <td>0.045662</td>\n",
       "      <td>0.621411</td>\n",
       "      <td>0.609430</td>\n",
       "      <td>0.578985</td>\n",
       "      <td>0.599475</td>\n",
       "      <td>0.709524</td>\n",
       "      <td>0.333333</td>\n",
       "      <td>4</td>\n",
       "    </tr>\n",
       "    <tr>\n",
       "      <th>1493</th>\n",
       "      <td>Zsombor Piros</td>\n",
       "      <td>Hard</td>\n",
       "      <td>0</td>\n",
       "      <td>1</td>\n",
       "      <td>0.092593</td>\n",
       "      <td>0.629630</td>\n",
       "      <td>0.441176</td>\n",
       "      <td>0.300000</td>\n",
       "      <td>0.388889</td>\n",
       "      <td>0.400000</td>\n",
       "      <td>0.000000</td>\n",
       "      <td>4</td>\n",
       "    </tr>\n",
       "  </tbody>\n",
       "</table>\n",
       "<p>1494 rows × 12 columns</p>\n",
       "</div>"
      ],
      "text/plain": [
       "             player_name surface  wins  total_matches_per_surface   ace_pct  \\\n",
       "0     Abedallah Shelbayh    Clay     1                          4  0.035626   \n",
       "1     Abedallah Shelbayh   Grass     0                          2  0.038305   \n",
       "2     Abedallah Shelbayh    Hard     2                          8  0.078914   \n",
       "3           Adam Moundir    Clay     0                          1  0.013514   \n",
       "4              Adam Neff    Hard     0                          1  0.055556   \n",
       "...                  ...     ...   ...                        ...       ...   \n",
       "1489         Zizou Bergs    Clay     4                         11  0.080889   \n",
       "1490         Zizou Bergs   Grass     1                          4  0.041875   \n",
       "1491         Zizou Bergs    Hard    10                         29  0.078042   \n",
       "1492       Zsombor Piros    Clay     1                          3  0.045662   \n",
       "1493       Zsombor Piros    Hard     0                          1  0.092593   \n",
       "\n",
       "      first_sv_pct  first_sv_win_pct  second_sv_win_pct  total_sv_win_pct  \\\n",
       "0         0.564362          0.655399           0.386274          0.539094   \n",
       "1         0.570330          0.605695           0.464286          0.544898   \n",
       "2         0.601158          0.690752           0.481069          0.602291   \n",
       "3         0.513514          0.736842           0.500000          0.621622   \n",
       "4         0.569444          0.585366           0.387097          0.500000   \n",
       "...            ...               ...                ...               ...   \n",
       "1489      0.656036          0.706469           0.480533          0.630250   \n",
       "1490      0.661122          0.743992           0.511272          0.666592   \n",
       "1491      0.618456          0.707025           0.519077          0.633158   \n",
       "1492      0.621411          0.609430           0.578985          0.599475   \n",
       "1493      0.629630          0.441176           0.300000          0.388889   \n",
       "\n",
       "      bp_save_pct   win_pct  total_matches  \n",
       "0        0.590774  0.250000             14  \n",
       "1        0.500000  0.000000             14  \n",
       "2        0.572754  0.250000             14  \n",
       "3        0.600000  0.000000              1  \n",
       "4        0.636364  0.000000              1  \n",
       "...           ...       ...            ...  \n",
       "1489     0.609696  0.363636             44  \n",
       "1490     0.568750  0.250000             44  \n",
       "1491     0.586024  0.344828             44  \n",
       "1492     0.709524  0.333333              4  \n",
       "1493     0.400000  0.000000              4  \n",
       "\n",
       "[1494 rows x 12 columns]"
      ]
     },
     "execution_count": 5,
     "metadata": {},
     "output_type": "execute_result"
    }
   ],
   "source": [
    "total_matches = player_surface.groupby('player_name')['total_matches_per_surface'].agg('sum').reset_index()\n",
    "total_matches= total_matches.rename(columns = {'total_matches_per_surface' : 'total_matches'})\n",
    "player_surface = pd.merge(player_surface, total_matches, on = 'player_name')\n",
    "player_surface"
   ]
  },
  {
   "cell_type": "markdown",
   "id": "262e0295",
   "metadata": {},
   "source": [
    "## Does hitting more aces lead to more wins?"
   ]
  },
  {
   "cell_type": "code",
   "execution_count": 16,
   "id": "83e939d1",
   "metadata": {},
   "outputs": [
    {
     "data": {
      "application/vnd.plotly.v1+json": {
       "config": {
        "plotlyServerURL": "https://plot.ly"
       },
       "data": [
        {
         "customdata": [
          [
           "Adrian Mannarino"
          ],
          [
           "Albert Ramos"
          ],
          [
           "Alejandro Davidovich Fokina"
          ],
          [
           "Alex De Minaur"
          ],
          [
           "Alexander Bublik"
          ],
          [
           "Alexander Zverev"
          ],
          [
           "Alexei Popyrin"
          ],
          [
           "Aljaz Bedene"
          ],
          [
           "Andreas Seppi"
          ],
          [
           "Andrey Rublev"
          ],
          [
           "Andy Murray"
          ],
          [
           "Aslan Karatsev"
          ],
          [
           "Benoit Paire"
          ],
          [
           "Bernard Tomic"
          ],
          [
           "Borna Coric"
          ],
          [
           "Botic Van De Zandschulp"
          ],
          [
           "Brandon Nakashima"
          ],
          [
           "Cameron Norrie"
          ],
          [
           "Carlos Alcaraz"
          ],
          [
           "Casper Ruud"
          ],
          [
           "Cristian Garin"
          ],
          [
           "Damir Dzumhur"
          ],
          [
           "Daniel Evans"
          ],
          [
           "Daniil Medvedev"
          ],
          [
           "David Ferrer"
          ],
          [
           "David Goffin"
          ],
          [
           "Denis Shapovalov"
          ],
          [
           "Diego Schwartzman"
          ],
          [
           "Dominic Thiem"
          ],
          [
           "Dusan Lajovic"
          ],
          [
           "Emil Ruusuvuori"
          ],
          [
           "Fabio Fognini"
          ],
          [
           "Federico Delbonis"
          ],
          [
           "Feliciano Lopez"
          ],
          [
           "Felix Auger Aliassime"
          ],
          [
           "Fernando Verdasco"
          ],
          [
           "Filip Krajinovic"
          ],
          [
           "Frances Tiafoe"
          ],
          [
           "Francisco Cerundolo"
          ],
          [
           "Gael Monfils"
          ],
          [
           "Gilles Muller"
          ],
          [
           "Gilles Simon"
          ],
          [
           "Grigor Dimitrov"
          ],
          [
           "Guido Pella"
          ],
          [
           "Guillermo Garcia Lopez"
          ],
          [
           "Holger Rune"
          ],
          [
           "Hubert Hurkacz"
          ],
          [
           "Ilya Ivashka"
          ],
          [
           "Ivo Karlovic"
          ],
          [
           "Jack Sock"
          ],
          [
           "Jan Lennard Struff"
          ],
          [
           "Jannik Sinner"
          ],
          [
           "Jaume Munar"
          ],
          [
           "Jeremy Chardy"
          ],
          [
           "Jiri Vesely"
          ],
          [
           "Jo-Wilfried Tsonga"
          ],
          [
           "Joao Sousa"
          ],
          [
           "John Isner"
          ],
          [
           "John Millman"
          ],
          [
           "Jordan Thompson"
          ],
          [
           "Juan Martin del Potro"
          ],
          [
           "Karen Khachanov"
          ],
          [
           "Kei Nishikori"
          ],
          [
           "Kevin Anderson"
          ],
          [
           "Kyle Edmund"
          ],
          [
           "Laslo Djere"
          ],
          [
           "Leonardo Mayer"
          ],
          [
           "Lorenzo Musetti"
          ],
          [
           "Lorenzo Sonego"
          ],
          [
           "Lucas Pouille"
          ],
          [
           "Mackenzie Mcdonald"
          ],
          [
           "Malek Jaziri"
          ],
          [
           "Marco Cecchinato"
          ],
          [
           "Marcos Giron"
          ],
          [
           "Marin Cilic"
          ],
          [
           "Marton Fucsovics"
          ],
          [
           "Matteo Berrettini"
          ],
          [
           "Mikhail Kukushkin"
          ],
          [
           "Milos Raonic"
          ],
          [
           "Miomir Kecmanovic"
          ],
          [
           "Mischa Zverev"
          ],
          [
           "Nick Kyrgios"
          ],
          [
           "Nicolas Jarry"
          ],
          [
           "Nikoloz Basilashvili"
          ],
          [
           "Novak Djokovic"
          ],
          [
           "Pablo Carreno Busta"
          ],
          [
           "Pablo Cuevas"
          ],
          [
           "Paolo Lorenzi"
          ],
          [
           "Pedro Martinez"
          ],
          [
           "Peter Gojowczyk"
          ],
          [
           "Philipp Kohlschreiber"
          ],
          [
           "Pierre Hugues Herbert"
          ],
          [
           "Radu Albot"
          ],
          [
           "Rafael Nadal"
          ],
          [
           "Reilly Opelka"
          ],
          [
           "Richard Gasquet"
          ],
          [
           "Roberto Bautista Agut"
          ],
          [
           "Roberto Carballes Baena"
          ],
          [
           "Robin Haase"
          ],
          [
           "Roger Federer"
          ],
          [
           "Sam Querrey"
          ],
          [
           "Sebastian Baez"
          ],
          [
           "Sebastian Korda"
          ],
          [
           "Stan Wawrinka"
          ],
          [
           "Stefanos Tsitsipas"
          ],
          [
           "Steve Johnson"
          ],
          [
           "Tallon Griekspoor"
          ],
          [
           "Taro Daniel"
          ],
          [
           "Taylor Fritz"
          ],
          [
           "Thiago Monteiro"
          ],
          [
           "Tomas Berdych"
          ],
          [
           "Tommy Paul"
          ],
          [
           "Ugo Humbert"
          ],
          [
           "Vasek Pospisil"
          ],
          [
           "Viktor Troicki"
          ],
          [
           "Yoshihito Nishioka"
          ]
         ],
         "hovertemplate": "surface=Clay<br>Ace Percentage=%{x}<br>Win Percentage=%{y}<br>player_name=%{customdata[0]}<extra></extra>",
         "legendgroup": "Clay",
         "marker": {
          "color": "#BF5700",
          "symbol": "circle"
         },
         "mode": "markers",
         "name": "Clay",
         "orientation": "v",
         "showlegend": true,
         "type": "scatter",
         "x": {
          "bdata": "1dhCQAGHoT8KXgUeyxiiPx4tuDci2Jc/7gimpCm/nD/fn5iDhJe8P2nv3HkNurY/aCyBtDsptj9qH1TCqt20P5TXqpZ6GKk/ERs+cac/sD/YfUOxI6GwP6ZZFvDYwaY/liS56TcytT/gum6bPD6wP0U3cdQ7eLA/5z1iEwNXpj+QPqRUtjiyPzgAw6y+n6k/eBJZWyOroT+DuZJsLm+rP8RIW6b3pqc/P/3b0nuZmz/+W8VpuCSiP2pfWit9xKs/K+C58RRUnz+ODoRal1+rP/DGiynkQrE/7R2KyD/ylT/Rjs5+O5iuPxWui2h7AqQ/vCndnuZToz+xcn/zHXqgP3CgrlGHt6Q/hUKt02BTuz9nuEsLmaC0P0Jb9gADmqg/xPoyXocIpT/8t2kUjvuyP6/kM67i4pw/O4I10YM2rT/Vh5gC7Ra7P1LEP6YGU6A/Z4BH2YZAsD+rS+EDoPCpP1PR2aevY6U/B/iMbO91pD+k8sq6ipq7P9f/Tf565as/pd0veNyMyj/9dHECHvStP9y9Hah4K7g/eL44EQL2pT9XFwC9upOhP/trBoPK668/Cav769U2sz86LrRyE76yP1NR1aP/Q6Q/CNQX4O5Dyz8HatDE8bKiP6LS7i8YMbA/UCiya7cZuD9tWv6wtLuwPx8yNJh8Zp0/htMLeA/3wD/7pQuqcuurP2uCxCGgHa0/2XQcsnMasj9ePvMkwcadP6GCHTjSwak/HH5vnP78qj+sgfnFVm2mP9b2hcXQqp8/E3AN4lhJpz/N6gLHNPurP+9R0TTaLrg/anUNLt1epD/NeJ7pB0C5P3XJYpHn4ZM/yemEUR9lwj8Xxo+IggOlP7vGPn/ViK8/VInr09ItwT+LPTmH0Pq3Px0g4Hvp154/yBIkfahrqj9RodrEyuWmP2dgv2LB37E/wtLpWcwoqT/YLwfyDWiUP2Av9k4JO7I/s92PcTRAsD95sWG/S6y0Pwcz54sggJI/1gMiX+IooD+m0cvrbI3HP2HEJYeEIqk/Qt+KNmYmoj9QUaTQyCigP8hu8nb367A/pXYgmnfWsz9m4eZHn9XDPxTvmWokCpk/JINiRBeJrT/6a2OUl1SyP1YfHDbfVLA/jZJhc2pLsz/80HjhcGeuP7N9WuctMKM/BDJWmQjBuT84ZzXC+0KuPwbXx3V4RbE/FMrvWAdwpj8gOnJpb7CpP1kF168URLQ/dhFqY0sqsj815EwJmqmTPw==",
          "dtype": "f8"
         },
         "xaxis": "x",
         "y": {
          "bdata": "L6G9hPYSyj8AAAAAAIDhP3kN5TWU1+A/ruxzSE0w3j+66KKLLrrYP7i3t7e3t+c/ntiJndiJ3T8LWchCFrLgP1100UUXXdQ/13Jws1+I5T/uaYTlnkboPxj0BX1BX+A/H8F9BPcR3D8AAAAAAADQP3H1g44KfOE/KvJZN5gi3z8cx3Ecx3HcPxQ7sRM7seM/iEXKwNOt6T9zmMMc5jDnP7y7u7u7u+M/H8F9BPcR3D85BS+n4OXUP7mnEZZ7GuE/NUiDNEiD5D8qH8b9uqTiP2nzPsUlQ+A/kiRJkiRJ4j/PkJi3MyTmP+sGU+SzbuA/eHh4eHh42D/f9KY3venhPzSuRYKaCuE/lNdQXkN53T+FChUqVKjgPxDjfl1S+eA/jbDc0wjL3T9nt/CrMZHeP+miiy666OI/ZmZmZmZm4D8YhmEYhmHYPw3lNZTXUN4/kiRJkiRJ4j/lywZNvmzgPwAAAAAAAOA/AAAAAAAA4z/3EtpLaC/hP1paWlpaWto/mpmZmZmZ2T8RERERERHhPzvavE9xyeA/TjbZZJNN5j/QF/QFfUHfP97d3d3d3d0/P+mTPumT3j+SJEmSJEniPzJnzBlzxtw/09LS0tLS4j+nN73pTW/aP9uVqF2J2tU/VVVVVVVV5T/tJbSX0F7iP431obE+NOY/sRM7sRM74T/Wh8b60FjfP9e3AUM1HeM/jC666KKL3j/btm3btm3jP5h0ah7krt8/nud5nud53j+4HoXrUbjOP6c3velNb9o/Z7fwqzGR3j8or6G8hvLaP8HTrflhkeI/k18s+cWS3z8MlPBGU+fnP9InfdInfdI/lTVlTVlT5j9QB3VQB3XgP8ln3WCKfNY/MzMzMzMz4z/zIHf9bLHiP4wuuuiii94/Z+UnxFn56T/BeCv7HFLjPyHOyk+Is+I/27Zt27Zt2z/P8zzP8zzfP0N5DeU1lNc/AAAAAAAA4j9cvuVbvuXbP0YXXXTRRdc/etOb3vSm6z/nnHPOOefcP9YZqZhbneE/AAAAAABA4j9oICod2TPgP4qd2Imd2Nk/doMp8lk36D8XXXTRRRfdP5MriMkVxOQ/6wZT5LNu4D9i3s6QmLfjP1DtOZm+Sug/SZIkSZIk4T+amZmZmZnZPzuxEzuxE9s/dWTPQFQ64j+5ZAjW0ebdP5Q+6ZM+6eM/F1100UUX3T/NzMzMzMzUPwAAAAAAAAAAHdRBHdRB3T96nud5nufZPw==",
          "dtype": "f8"
         },
         "yaxis": "y"
        },
        {
         "customdata": [
          [
           "Adrian Mannarino"
          ],
          [
           "Albert Ramos"
          ],
          [
           "Alejandro Davidovich Fokina"
          ],
          [
           "Alex De Minaur"
          ],
          [
           "Alexander Bublik"
          ],
          [
           "Alexander Zverev"
          ],
          [
           "Alexei Popyrin"
          ],
          [
           "Aljaz Bedene"
          ],
          [
           "Andreas Seppi"
          ],
          [
           "Andrey Rublev"
          ],
          [
           "Andy Murray"
          ],
          [
           "Aslan Karatsev"
          ],
          [
           "Benoit Paire"
          ],
          [
           "Bernard Tomic"
          ],
          [
           "Borna Coric"
          ],
          [
           "Botic Van De Zandschulp"
          ],
          [
           "Brandon Nakashima"
          ],
          [
           "Cameron Norrie"
          ],
          [
           "Carlos Alcaraz"
          ],
          [
           "Casper Ruud"
          ],
          [
           "Cristian Garin"
          ],
          [
           "Damir Dzumhur"
          ],
          [
           "Daniel Evans"
          ],
          [
           "Daniil Medvedev"
          ],
          [
           "David Ferrer"
          ],
          [
           "David Goffin"
          ],
          [
           "Denis Shapovalov"
          ],
          [
           "Diego Schwartzman"
          ],
          [
           "Dominic Thiem"
          ],
          [
           "Dusan Lajovic"
          ],
          [
           "Emil Ruusuvuori"
          ],
          [
           "Fabio Fognini"
          ],
          [
           "Federico Delbonis"
          ],
          [
           "Feliciano Lopez"
          ],
          [
           "Felix Auger Aliassime"
          ],
          [
           "Fernando Verdasco"
          ],
          [
           "Filip Krajinovic"
          ],
          [
           "Frances Tiafoe"
          ],
          [
           "Francisco Cerundolo"
          ],
          [
           "Gael Monfils"
          ],
          [
           "Gilles Muller"
          ],
          [
           "Gilles Simon"
          ],
          [
           "Grigor Dimitrov"
          ],
          [
           "Guido Pella"
          ],
          [
           "Guillermo Garcia Lopez"
          ],
          [
           "Holger Rune"
          ],
          [
           "Hubert Hurkacz"
          ],
          [
           "Ilya Ivashka"
          ],
          [
           "Ivo Karlovic"
          ],
          [
           "Jack Sock"
          ],
          [
           "Jan Lennard Struff"
          ],
          [
           "Jannik Sinner"
          ],
          [
           "Jaume Munar"
          ],
          [
           "Jeremy Chardy"
          ],
          [
           "Jiri Vesely"
          ],
          [
           "Jo-Wilfried Tsonga"
          ],
          [
           "Joao Sousa"
          ],
          [
           "John Isner"
          ],
          [
           "John Millman"
          ],
          [
           "Jordan Thompson"
          ],
          [
           "Juan Martin del Potro"
          ],
          [
           "Karen Khachanov"
          ],
          [
           "Kei Nishikori"
          ],
          [
           "Kevin Anderson"
          ],
          [
           "Kyle Edmund"
          ],
          [
           "Laslo Djere"
          ],
          [
           "Leonardo Mayer"
          ],
          [
           "Lorenzo Musetti"
          ],
          [
           "Lorenzo Sonego"
          ],
          [
           "Lucas Pouille"
          ],
          [
           "Mackenzie Mcdonald"
          ],
          [
           "Malek Jaziri"
          ],
          [
           "Marco Cecchinato"
          ],
          [
           "Marcos Giron"
          ],
          [
           "Marin Cilic"
          ],
          [
           "Marton Fucsovics"
          ],
          [
           "Matteo Berrettini"
          ],
          [
           "Mikhail Kukushkin"
          ],
          [
           "Milos Raonic"
          ],
          [
           "Miomir Kecmanovic"
          ],
          [
           "Mischa Zverev"
          ],
          [
           "Nick Kyrgios"
          ],
          [
           "Nicolas Jarry"
          ],
          [
           "Nikoloz Basilashvili"
          ],
          [
           "Novak Djokovic"
          ],
          [
           "Pablo Carreno Busta"
          ],
          [
           "Pablo Cuevas"
          ],
          [
           "Paolo Lorenzi"
          ],
          [
           "Pedro Martinez"
          ],
          [
           "Peter Gojowczyk"
          ],
          [
           "Philipp Kohlschreiber"
          ],
          [
           "Pierre Hugues Herbert"
          ],
          [
           "Radu Albot"
          ],
          [
           "Rafael Nadal"
          ],
          [
           "Reilly Opelka"
          ],
          [
           "Richard Gasquet"
          ],
          [
           "Roberto Bautista Agut"
          ],
          [
           "Roberto Carballes Baena"
          ],
          [
           "Robin Haase"
          ],
          [
           "Roger Federer"
          ],
          [
           "Sam Querrey"
          ],
          [
           "Sebastian Baez"
          ],
          [
           "Sebastian Korda"
          ],
          [
           "Stan Wawrinka"
          ],
          [
           "Stefanos Tsitsipas"
          ],
          [
           "Steve Johnson"
          ],
          [
           "Tallon Griekspoor"
          ],
          [
           "Taro Daniel"
          ],
          [
           "Taylor Fritz"
          ],
          [
           "Thiago Monteiro"
          ],
          [
           "Tomas Berdych"
          ],
          [
           "Tommy Paul"
          ],
          [
           "Ugo Humbert"
          ],
          [
           "Vasek Pospisil"
          ],
          [
           "Viktor Troicki"
          ],
          [
           "Yoshihito Nishioka"
          ]
         ],
         "hovertemplate": "surface=Grass<br>Ace Percentage=%{x}<br>Win Percentage=%{y}<br>player_name=%{customdata[0]}<extra></extra>",
         "legendgroup": "Grass",
         "marker": {
          "color": "green",
          "symbol": "circle"
         },
         "mode": "markers",
         "name": "Grass",
         "orientation": "v",
         "showlegend": true,
         "type": "scatter",
         "x": {
          "bdata": "DPkIQYZEsD+NpshV9UOpP9lQISVn9KY/9JYSnYVfqj8Xot8GRSbJP34NjZZHe8I/MpqV+hePvj/VqfzXe1q/P8IRA9vPO7U/SIHWGC29uD+0W52Ihnq2P4zbDQ6tbKw//hyUmc/quz+0Lq6H50C6Pyyhg3KgArs/ufOa0JmhuT9844Ar6jO3P8AHW0xMwLA/KBrXKrROsj8ytpLQOj21PyNE2gtY4bA/5YHhyLc7qD/srdedzUCrP4+vYc6XH74/LK5KTC2AmD/ix2sQNTS0P9DCyv7xaL0/5Q4fl+2ElD8woaSygSe7P6HiYAc5w6k/UIbrD8y1sz8zee9ZtCeyPx237MGblqk/F9nveC4uxD+eJ5Ppv9rFP+UlTkBEBMA/PqlvDvM7sD+G7QRkCm24P0AHZ1m/+KQ/TXzYmI2AwD9tpjEUlkzJPzrjpXisuqg/+QsTTJsGwD/TGbAtHGSxP3ULfeGYlao/bp4VEtZBtz+eay9zuy/DP8FsjfKnxLY/pKsvA464zz/DTqE0IIq1PzJ8EtzaIMQ/U1UsDmPduD8jbFIZrQCvP84vkq7HcsA/D/6d6pM+wD8voljGGMrDP15s6ZRc2bA/7Ujcwkpq0D8TzeHeCYqjPyLGwBtHWLg/EXReRPPCwT+QBdG2Mky6P5pZ5lsE7Kc/nxBkfw8zyz8rKEptKFm1P7+GA7JnZbY/f9Zg8vPcsT9zgKc58n2tP4xXEnPZgrk/fJzpxeOtvD+qQWwklrOwP+vNx/OC/60/qVDjDp5BsD/o+xdjKdGyPxLSSPTyD8g/0hSeZ1nmsz9nOLk5PIDEPyV5CEG+r6I/NrHv+wtmzz/TLiDqqdywP4eZGeiHNro/kBoKwXO7yj9DusxINXzAPzUYzH5eOqg/ZUevGaYEuD9UBmD4fvOlP1zGQ1tSM8A/J5CkZBSEoz8urBsmcYWfP3gTiuHF17U/oKiHzG7LuT8tEoVOVE28P5h6G1WfuaY/ROts+zkItT+EpfdB/PjHPwj7rhQ+Ua8/d+apZJaTpj/0eMyZDampP/hYoWgFTrg/gb9g1I1wvj/mAiW52nzKP1BQVTcUSp4/zUdgIw3YuT+HZcekwlm6P5+xbPyQ4rs/mDkDkXSWuj8+NHhxxOK6P5bujUP6Mqw/Kw7QHyeWwj+84nOkZUizP4wwL0cQYb4/hotz9JTOsj+WSnwwnb23P4hqPTEprcA/mafSqcM3uj8EnQBpAgqbPw==",
          "dtype": "f8"
         },
         "xaxis": "x",
         "y": {
          "bdata": "4wUyKV4g4z8eHh4eHh7OPwAAAAAAANg/OQUvp+Dl5D/sxE7sxE7kP8P1KFyPwuU/MzMzMzMz0z/ZiZ3YiZ3YP5AGaZAGaeA/wnJPIyz35D+GYRiGYRjmP1VVVVVVVdU/+N5777333j8iIiIiIiLiP57neZ7ned4/DeU1lNdQ3j+kcD0K16PgPyxRuxK1K+E/HMdxHMdx7D+rqqqqqqraPw3lNZTXUN4/AAAAAAAA4j/UCMs9jbDcP6alpaWlpeU/2Ymd2Imd2D8zMzMzMzPjP2ZmZmZmZt4/q6qqqqqq2j8AAAAAAADgP3kN5TWU19A/6k1vetOb3j/poosuuujiPwAAAAAAAAAAIQtZyEIW4j/UQR3UQR3kPwrXo3A9Ctc/AAAAAAAA4D/0MTgfg/PhP97d3d3d3d0/jDHGGGOM4T92Yid2YifmPxdddNFFF90/whT5rBtM4T8pXI/C9SjcP5qZmZmZmdk/09LS0tLS4j81SIM0SIPkPwtZyEIWsuA/lnsaYbmn4T8RERERERHhP7AFW7AFW+A/ZmZmZmZm5j/btm3btm3LP9QIyz2NsNw/AAAAAAAA5D9sKK+hvIbiPxQ7sRM7sdM/UV5DeQ3l5T9huacRlnvaP4mIiIiIiOA/AAAAAAAA5j8UO7ETO7HjP1VVVVVVVeU/rbXWWmut5T8XXXTRRRfdP1VVVVVVVdU/AAAAAAAA2D8lSZIkSZLkP/Maymsor+E/ZZNNNtlk4z988MEHH3zgP57YiZ3Yic0/RhdddNFFxz+EEEIIIYTgP3h4eHh4eOg/CB988MEH3z+xEzuxEzvpP57neZ7ned4/hixkIQtZ6D8AAAAAAADeP2IndmInduI/S9SuRO1K5D8cx3Ecx3HcP7y7u7u7u9s/5rEVQcNJ7T+XlpaWlpbWPxdddNFFF90/VVVVVVVVxT8zMzMzMzPTPxdddNFFF90/ewntJbSX4D+4HoXrUbjeP1VVVVVVVdU/o4suuuii6z+amZmZmZnZP9IgDdIgDeI/0V5Cewnt5T8eHh4eHh7OP6uqqqqqqto/zvsUlwzB6j8lSZIkSZLkPzMzMzMzM9M/exSuR+F65D8vuuiiiy7aP9IgDdIgDeI/j8L1KFyP4j9oL6G9hPbiPwAAAAAAAAAAwXgr+xxS4z8cx3Ecx3HMP1100UUXXeQ/VVVVVVVV5T8vuuiiiy7iPwrXo3A9Ctc/VVVVVVVV1T8RERERERHRPw==",
          "dtype": "f8"
         },
         "yaxis": "y"
        },
        {
         "customdata": [
          [
           "Adrian Mannarino"
          ],
          [
           "Albert Ramos"
          ],
          [
           "Alejandro Davidovich Fokina"
          ],
          [
           "Alex De Minaur"
          ],
          [
           "Alexander Bublik"
          ],
          [
           "Alexander Zverev"
          ],
          [
           "Alexei Popyrin"
          ],
          [
           "Aljaz Bedene"
          ],
          [
           "Andreas Seppi"
          ],
          [
           "Andrey Rublev"
          ],
          [
           "Andy Murray"
          ],
          [
           "Aslan Karatsev"
          ],
          [
           "Benoit Paire"
          ],
          [
           "Bernard Tomic"
          ],
          [
           "Borna Coric"
          ],
          [
           "Botic Van De Zandschulp"
          ],
          [
           "Brandon Nakashima"
          ],
          [
           "Cameron Norrie"
          ],
          [
           "Carlos Alcaraz"
          ],
          [
           "Casper Ruud"
          ],
          [
           "Cristian Garin"
          ],
          [
           "Damir Dzumhur"
          ],
          [
           "Daniel Evans"
          ],
          [
           "Daniil Medvedev"
          ],
          [
           "David Ferrer"
          ],
          [
           "David Goffin"
          ],
          [
           "Denis Shapovalov"
          ],
          [
           "Diego Schwartzman"
          ],
          [
           "Dominic Thiem"
          ],
          [
           "Dusan Lajovic"
          ],
          [
           "Emil Ruusuvuori"
          ],
          [
           "Fabio Fognini"
          ],
          [
           "Federico Delbonis"
          ],
          [
           "Feliciano Lopez"
          ],
          [
           "Felix Auger Aliassime"
          ],
          [
           "Fernando Verdasco"
          ],
          [
           "Filip Krajinovic"
          ],
          [
           "Frances Tiafoe"
          ],
          [
           "Francisco Cerundolo"
          ],
          [
           "Gael Monfils"
          ],
          [
           "Gilles Muller"
          ],
          [
           "Gilles Simon"
          ],
          [
           "Grigor Dimitrov"
          ],
          [
           "Guido Pella"
          ],
          [
           "Guillermo Garcia Lopez"
          ],
          [
           "Holger Rune"
          ],
          [
           "Hubert Hurkacz"
          ],
          [
           "Ilya Ivashka"
          ],
          [
           "Ivo Karlovic"
          ],
          [
           "Jack Sock"
          ],
          [
           "Jan Lennard Struff"
          ],
          [
           "Jannik Sinner"
          ],
          [
           "Jaume Munar"
          ],
          [
           "Jeremy Chardy"
          ],
          [
           "Jiri Vesely"
          ],
          [
           "Jo-Wilfried Tsonga"
          ],
          [
           "Joao Sousa"
          ],
          [
           "John Isner"
          ],
          [
           "John Millman"
          ],
          [
           "Jordan Thompson"
          ],
          [
           "Juan Martin del Potro"
          ],
          [
           "Karen Khachanov"
          ],
          [
           "Kei Nishikori"
          ],
          [
           "Kevin Anderson"
          ],
          [
           "Kyle Edmund"
          ],
          [
           "Laslo Djere"
          ],
          [
           "Leonardo Mayer"
          ],
          [
           "Lorenzo Musetti"
          ],
          [
           "Lorenzo Sonego"
          ],
          [
           "Lucas Pouille"
          ],
          [
           "Mackenzie Mcdonald"
          ],
          [
           "Malek Jaziri"
          ],
          [
           "Marco Cecchinato"
          ],
          [
           "Marcos Giron"
          ],
          [
           "Marin Cilic"
          ],
          [
           "Marton Fucsovics"
          ],
          [
           "Matteo Berrettini"
          ],
          [
           "Mikhail Kukushkin"
          ],
          [
           "Milos Raonic"
          ],
          [
           "Miomir Kecmanovic"
          ],
          [
           "Mischa Zverev"
          ],
          [
           "Nick Kyrgios"
          ],
          [
           "Nicolas Jarry"
          ],
          [
           "Nikoloz Basilashvili"
          ],
          [
           "Novak Djokovic"
          ],
          [
           "Pablo Carreno Busta"
          ],
          [
           "Pablo Cuevas"
          ],
          [
           "Paolo Lorenzi"
          ],
          [
           "Pedro Martinez"
          ],
          [
           "Peter Gojowczyk"
          ],
          [
           "Philipp Kohlschreiber"
          ],
          [
           "Pierre Hugues Herbert"
          ],
          [
           "Radu Albot"
          ],
          [
           "Rafael Nadal"
          ],
          [
           "Reilly Opelka"
          ],
          [
           "Richard Gasquet"
          ],
          [
           "Roberto Bautista Agut"
          ],
          [
           "Roberto Carballes Baena"
          ],
          [
           "Robin Haase"
          ],
          [
           "Roger Federer"
          ],
          [
           "Sam Querrey"
          ],
          [
           "Sebastian Baez"
          ],
          [
           "Sebastian Korda"
          ],
          [
           "Stan Wawrinka"
          ],
          [
           "Stefanos Tsitsipas"
          ],
          [
           "Steve Johnson"
          ],
          [
           "Tallon Griekspoor"
          ],
          [
           "Taro Daniel"
          ],
          [
           "Taylor Fritz"
          ],
          [
           "Thiago Monteiro"
          ],
          [
           "Tomas Berdych"
          ],
          [
           "Tommy Paul"
          ],
          [
           "Ugo Humbert"
          ],
          [
           "Vasek Pospisil"
          ],
          [
           "Viktor Troicki"
          ],
          [
           "Yoshihito Nishioka"
          ]
         ],
         "hovertemplate": "surface=Hard<br>Ace Percentage=%{x}<br>Win Percentage=%{y}<br>player_name=%{customdata[0]}<extra></extra>",
         "legendgroup": "Hard",
         "marker": {
          "color": "blue",
          "symbol": "circle"
         },
         "mode": "markers",
         "name": "Hard",
         "orientation": "v",
         "showlegend": true,
         "type": "scatter",
         "x": {
          "bdata": "hwcTcToSsT/+njVyflKpPyD7fonO1Kc/XAcEbpEhrD+pSqVMDODCP1HHGbzE0b4/+tRCd2IJvj8Zz6IY7kHAP2A6COTahLI/d50JunF0uj8uKelZlzi1P3noEDHgn7I/xwPffgEJvj+ds4TZkKy8PzU80rnnc7U/DpcJFsuBtD8gYgFmMEG7PxIebzuF3bA/2pql6aPprj9Yqksgy2i0P+J3cW0VOqw/S0qN2FM5oD8NZn+xNz6uP119bDlsMb0/9c+Ph/m0nz8TV5Sj/i6zP1mQUebkHb0/gP0ILJJEnj+TKNV4mIi1P/WEHfbzaqg/pEwQuHKTsD9LZpZ73XKpP4oKMOlHZqo/Bvu/WivFwj/2NJO0G5TAP3mZcjRFdbQ/6kNkRCOnsD/ivtoCcqq3PyOm9pxLM6g/FIBsOHqWvD/ctMldVFPIP7SA7q1XN6k//xLKZ4hRtz/jNQauB7OxP/ihzXpRXao/nLLz/zZatT/cylv60YPCPxw3C7E3CrM/OLeVFVfozj9ebitXGRm2P7yOUeAsGL8/uZ3Lco50tT9BEhvxZJqvP4iMrPllb70/2HnHB0ezvz+hGQmjYJDBPwDUZ1H00qs/4aZAsIq8zz/y1XfaJNurP9vToNDQn7Y/QeuqkkHhvT8i40U/DXy7P/+ujeQFGKg/J8geLPXAxz/vtxB0z9q1PyajJeSerrU/9GjHS00Vtz+1s2zKDROsPxJXgEG2OLc/EvW4+NSyuT9FWqQd3kGxP8UT3L/2ias/ejFW+jRFsj+AfwcAWS2xP6AxwhAyLsE/0l04m+4orD+Ak1Sk6EvAP5Argy/+mqI/cJfbWVhNyz8NfHZgipmsPw1w9kQ6VrM/8KMdfhymyT+mhVcOG6y/PzB6luysAa4/wFwVO2f1tT9NrIc2x66vP8G8e8bX9rM/Cf59TQ90rD8k3tAfe/uiP9xc27KmO7c/RR1M/usosT8vxhcCf3G7PyN9h/kuGaQ/Fyyzdo7Orj82Zsor4ZPNPzOnE5+357E/M/yoI9q5pz9MGHFVc8ekP/SwRccQbLc/9YxUkx8rvz8qfkXXDHPGP1H8a5ZVmZo/4OAnRJ0BuT+z2fM5Vzq6P2rd4NKvyrk/lrWOcTTWuz/Eq/eAZHq7P5o/59Mtjqs/E+MN5wkBwD+0w/RgNhG1P3OwIEK+mbs/hKpn3lWwsT+htbEePxC4PyWyTzLXh70/Mo7RgSbpvD/7re2rYGyaPw==",
          "dtype": "f8"
         },
         "xaxis": "x",
         "y": {
          "bdata": "sKvw5YYY4D+vsjij3cPWP3FCSp5lRN8/gsrZLfxq5D+GvdKfsx3fP+Y7dJvqMeY/ivRA5ewW3j+HG2644YbbPwAAAAAAAOA/TEHoH93G5D+VS7mUS7nkPwAAAAAAAOA/x/rQWB8a2z8WspCFLGThP6gRlnsaYeE/AAAAAAAA4D+MMcYYY4zhPwIncAIncOI/SQ9Uzm7h5z9T59ceclnhP8SIESNGjNg/6vp0fbo+3T/F0x5XAcHgP+adeWfemec/0y/90i/94j9Zb/fsYzPiPzLGGGOMMeI/yQR6p67l4D/lNZTXUF7jP9nY2NjY2Ng/dNFFF1104T8bWV2GvdLfP5o0adKkSdM/S0tLS0tL2z9JkiRJkiTjP2EfF/ZxYd8/Kmj1pYJW3z9LP3Ma3HnhPxA++OCDD94/Nso1yjXK5T8WCCPtWIHgPxEO4RAO4eA/1cJKTy2s5D9t1Hc26jvbP5Ey8HRrftg/9DzP8zzP4z/owWpax5vjP1K4HoXrUeA/27Zt27Zt3z9JOKV58SfiPx+ZQO/Utdw/5sjPFbMc6T+TJk2aNGnSP3usZeiA3d4/G63RGq3R2j8URVEURVHkP1KQ/HmVxdk/zvsUlwzB4j/UrkTtStTeP/jee++9994/etOb3vSm5z+rqqqqqqriP2N9aKwPjeU/OffZBcSm4j8EBw4cOHDgP+/UtRzc7Nc/AAAAAAAA3D+SJEmSJEneP8Zvl3oyfts/xOQKYnIF4T/qTW9605vePwAAAAAAANg/CtejcD0Kxz+6N6BMXOneP/OpF/OpF+M/uSPuiDvi3j8TP6PEzyjhP9PS0tLS0to/kNXsSb6P5T/aOvSbrUPfPyeaaKKJJto/Yg5zmMMc5j++Y2pg75jaP9AuIDaVhtw/33vvvffe6z9sM2oN5CTjP8prKK+hvNY/OY7jOI7j2D+JiIiIiIjYP1XMrc5Ixdw/AAAAAAAA4D+90Au90AvdP4uv+Iqv+No/U8B8ILuw6D+ZSA9Uzm7hPxolfkaJn+E/0hMcPcHR4z9kamDvmBrYPz6NsNzTCNs/S/Bt/gqz6j+SPQNR6cjeP9BwUvflsdU/lD7pkz7p4z/iQs1JIC7kP0CMxvsKfeQ/Nuo7G/Wd3T+YdGoe5K7fP3lsRdBwUtc/YEkvf9pC4z+llFJKKaXUPzOiD6iOveU/wzeiwKRT4z/XbJ+oHjTiP7y7u7u7u9s/q2eHwI1l4D8oKCgoKCjgPw==",
          "dtype": "f8"
         },
         "yaxis": "y"
        },
        {
         "hovertemplate": "<b>OLS trendline</b><br>win_pct = 0.826485 * ace_pct + 0.44433<br>R<sup>2</sup>=0.074338<br><br>Ace Percentage=%{x}<br>Win Percentage=%{y} <b>(trend)</b><extra></extra>",
         "legendgroup": "Overall Trendline",
         "line": {
          "color": "#ab63fa"
         },
         "mode": "lines",
         "name": "Overall Trendline",
         "showlegend": true,
         "type": "scatter",
         "x": {
          "bdata": "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",
          "dtype": "f8"
         },
         "xaxis": "x",
         "y": {
          "bdata": "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",
          "dtype": "f8"
         },
         "yaxis": "y"
        }
       ],
       "layout": {
        "legend": {
         "title": {
          "text": "surface"
         },
         "tracegroupgap": 0
        },
        "margin": {
         "t": 60
        },
        "template": {
         "data": {
          "bar": [
           {
            "error_x": {
             "color": "#2a3f5f"
            },
            "error_y": {
             "color": "#2a3f5f"
            },
            "marker": {
             "line": {
              "color": "#E5ECF6",
              "width": 0.5
             },
             "pattern": {
              "fillmode": "overlay",
              "size": 10,
              "solidity": 0.2
             }
            },
            "type": "bar"
           }
          ],
          "barpolar": [
           {
            "marker": {
             "line": {
              "color": "#E5ECF6",
              "width": 0.5
             },
             "pattern": {
              "fillmode": "overlay",
              "size": 10,
              "solidity": 0.2
             }
            },
            "type": "barpolar"
           }
          ],
          "carpet": [
           {
            "aaxis": {
             "endlinecolor": "#2a3f5f",
             "gridcolor": "white",
             "linecolor": "white",
             "minorgridcolor": "white",
             "startlinecolor": "#2a3f5f"
            },
            "baxis": {
             "endlinecolor": "#2a3f5f",
             "gridcolor": "white",
             "linecolor": "white",
             "minorgridcolor": "white",
             "startlinecolor": "#2a3f5f"
            },
            "type": "carpet"
           }
          ],
          "choropleth": [
           {
            "colorbar": {
             "outlinewidth": 0,
             "ticks": ""
            },
            "type": "choropleth"
           }
          ],
          "contour": [
           {
            "colorbar": {
             "outlinewidth": 0,
             "ticks": ""
            },
            "colorscale": [
             [
              0,
              "#0d0887"
             ],
             [
              0.1111111111111111,
              "#46039f"
             ],
             [
              0.2222222222222222,
              "#7201a8"
             ],
             [
              0.3333333333333333,
              "#9c179e"
             ],
             [
              0.4444444444444444,
              "#bd3786"
             ],
             [
              0.5555555555555556,
              "#d8576b"
             ],
             [
              0.6666666666666666,
              "#ed7953"
             ],
             [
              0.7777777777777778,
              "#fb9f3a"
             ],
             [
              0.8888888888888888,
              "#fdca26"
             ],
             [
              1,
              "#f0f921"
             ]
            ],
            "type": "contour"
           }
          ],
          "contourcarpet": [
           {
            "colorbar": {
             "outlinewidth": 0,
             "ticks": ""
            },
            "type": "contourcarpet"
           }
          ],
          "heatmap": [
           {
            "colorbar": {
             "outlinewidth": 0,
             "ticks": ""
            },
            "colorscale": [
             [
              0,
              "#0d0887"
             ],
             [
              0.1111111111111111,
              "#46039f"
             ],
             [
              0.2222222222222222,
              "#7201a8"
             ],
             [
              0.3333333333333333,
              "#9c179e"
             ],
             [
              0.4444444444444444,
              "#bd3786"
             ],
             [
              0.5555555555555556,
              "#d8576b"
             ],
             [
              0.6666666666666666,
              "#ed7953"
             ],
             [
              0.7777777777777778,
              "#fb9f3a"
             ],
             [
              0.8888888888888888,
              "#fdca26"
             ],
             [
              1,
              "#f0f921"
             ]
            ],
            "type": "heatmap"
           }
          ],
          "histogram": [
           {
            "marker": {
             "pattern": {
              "fillmode": "overlay",
              "size": 10,
              "solidity": 0.2
             }
            },
            "type": "histogram"
           }
          ],
          "histogram2d": [
           {
            "colorbar": {
             "outlinewidth": 0,
             "ticks": ""
            },
            "colorscale": [
             [
              0,
              "#0d0887"
             ],
             [
              0.1111111111111111,
              "#46039f"
             ],
             [
              0.2222222222222222,
              "#7201a8"
             ],
             [
              0.3333333333333333,
              "#9c179e"
             ],
             [
              0.4444444444444444,
              "#bd3786"
             ],
             [
              0.5555555555555556,
              "#d8576b"
             ],
             [
              0.6666666666666666,
              "#ed7953"
             ],
             [
              0.7777777777777778,
              "#fb9f3a"
             ],
             [
              0.8888888888888888,
              "#fdca26"
             ],
             [
              1,
              "#f0f921"
             ]
            ],
            "type": "histogram2d"
           }
          ],
          "histogram2dcontour": [
           {
            "colorbar": {
             "outlinewidth": 0,
             "ticks": ""
            },
            "colorscale": [
             [
              0,
              "#0d0887"
             ],
             [
              0.1111111111111111,
              "#46039f"
             ],
             [
              0.2222222222222222,
              "#7201a8"
             ],
             [
              0.3333333333333333,
              "#9c179e"
             ],
             [
              0.4444444444444444,
              "#bd3786"
             ],
             [
              0.5555555555555556,
              "#d8576b"
             ],
             [
              0.6666666666666666,
              "#ed7953"
             ],
             [
              0.7777777777777778,
              "#fb9f3a"
             ],
             [
              0.8888888888888888,
              "#fdca26"
             ],
             [
              1,
              "#f0f921"
             ]
            ],
            "type": "histogram2dcontour"
           }
          ],
          "mesh3d": [
           {
            "colorbar": {
             "outlinewidth": 0,
             "ticks": ""
            },
            "type": "mesh3d"
           }
          ],
          "parcoords": [
           {
            "line": {
             "colorbar": {
              "outlinewidth": 0,
              "ticks": ""
             }
            },
            "type": "parcoords"
           }
          ],
          "pie": [
           {
            "automargin": true,
            "type": "pie"
           }
          ],
          "scatter": [
           {
            "fillpattern": {
             "fillmode": "overlay",
             "size": 10,
             "solidity": 0.2
            },
            "type": "scatter"
           }
          ],
          "scatter3d": [
           {
            "line": {
             "colorbar": {
              "outlinewidth": 0,
              "ticks": ""
             }
            },
            "marker": {
             "colorbar": {
              "outlinewidth": 0,
              "ticks": ""
             }
            },
            "type": "scatter3d"
           }
          ],
          "scattercarpet": [
           {
            "marker": {
             "colorbar": {
              "outlinewidth": 0,
              "ticks": ""
             }
            },
            "type": "scattercarpet"
           }
          ],
          "scattergeo": [
           {
            "marker": {
             "colorbar": {
              "outlinewidth": 0,
              "ticks": ""
             }
            },
            "type": "scattergeo"
           }
          ],
          "scattergl": [
           {
            "marker": {
             "colorbar": {
              "outlinewidth": 0,
              "ticks": ""
             }
            },
            "type": "scattergl"
           }
          ],
          "scattermap": [
           {
            "marker": {
             "colorbar": {
              "outlinewidth": 0,
              "ticks": ""
             }
            },
            "type": "scattermap"
           }
          ],
          "scattermapbox": [
           {
            "marker": {
             "colorbar": {
              "outlinewidth": 0,
              "ticks": ""
             }
            },
            "type": "scattermapbox"
           }
          ],
          "scatterpolar": [
           {
            "marker": {
             "colorbar": {
              "outlinewidth": 0,
              "ticks": ""
             }
            },
            "type": "scatterpolar"
           }
          ],
          "scatterpolargl": [
           {
            "marker": {
             "colorbar": {
              "outlinewidth": 0,
              "ticks": ""
             }
            },
            "type": "scatterpolargl"
           }
          ],
          "scatterternary": [
           {
            "marker": {
             "colorbar": {
              "outlinewidth": 0,
              "ticks": ""
             }
            },
            "type": "scatterternary"
           }
          ],
          "surface": [
           {
            "colorbar": {
             "outlinewidth": 0,
             "ticks": ""
            },
            "colorscale": [
             [
              0,
              "#0d0887"
             ],
             [
              0.1111111111111111,
              "#46039f"
             ],
             [
              0.2222222222222222,
              "#7201a8"
             ],
             [
              0.3333333333333333,
              "#9c179e"
             ],
             [
              0.4444444444444444,
              "#bd3786"
             ],
             [
              0.5555555555555556,
              "#d8576b"
             ],
             [
              0.6666666666666666,
              "#ed7953"
             ],
             [
              0.7777777777777778,
              "#fb9f3a"
             ],
             [
              0.8888888888888888,
              "#fdca26"
             ],
             [
              1,
              "#f0f921"
             ]
            ],
            "type": "surface"
           }
          ],
          "table": [
           {
            "cells": {
             "fill": {
              "color": "#EBF0F8"
             },
             "line": {
              "color": "white"
             }
            },
            "header": {
             "fill": {
              "color": "#C8D4E3"
             },
             "line": {
              "color": "white"
             }
            },
            "type": "table"
           }
          ]
         },
         "layout": {
          "annotationdefaults": {
           "arrowcolor": "#2a3f5f",
           "arrowhead": 0,
           "arrowwidth": 1
          },
          "autotypenumbers": "strict",
          "coloraxis": {
           "colorbar": {
            "outlinewidth": 0,
            "ticks": ""
           }
          },
          "colorscale": {
           "diverging": [
            [
             0,
             "#8e0152"
            ],
            [
             0.1,
             "#c51b7d"
            ],
            [
             0.2,
             "#de77ae"
            ],
            [
             0.3,
             "#f1b6da"
            ],
            [
             0.4,
             "#fde0ef"
            ],
            [
             0.5,
             "#f7f7f7"
            ],
            [
             0.6,
             "#e6f5d0"
            ],
            [
             0.7,
             "#b8e186"
            ],
            [
             0.8,
             "#7fbc41"
            ],
            [
             0.9,
             "#4d9221"
            ],
            [
             1,
             "#276419"
            ]
           ],
           "sequential": [
            [
             0,
             "#0d0887"
            ],
            [
             0.1111111111111111,
             "#46039f"
            ],
            [
             0.2222222222222222,
             "#7201a8"
            ],
            [
             0.3333333333333333,
             "#9c179e"
            ],
            [
             0.4444444444444444,
             "#bd3786"
            ],
            [
             0.5555555555555556,
             "#d8576b"
            ],
            [
             0.6666666666666666,
             "#ed7953"
            ],
            [
             0.7777777777777778,
             "#fb9f3a"
            ],
            [
             0.8888888888888888,
             "#fdca26"
            ],
            [
             1,
             "#f0f921"
            ]
           ],
           "sequentialminus": [
            [
             0,
             "#0d0887"
            ],
            [
             0.1111111111111111,
             "#46039f"
            ],
            [
             0.2222222222222222,
             "#7201a8"
            ],
            [
             0.3333333333333333,
             "#9c179e"
            ],
            [
             0.4444444444444444,
             "#bd3786"
            ],
            [
             0.5555555555555556,
             "#d8576b"
            ],
            [
             0.6666666666666666,
             "#ed7953"
            ],
            [
             0.7777777777777778,
             "#fb9f3a"
            ],
            [
             0.8888888888888888,
             "#fdca26"
            ],
            [
             1,
             "#f0f921"
            ]
           ]
          },
          "colorway": [
           "#636efa",
           "#EF553B",
           "#00cc96",
           "#ab63fa",
           "#FFA15A",
           "#19d3f3",
           "#FF6692",
           "#B6E880",
           "#FF97FF",
           "#FECB52"
          ],
          "font": {
           "color": "#2a3f5f"
          },
          "geo": {
           "bgcolor": "white",
           "lakecolor": "white",
           "landcolor": "#E5ECF6",
           "showlakes": true,
           "showland": true,
           "subunitcolor": "white"
          },
          "hoverlabel": {
           "align": "left"
          },
          "hovermode": "closest",
          "mapbox": {
           "style": "light"
          },
          "paper_bgcolor": "white",
          "plot_bgcolor": "#E5ECF6",
          "polar": {
           "angularaxis": {
            "gridcolor": "white",
            "linecolor": "white",
            "ticks": ""
           },
           "bgcolor": "#E5ECF6",
           "radialaxis": {
            "gridcolor": "white",
            "linecolor": "white",
            "ticks": ""
           }
          },
          "scene": {
           "xaxis": {
            "backgroundcolor": "#E5ECF6",
            "gridcolor": "white",
            "gridwidth": 2,
            "linecolor": "white",
            "showbackground": true,
            "ticks": "",
            "zerolinecolor": "white"
           },
           "yaxis": {
            "backgroundcolor": "#E5ECF6",
            "gridcolor": "white",
            "gridwidth": 2,
            "linecolor": "white",
            "showbackground": true,
            "ticks": "",
            "zerolinecolor": "white"
           },
           "zaxis": {
            "backgroundcolor": "#E5ECF6",
            "gridcolor": "white",
            "gridwidth": 2,
            "linecolor": "white",
            "showbackground": true,
            "ticks": "",
            "zerolinecolor": "white"
           }
          },
          "shapedefaults": {
           "line": {
            "color": "#2a3f5f"
           }
          },
          "ternary": {
           "aaxis": {
            "gridcolor": "white",
            "linecolor": "white",
            "ticks": ""
           },
           "baxis": {
            "gridcolor": "white",
            "linecolor": "white",
            "ticks": ""
           },
           "bgcolor": "#E5ECF6",
           "caxis": {
            "gridcolor": "white",
            "linecolor": "white",
            "ticks": ""
           }
          },
          "title": {
           "x": 0.05
          },
          "xaxis": {
           "automargin": true,
           "gridcolor": "white",
           "linecolor": "white",
           "ticks": "",
           "title": {
            "standoff": 15
           },
           "zerolinecolor": "white",
           "zerolinewidth": 2
          },
          "yaxis": {
           "automargin": true,
           "gridcolor": "white",
           "linecolor": "white",
           "ticks": "",
           "title": {
            "standoff": 15
           },
           "zerolinecolor": "white",
           "zerolinewidth": 2
          }
         }
        },
        "xaxis": {
         "anchor": "y",
         "domain": [
          0,
          1
         ],
         "title": {
          "text": "Ace Percentage"
         }
        },
        "yaxis": {
         "anchor": "x",
         "domain": [
          0,
          1
         ],
         "title": {
          "text": "Win Percentage"
         }
        }
       }
      }
     },
     "metadata": {},
     "output_type": "display_data"
    }
   ],
   "source": [
    "pxdata = player_surface[player_surface['total_matches'] >= 150]\n",
    "\n",
    "color_map = {\n",
    "    \"Clay\": \"#BF5700\",   \n",
    "    \"Grass\": \"green\",  \n",
    "    \"Hard\": \"blue\"     \n",
    "}\n",
    "\n",
    "fig = px.scatter(pxdata, x = 'ace_pct', y = 'win_pct', hover_data = 'player_name', color = 'surface', color_discrete_map = color_map, trendline = 'ols', trendline_scope = 'overall', labels = {\n",
    "    'ace_pct' : 'Ace Percentage',\n",
    "    'win_pct' : 'Win Percentage'\n",
    "})\n",
    "\n",
    "fig.show()"
   ]
  },
  {
   "cell_type": "markdown",
   "id": "10d30a23",
   "metadata": {},
   "source": [
    "Overall, ace percentage does slightly contribute towards win percentage, which makes sense becauses aces are free points. However, we can see that many of the highest win percentages on clay have a low ace percentage. This supports the theory that a stronger serve is a less effective weapon on clay than it is on other surfaces. "
   ]
  },
  {
   "cell_type": "markdown",
   "id": "d5c33cf2",
   "metadata": {},
   "source": [
    "## Does saving more break points lead to more wins?"
   ]
  },
  {
   "cell_type": "code",
   "execution_count": 15,
   "id": "e50edde7",
   "metadata": {},
   "outputs": [
    {
     "data": {
      "application/vnd.plotly.v1+json": {
       "config": {
        "plotlyServerURL": "https://plot.ly"
       },
       "data": [
        {
         "customdata": [
          [
           "Adrian Mannarino"
          ],
          [
           "Albert Ramos"
          ],
          [
           "Alejandro Davidovich Fokina"
          ],
          [
           "Alex De Minaur"
          ],
          [
           "Alexander Bublik"
          ],
          [
           "Alexander Zverev"
          ],
          [
           "Alexei Popyrin"
          ],
          [
           "Aljaz Bedene"
          ],
          [
           "Andreas Seppi"
          ],
          [
           "Andrey Rublev"
          ],
          [
           "Andy Murray"
          ],
          [
           "Aslan Karatsev"
          ],
          [
           "Benoit Paire"
          ],
          [
           "Bernard Tomic"
          ],
          [
           "Borna Coric"
          ],
          [
           "Botic Van De Zandschulp"
          ],
          [
           "Brandon Nakashima"
          ],
          [
           "Cameron Norrie"
          ],
          [
           "Carlos Alcaraz"
          ],
          [
           "Casper Ruud"
          ],
          [
           "Cristian Garin"
          ],
          [
           "Damir Dzumhur"
          ],
          [
           "Daniel Evans"
          ],
          [
           "Daniil Medvedev"
          ],
          [
           "David Ferrer"
          ],
          [
           "David Goffin"
          ],
          [
           "Denis Shapovalov"
          ],
          [
           "Diego Schwartzman"
          ],
          [
           "Dominic Thiem"
          ],
          [
           "Dusan Lajovic"
          ],
          [
           "Emil Ruusuvuori"
          ],
          [
           "Fabio Fognini"
          ],
          [
           "Federico Delbonis"
          ],
          [
           "Feliciano Lopez"
          ],
          [
           "Felix Auger Aliassime"
          ],
          [
           "Fernando Verdasco"
          ],
          [
           "Filip Krajinovic"
          ],
          [
           "Frances Tiafoe"
          ],
          [
           "Francisco Cerundolo"
          ],
          [
           "Gael Monfils"
          ],
          [
           "Gilles Muller"
          ],
          [
           "Gilles Simon"
          ],
          [
           "Grigor Dimitrov"
          ],
          [
           "Guido Pella"
          ],
          [
           "Guillermo Garcia Lopez"
          ],
          [
           "Holger Rune"
          ],
          [
           "Hubert Hurkacz"
          ],
          [
           "Ilya Ivashka"
          ],
          [
           "Ivo Karlovic"
          ],
          [
           "Jack Sock"
          ],
          [
           "Jan Lennard Struff"
          ],
          [
           "Jannik Sinner"
          ],
          [
           "Jaume Munar"
          ],
          [
           "Jeremy Chardy"
          ],
          [
           "Jiri Vesely"
          ],
          [
           "Jo-Wilfried Tsonga"
          ],
          [
           "Joao Sousa"
          ],
          [
           "John Isner"
          ],
          [
           "John Millman"
          ],
          [
           "Jordan Thompson"
          ],
          [
           "Juan Martin del Potro"
          ],
          [
           "Karen Khachanov"
          ],
          [
           "Kei Nishikori"
          ],
          [
           "Kevin Anderson"
          ],
          [
           "Kyle Edmund"
          ],
          [
           "Laslo Djere"
          ],
          [
           "Leonardo Mayer"
          ],
          [
           "Lorenzo Musetti"
          ],
          [
           "Lorenzo Sonego"
          ],
          [
           "Lucas Pouille"
          ],
          [
           "Mackenzie Mcdonald"
          ],
          [
           "Malek Jaziri"
          ],
          [
           "Marco Cecchinato"
          ],
          [
           "Marcos Giron"
          ],
          [
           "Marin Cilic"
          ],
          [
           "Marton Fucsovics"
          ],
          [
           "Matteo Berrettini"
          ],
          [
           "Mikhail Kukushkin"
          ],
          [
           "Milos Raonic"
          ],
          [
           "Miomir Kecmanovic"
          ],
          [
           "Mischa Zverev"
          ],
          [
           "Nick Kyrgios"
          ],
          [
           "Nicolas Jarry"
          ],
          [
           "Nikoloz Basilashvili"
          ],
          [
           "Novak Djokovic"
          ],
          [
           "Pablo Carreno Busta"
          ],
          [
           "Pablo Cuevas"
          ],
          [
           "Paolo Lorenzi"
          ],
          [
           "Pedro Martinez"
          ],
          [
           "Peter Gojowczyk"
          ],
          [
           "Philipp Kohlschreiber"
          ],
          [
           "Pierre Hugues Herbert"
          ],
          [
           "Radu Albot"
          ],
          [
           "Rafael Nadal"
          ],
          [
           "Reilly Opelka"
          ],
          [
           "Richard Gasquet"
          ],
          [
           "Roberto Bautista Agut"
          ],
          [
           "Roberto Carballes Baena"
          ],
          [
           "Robin Haase"
          ],
          [
           "Roger Federer"
          ],
          [
           "Sam Querrey"
          ],
          [
           "Sebastian Baez"
          ],
          [
           "Sebastian Korda"
          ],
          [
           "Stan Wawrinka"
          ],
          [
           "Stefanos Tsitsipas"
          ],
          [
           "Steve Johnson"
          ],
          [
           "Tallon Griekspoor"
          ],
          [
           "Taro Daniel"
          ],
          [
           "Taylor Fritz"
          ],
          [
           "Thiago Monteiro"
          ],
          [
           "Tomas Berdych"
          ],
          [
           "Tommy Paul"
          ],
          [
           "Ugo Humbert"
          ],
          [
           "Vasek Pospisil"
          ],
          [
           "Viktor Troicki"
          ],
          [
           "Yoshihito Nishioka"
          ]
         ],
         "hovertemplate": "surface=Clay<br>bp_save_pct=%{x}<br>Win Percentage=%{y}<br>player_name=%{customdata[0]}<extra></extra>",
         "legendgroup": "Clay",
         "marker": {
          "color": "#BF5700",
          "symbol": "circle"
         },
         "mode": "markers",
         "name": "Clay",
         "orientation": "v",
         "showlegend": true,
         "type": "scatter",
         "x": {
          "bdata": "WjB66Lb43z8rsNiiYMDiP+wN1T3Y6eA/eDTuufaT4T8Z+ruLlGviP3i3P98eVOI/sBQlFKhy4j9uqL8MrobhPyrlrcqrJ+I/0156EUw54z9SXBSpWwfkP4SjCKIUUOI/QPrVp/Ia4j9MqTcGktrjP35VKYrEruI/a9Lig3IP5D+4HwUt8UrkP0td74KZCeM/yKQsxDc14j914ld3eqTjP3igXumks+M/NLhO80IV3z9cYwHCxfbiP2zL4rqW1uA/bAfoXlrR4j/XXYCeHYniP7YoD5WVm+M/ujUgRu704D9bMqT7KeDiP66sEAVrOOM/TDJPBhvS4T+EwLUr0R7hP9mWvGBYf+I/JPVcVanG4j9K9FAE3XPiP79YbwImueI/TilHltDj4j/WFnNXHpHhP1bgJhP0t+M/wXWW9qRi4T9dQaIBpY7gP0rnzVz4MeE/DrjOr8lD4j/DMWHkHvPiPwtGhzZrvOE/DZWUsXcO4z/rqq7qqq7iP63rRsxnN+I/Qe0uWlC74z+2CFcSrzXkP90GgFq7j+M/77q9U+tm4j9FA89Ht/ThP6gsgmP/m+A/cff9kgBo4j8aF2oWBVPkPxdGWUCWauE/7j9p9DX45j9YOdgrtgXkPzLMRMQNgeE/FzeOdKtf4j/zbWF4BEPjP8vq8fOR0+M/+oDcN3m94z97F61MXQTkP6W8RjeoEOI/wQMpocrb4z9HTKSfHMHgP9GUV0GceuM/c6UuWcMZ4z+s6s6D+ffhP93AtvkfgeQ/9RNGQ9QB4j9UX6XQNb7iP5vJYmXnAuQ/vEVvIXNA4z9JzI/2HGzlP2kKcWM9z+I/l24Og7jM5D/PbBMckSHiP4pjZtjR8uI/OMEP5rXN5D/PbskjOgTkP66myGe5CuE/wqFZDUw75D8st4kNp2rjP5c8c5bGeuM/hryFmN1a4j9/5SKCFPXhP6cfnH5w+uE/PXz8OE6c4T/gn/YdKg3kP0qB5D3lrOA/2M0QeYuV4z/1UvrivH7iP5v7lAYU5+E/KRYynniV4j+Fjhwsvd7hP6fEpMohQOI/vLu7u7sb4z8b07feA8TjPxLJqU+ymuI/muLCWKtI4z9XivloDZHkPwuZF+1FV+M/xOp1hfKU4z9qr5/SuzfhP0eXQKVPQ+I/UIKRKZrm4D/vMo86EWXiPzfHEMs9NOM/mILT2nW34j8fkK8DuvDgP3tRo2P0Lt4/+2/RY1H/4j9ihTHPYOjgPw==",
          "dtype": "f8"
         },
         "xaxis": "x",
         "y": {
          "bdata": "L6G9hPYSyj8AAAAAAIDhP3kN5TWU1+A/ruxzSE0w3j+66KKLLrrYP7i3t7e3t+c/ntiJndiJ3T8LWchCFrLgP1100UUXXdQ/13Jws1+I5T/uaYTlnkboPxj0BX1BX+A/H8F9BPcR3D8AAAAAAADQP3H1g44KfOE/KvJZN5gi3z8cx3Ecx3HcPxQ7sRM7seM/iEXKwNOt6T9zmMMc5jDnP7y7u7u7u+M/H8F9BPcR3D85BS+n4OXUP7mnEZZ7GuE/NUiDNEiD5D8qH8b9uqTiP2nzPsUlQ+A/kiRJkiRJ4j/PkJi3MyTmP+sGU+SzbuA/eHh4eHh42D/f9KY3venhPzSuRYKaCuE/lNdQXkN53T+FChUqVKjgPxDjfl1S+eA/jbDc0wjL3T9nt/CrMZHeP+miiy666OI/ZmZmZmZm4D8YhmEYhmHYPw3lNZTXUN4/kiRJkiRJ4j/lywZNvmzgPwAAAAAAAOA/AAAAAAAA4z/3EtpLaC/hP1paWlpaWto/mpmZmZmZ2T8RERERERHhPzvavE9xyeA/TjbZZJNN5j/QF/QFfUHfP97d3d3d3d0/P+mTPumT3j+SJEmSJEniPzJnzBlzxtw/09LS0tLS4j+nN73pTW/aP9uVqF2J2tU/VVVVVVVV5T/tJbSX0F7iP431obE+NOY/sRM7sRM74T/Wh8b60FjfP9e3AUM1HeM/jC666KKL3j/btm3btm3jP5h0ah7krt8/nud5nud53j+4HoXrUbjOP6c3velNb9o/Z7fwqzGR3j8or6G8hvLaP8HTrflhkeI/k18s+cWS3z8MlPBGU+fnP9InfdInfdI/lTVlTVlT5j9QB3VQB3XgP8ln3WCKfNY/MzMzMzMz4z/zIHf9bLHiP4wuuuiii94/Z+UnxFn56T/BeCv7HFLjPyHOyk+Is+I/27Zt27Zt2z/P8zzP8zzfP0N5DeU1lNc/AAAAAAAA4j9cvuVbvuXbP0YXXXTRRdc/etOb3vSm6z/nnHPOOefcP9YZqZhbneE/AAAAAABA4j9oICod2TPgP4qd2Imd2Nk/doMp8lk36D8XXXTRRRfdP5MriMkVxOQ/6wZT5LNu4D9i3s6QmLfjP1DtOZm+Sug/SZIkSZIk4T+amZmZmZnZPzuxEzuxE9s/dWTPQFQ64j+5ZAjW0ebdP5Q+6ZM+6eM/F1100UUX3T/NzMzMzMzUPwAAAAAAAAAAHdRBHdRB3T96nud5nufZPw==",
          "dtype": "f8"
         },
         "yaxis": "y"
        },
        {
         "customdata": [
          [
           "Adrian Mannarino"
          ],
          [
           "Albert Ramos"
          ],
          [
           "Alejandro Davidovich Fokina"
          ],
          [
           "Alex De Minaur"
          ],
          [
           "Alexander Bublik"
          ],
          [
           "Alexander Zverev"
          ],
          [
           "Alexei Popyrin"
          ],
          [
           "Aljaz Bedene"
          ],
          [
           "Andreas Seppi"
          ],
          [
           "Andrey Rublev"
          ],
          [
           "Andy Murray"
          ],
          [
           "Aslan Karatsev"
          ],
          [
           "Benoit Paire"
          ],
          [
           "Bernard Tomic"
          ],
          [
           "Borna Coric"
          ],
          [
           "Botic Van De Zandschulp"
          ],
          [
           "Brandon Nakashima"
          ],
          [
           "Cameron Norrie"
          ],
          [
           "Carlos Alcaraz"
          ],
          [
           "Casper Ruud"
          ],
          [
           "Cristian Garin"
          ],
          [
           "Damir Dzumhur"
          ],
          [
           "Daniel Evans"
          ],
          [
           "Daniil Medvedev"
          ],
          [
           "David Ferrer"
          ],
          [
           "David Goffin"
          ],
          [
           "Denis Shapovalov"
          ],
          [
           "Diego Schwartzman"
          ],
          [
           "Dominic Thiem"
          ],
          [
           "Dusan Lajovic"
          ],
          [
           "Emil Ruusuvuori"
          ],
          [
           "Fabio Fognini"
          ],
          [
           "Federico Delbonis"
          ],
          [
           "Feliciano Lopez"
          ],
          [
           "Felix Auger Aliassime"
          ],
          [
           "Fernando Verdasco"
          ],
          [
           "Filip Krajinovic"
          ],
          [
           "Frances Tiafoe"
          ],
          [
           "Francisco Cerundolo"
          ],
          [
           "Gael Monfils"
          ],
          [
           "Gilles Muller"
          ],
          [
           "Gilles Simon"
          ],
          [
           "Grigor Dimitrov"
          ],
          [
           "Guido Pella"
          ],
          [
           "Guillermo Garcia Lopez"
          ],
          [
           "Holger Rune"
          ],
          [
           "Hubert Hurkacz"
          ],
          [
           "Ilya Ivashka"
          ],
          [
           "Ivo Karlovic"
          ],
          [
           "Jack Sock"
          ],
          [
           "Jan Lennard Struff"
          ],
          [
           "Jannik Sinner"
          ],
          [
           "Jaume Munar"
          ],
          [
           "Jeremy Chardy"
          ],
          [
           "Jiri Vesely"
          ],
          [
           "Jo-Wilfried Tsonga"
          ],
          [
           "Joao Sousa"
          ],
          [
           "John Isner"
          ],
          [
           "John Millman"
          ],
          [
           "Jordan Thompson"
          ],
          [
           "Juan Martin del Potro"
          ],
          [
           "Karen Khachanov"
          ],
          [
           "Kei Nishikori"
          ],
          [
           "Kevin Anderson"
          ],
          [
           "Kyle Edmund"
          ],
          [
           "Laslo Djere"
          ],
          [
           "Leonardo Mayer"
          ],
          [
           "Lorenzo Musetti"
          ],
          [
           "Lorenzo Sonego"
          ],
          [
           "Lucas Pouille"
          ],
          [
           "Mackenzie Mcdonald"
          ],
          [
           "Malek Jaziri"
          ],
          [
           "Marco Cecchinato"
          ],
          [
           "Marcos Giron"
          ],
          [
           "Marin Cilic"
          ],
          [
           "Marton Fucsovics"
          ],
          [
           "Matteo Berrettini"
          ],
          [
           "Mikhail Kukushkin"
          ],
          [
           "Milos Raonic"
          ],
          [
           "Miomir Kecmanovic"
          ],
          [
           "Mischa Zverev"
          ],
          [
           "Nick Kyrgios"
          ],
          [
           "Nicolas Jarry"
          ],
          [
           "Nikoloz Basilashvili"
          ],
          [
           "Novak Djokovic"
          ],
          [
           "Pablo Carreno Busta"
          ],
          [
           "Pablo Cuevas"
          ],
          [
           "Paolo Lorenzi"
          ],
          [
           "Pedro Martinez"
          ],
          [
           "Peter Gojowczyk"
          ],
          [
           "Philipp Kohlschreiber"
          ],
          [
           "Pierre Hugues Herbert"
          ],
          [
           "Radu Albot"
          ],
          [
           "Rafael Nadal"
          ],
          [
           "Reilly Opelka"
          ],
          [
           "Richard Gasquet"
          ],
          [
           "Roberto Bautista Agut"
          ],
          [
           "Roberto Carballes Baena"
          ],
          [
           "Robin Haase"
          ],
          [
           "Roger Federer"
          ],
          [
           "Sam Querrey"
          ],
          [
           "Sebastian Baez"
          ],
          [
           "Sebastian Korda"
          ],
          [
           "Stan Wawrinka"
          ],
          [
           "Stefanos Tsitsipas"
          ],
          [
           "Steve Johnson"
          ],
          [
           "Tallon Griekspoor"
          ],
          [
           "Taro Daniel"
          ],
          [
           "Taylor Fritz"
          ],
          [
           "Thiago Monteiro"
          ],
          [
           "Tomas Berdych"
          ],
          [
           "Tommy Paul"
          ],
          [
           "Ugo Humbert"
          ],
          [
           "Vasek Pospisil"
          ],
          [
           "Viktor Troicki"
          ],
          [
           "Yoshihito Nishioka"
          ]
         ],
         "hovertemplate": "surface=Grass<br>bp_save_pct=%{x}<br>Win Percentage=%{y}<br>player_name=%{customdata[0]}<extra></extra>",
         "legendgroup": "Grass",
         "marker": {
          "color": "green",
          "symbol": "circle"
         },
         "mode": "markers",
         "name": "Grass",
         "orientation": "v",
         "showlegend": true,
         "type": "scatter",
         "x": {
          "bdata": "zivh9aJB4j9NAUJNAULlP8WkwNsBNeM/4FZrIE+h4T8K+vW0pODiP9TCoifS2eQ/vi40+C8D5D9wI7Mi7dnkP7oAHK2dC+Q/Ny1Fb7so4D8WG+dvbfXjPy+U7YPpQuM/x8WSBb5z4j9uWQBvWQDjP9Ob5QgwveU/aV4pFzE+4j/N2ZzN2ZzlP9DCoMjGM+Q/ayB8Ucz35T/bRZ+dCpvjP0fHegsi++I/mH/5l3+54j+znm/flaTlP/7nf/7nr+M/IzNw+5cD5T/hPl5xGF7iP7uiBHMAUuQ/oQG9W+pf4T9K/mas64LmPxw9AL7ILuI/EsZaB7Nr5T8wZ/pm/TvhP2uWCSV/rOE/f3QNI8Xw4z/oLGOFoDHnP7Chi/eCBuQ/4vDae4p05T9iA84klQfkPwyx9muK3eM/AtSX+5wY5T/6DKFWgRLmP2GqdJxrv+Q/UKTSsZnQ5D/jnsnNC3PkPxoJ+ObVxOM/Kz8hzspP5j/hWdJKwzvmP+Qa9FjsOeQ/99kFxKbS5z8XBdooFuvhP0/N6Gv8t+U/FILdqzVS5T+y9VjWPuvgP47ahqrqn+Q/RaTzXdSA5z/ajYCUdqPkP8T8pqcm6OE/fkKclZ+Q5D+h8koYyNXhPyABEiABEuI/nc3ZnM3Z4j80gwiVKknkP94ISGk3AuI/TwiEW6lF5D9A6XqVPtDiP5T7Qv/ac+U/zxg8Y/CM5T+plVqplVrjP0KIyWp8+OM/pFdKXkCt5T/KoYdZSYzlPxGc77MnHt4/yh6c0MNe3T9/h0y0jZjjP/9MJar3z+I/KafUwxOH4T+K+yuv0szmP0XhxmkqWeY/7eCMWQk85z/GvEDdGXXkPyQO2lLIwuY/Q2CZn9Rq5T81GWY0GWbkPz6Icz9bjOM/adD1ZWP+5j+weBLy6DzlP6+2sCKI9uE/O3IMaiz14T8mPzibEH7iP0VER8Hmx+E/2nfAHY5y5j8H2eszf1/gP2vhWC3p998/2s6B9Jjt4z8Oew8/2yniP00uuFOoKuI/X6/9+Ruw5D9onqDyzFrjP1n2F0m43+Q/uNSbDSrx5j+sfG8/ymXjPzoadZeORuM/y1+NW+W54z9mXD9AlOvlP6Sh4MMDHeQ/y4NR15nf4z//7M/+7M/kPz5SigsfV+A/ATgbILSr5T8Vpaa/T1HiP72aeFY0EuY/aEFTLkP75D8P+LcVnfrlPy+hvYT2kuI/lPsqzIkO3T+HtqwPPzXgPw==",
          "dtype": "f8"
         },
         "xaxis": "x",
         "y": {
          "bdata": "4wUyKV4g4z8eHh4eHh7OPwAAAAAAANg/OQUvp+Dl5D/sxE7sxE7kP8P1KFyPwuU/MzMzMzMz0z/ZiZ3YiZ3YP5AGaZAGaeA/wnJPIyz35D+GYRiGYRjmP1VVVVVVVdU/+N5777333j8iIiIiIiLiP57neZ7ned4/DeU1lNdQ3j+kcD0K16PgPyxRuxK1K+E/HMdxHMdx7D+rqqqqqqraPw3lNZTXUN4/AAAAAAAA4j/UCMs9jbDcP6alpaWlpeU/2Ymd2Imd2D8zMzMzMzPjP2ZmZmZmZt4/q6qqqqqq2j8AAAAAAADgP3kN5TWU19A/6k1vetOb3j/poosuuujiPwAAAAAAAAAAIQtZyEIW4j/UQR3UQR3kPwrXo3A9Ctc/AAAAAAAA4D/0MTgfg/PhP97d3d3d3d0/jDHGGGOM4T92Yid2YifmPxdddNFFF90/whT5rBtM4T8pXI/C9SjcP5qZmZmZmdk/09LS0tLS4j81SIM0SIPkPwtZyEIWsuA/lnsaYbmn4T8RERERERHhP7AFW7AFW+A/ZmZmZmZm5j/btm3btm3LP9QIyz2NsNw/AAAAAAAA5D9sKK+hvIbiPxQ7sRM7sdM/UV5DeQ3l5T9huacRlnvaP4mIiIiIiOA/AAAAAAAA5j8UO7ETO7HjP1VVVVVVVeU/rbXWWmut5T8XXXTRRRfdP1VVVVVVVdU/AAAAAAAA2D8lSZIkSZLkP/Maymsor+E/ZZNNNtlk4z988MEHH3zgP57YiZ3Yic0/RhdddNFFxz+EEEIIIYTgP3h4eHh4eOg/CB988MEH3z+xEzuxEzvpP57neZ7ned4/hixkIQtZ6D8AAAAAAADeP2IndmInduI/S9SuRO1K5D8cx3Ecx3HcP7y7u7u7u9s/5rEVQcNJ7T+XlpaWlpbWPxdddNFFF90/VVVVVVVVxT8zMzMzMzPTPxdddNFFF90/ewntJbSX4D+4HoXrUbjeP1VVVVVVVdU/o4suuuii6z+amZmZmZnZP9IgDdIgDeI/0V5Cewnt5T8eHh4eHh7OP6uqqqqqqto/zvsUlwzB6j8lSZIkSZLkPzMzMzMzM9M/exSuR+F65D8vuuiiiy7aP9IgDdIgDeI/j8L1KFyP4j9oL6G9hPbiPwAAAAAAAAAAwXgr+xxS4z8cx3Ecx3HMP1100UUXXeQ/VVVVVVVV5T8vuuiiiy7iPwrXo3A9Ctc/VVVVVVVV1T8RERERERHRPw==",
          "dtype": "f8"
         },
         "yaxis": "y"
        },
        {
         "customdata": [
          [
           "Adrian Mannarino"
          ],
          [
           "Albert Ramos"
          ],
          [
           "Alejandro Davidovich Fokina"
          ],
          [
           "Alex De Minaur"
          ],
          [
           "Alexander Bublik"
          ],
          [
           "Alexander Zverev"
          ],
          [
           "Alexei Popyrin"
          ],
          [
           "Aljaz Bedene"
          ],
          [
           "Andreas Seppi"
          ],
          [
           "Andrey Rublev"
          ],
          [
           "Andy Murray"
          ],
          [
           "Aslan Karatsev"
          ],
          [
           "Benoit Paire"
          ],
          [
           "Bernard Tomic"
          ],
          [
           "Borna Coric"
          ],
          [
           "Botic Van De Zandschulp"
          ],
          [
           "Brandon Nakashima"
          ],
          [
           "Cameron Norrie"
          ],
          [
           "Carlos Alcaraz"
          ],
          [
           "Casper Ruud"
          ],
          [
           "Cristian Garin"
          ],
          [
           "Damir Dzumhur"
          ],
          [
           "Daniel Evans"
          ],
          [
           "Daniil Medvedev"
          ],
          [
           "David Ferrer"
          ],
          [
           "David Goffin"
          ],
          [
           "Denis Shapovalov"
          ],
          [
           "Diego Schwartzman"
          ],
          [
           "Dominic Thiem"
          ],
          [
           "Dusan Lajovic"
          ],
          [
           "Emil Ruusuvuori"
          ],
          [
           "Fabio Fognini"
          ],
          [
           "Federico Delbonis"
          ],
          [
           "Feliciano Lopez"
          ],
          [
           "Felix Auger Aliassime"
          ],
          [
           "Fernando Verdasco"
          ],
          [
           "Filip Krajinovic"
          ],
          [
           "Frances Tiafoe"
          ],
          [
           "Francisco Cerundolo"
          ],
          [
           "Gael Monfils"
          ],
          [
           "Gilles Muller"
          ],
          [
           "Gilles Simon"
          ],
          [
           "Grigor Dimitrov"
          ],
          [
           "Guido Pella"
          ],
          [
           "Guillermo Garcia Lopez"
          ],
          [
           "Holger Rune"
          ],
          [
           "Hubert Hurkacz"
          ],
          [
           "Ilya Ivashka"
          ],
          [
           "Ivo Karlovic"
          ],
          [
           "Jack Sock"
          ],
          [
           "Jan Lennard Struff"
          ],
          [
           "Jannik Sinner"
          ],
          [
           "Jaume Munar"
          ],
          [
           "Jeremy Chardy"
          ],
          [
           "Jiri Vesely"
          ],
          [
           "Jo-Wilfried Tsonga"
          ],
          [
           "Joao Sousa"
          ],
          [
           "John Isner"
          ],
          [
           "John Millman"
          ],
          [
           "Jordan Thompson"
          ],
          [
           "Juan Martin del Potro"
          ],
          [
           "Karen Khachanov"
          ],
          [
           "Kei Nishikori"
          ],
          [
           "Kevin Anderson"
          ],
          [
           "Kyle Edmund"
          ],
          [
           "Laslo Djere"
          ],
          [
           "Leonardo Mayer"
          ],
          [
           "Lorenzo Musetti"
          ],
          [
           "Lorenzo Sonego"
          ],
          [
           "Lucas Pouille"
          ],
          [
           "Mackenzie Mcdonald"
          ],
          [
           "Malek Jaziri"
          ],
          [
           "Marco Cecchinato"
          ],
          [
           "Marcos Giron"
          ],
          [
           "Marin Cilic"
          ],
          [
           "Marton Fucsovics"
          ],
          [
           "Matteo Berrettini"
          ],
          [
           "Mikhail Kukushkin"
          ],
          [
           "Milos Raonic"
          ],
          [
           "Miomir Kecmanovic"
          ],
          [
           "Mischa Zverev"
          ],
          [
           "Nick Kyrgios"
          ],
          [
           "Nicolas Jarry"
          ],
          [
           "Nikoloz Basilashvili"
          ],
          [
           "Novak Djokovic"
          ],
          [
           "Pablo Carreno Busta"
          ],
          [
           "Pablo Cuevas"
          ],
          [
           "Paolo Lorenzi"
          ],
          [
           "Pedro Martinez"
          ],
          [
           "Peter Gojowczyk"
          ],
          [
           "Philipp Kohlschreiber"
          ],
          [
           "Pierre Hugues Herbert"
          ],
          [
           "Radu Albot"
          ],
          [
           "Rafael Nadal"
          ],
          [
           "Reilly Opelka"
          ],
          [
           "Richard Gasquet"
          ],
          [
           "Roberto Bautista Agut"
          ],
          [
           "Roberto Carballes Baena"
          ],
          [
           "Robin Haase"
          ],
          [
           "Roger Federer"
          ],
          [
           "Sam Querrey"
          ],
          [
           "Sebastian Baez"
          ],
          [
           "Sebastian Korda"
          ],
          [
           "Stan Wawrinka"
          ],
          [
           "Stefanos Tsitsipas"
          ],
          [
           "Steve Johnson"
          ],
          [
           "Tallon Griekspoor"
          ],
          [
           "Taro Daniel"
          ],
          [
           "Taylor Fritz"
          ],
          [
           "Thiago Monteiro"
          ],
          [
           "Tomas Berdych"
          ],
          [
           "Tommy Paul"
          ],
          [
           "Ugo Humbert"
          ],
          [
           "Vasek Pospisil"
          ],
          [
           "Viktor Troicki"
          ],
          [
           "Yoshihito Nishioka"
          ]
         ],
         "hovertemplate": "surface=Hard<br>bp_save_pct=%{x}<br>Win Percentage=%{y}<br>player_name=%{customdata[0]}<extra></extra>",
         "legendgroup": "Hard",
         "marker": {
          "color": "blue",
          "symbol": "circle"
         },
         "mode": "markers",
         "name": "Hard",
         "orientation": "v",
         "showlegend": true,
         "type": "scatter",
         "x": {
          "bdata": "K0MBWQbM4T/EdFckFZLiP37xRAynH+I/2QUp/h+i4j/B8FGDiUTjPxzSPtdJ1eM/uGqvm1qW5D85oZylloniP8cY+Tsyx+E/meka38Mc5D97mbuJ6aniP8MNyLQ+IuM/7Sy3G4W64T880vWFV//jPzGfSSQ5M+M/WkQf7PYi4z9sADJJPQPjP6NRguImZOM/C99tvaM/5D/gQMTLiYHiP57E2a2s/eE/ECYauaK34D9BbfSvQ7PiP6a5Iz0Q8uM/nH+ilD2s4z9Sk/OqSB3iP17jI60YHOM/kFVj2v014j/r7Y8/6iPjP0VRtILpvOE/ccW8CbmY4T9DhdHVWtjhPzBFWm7vaOA/0se8Ea875T/MQnXZ+1bjP/COAByAwOI/H36vF8Ha4j8+mBsCs6PjP6kn+10jn+I/vjlm/9d44z+V5nUDG2LlPxyN2UsQbOE/IumPlCzM4z+PRTnU9ovjP5K1tf2UxuI/Pc6cG+Ub5D8kWc8ygZbkP177fl8Cm+M/tnkg84P35j82fK1CdpvjP6+w4O+iMuM/SzLwvcm85T9rTiiqGPDhP9eqxnLir+M/6Sge6Yhi4z+PB+DlheLkP1SAfqZkMuA/uN8At2EY5j+lh5uGNJjhP3GJR0D2iOM/nyXSW8JU4z9IwSYW1pHjP6ri7RJvUuM/QEfsstQA5T9vVuNYpdniP5s3RAnxReI/QlybbkfD4D9Qd+0d+9/hPyqlXNRPB+M/rx6Aqn4i5D/FO0uz9jbiP6Fhe/8Sx+A/D+cFfz8B4j+tXyI927DiP2jHl0p0ZOM/eHIsjZ5M4j/PIo1yo4fkP0H/MIxZFeI/HwI054cA5T/B9U/Lc6HiP96gexvO/OE/R9cmVFDG5T+0e9KEwWnkP1FMkBPqf+E/AJWUu4E44z9UAkoiVuHjP/2BYT+DE+I/tvTtL7Fz4j/wKqafTpvhP09CpjChK+I/86tFQmvo4z/PSgKV29LiPzE+iT3U4uE/BqdYsYIo5T+t62U4GqDlP6hHKnTUPOI/svVIR9IA4z/+RPd5XZjhP8RY4uSFE+I/A0kh3SlG5D9K7m0ed3viP1IxbhIim+A/WcpIjq0u5D8G6IJYv5vkP5mo5gp16OM/dlm7FONK5D/7DDfRSC/jP9GYWeeDkuE/h21V9onQ4z/C7Gm4tmrkP4TDyI00H+Q/i4oWjw7b4j9fgcNUJSDkP8WqU1DqeeM/gZ4oDtJN4T8mS2hzelfhPw==",
          "dtype": "f8"
         },
         "xaxis": "x",
         "y": {
          "bdata": "sKvw5YYY4D+vsjij3cPWP3FCSp5lRN8/gsrZLfxq5D+GvdKfsx3fP+Y7dJvqMeY/ivRA5ewW3j+HG2644YbbPwAAAAAAAOA/TEHoH93G5D+VS7mUS7nkPwAAAAAAAOA/x/rQWB8a2z8WspCFLGThP6gRlnsaYeE/AAAAAAAA4D+MMcYYY4zhPwIncAIncOI/SQ9Uzm7h5z9T59ceclnhP8SIESNGjNg/6vp0fbo+3T/F0x5XAcHgP+adeWfemec/0y/90i/94j9Zb/fsYzPiPzLGGGOMMeI/yQR6p67l4D/lNZTXUF7jP9nY2NjY2Ng/dNFFF1104T8bWV2GvdLfP5o0adKkSdM/S0tLS0tL2z9JkiRJkiTjP2EfF/ZxYd8/Kmj1pYJW3z9LP3Ma3HnhPxA++OCDD94/Nso1yjXK5T8WCCPtWIHgPxEO4RAO4eA/1cJKTy2s5D9t1Hc26jvbP5Ey8HRrftg/9DzP8zzP4z/owWpax5vjP1K4HoXrUeA/27Zt27Zt3z9JOKV58SfiPx+ZQO/Utdw/5sjPFbMc6T+TJk2aNGnSP3usZeiA3d4/G63RGq3R2j8URVEURVHkP1KQ/HmVxdk/zvsUlwzB4j/UrkTtStTeP/jee++9994/etOb3vSm5z+rqqqqqqriP2N9aKwPjeU/OffZBcSm4j8EBw4cOHDgP+/UtRzc7Nc/AAAAAAAA3D+SJEmSJEneP8Zvl3oyfts/xOQKYnIF4T/qTW9605vePwAAAAAAANg/CtejcD0Kxz+6N6BMXOneP/OpF/OpF+M/uSPuiDvi3j8TP6PEzyjhP9PS0tLS0to/kNXsSb6P5T/aOvSbrUPfPyeaaKKJJto/Yg5zmMMc5j++Y2pg75jaP9AuIDaVhtw/33vvvffe6z9sM2oN5CTjP8prKK+hvNY/OY7jOI7j2D+JiIiIiIjYP1XMrc5Ixdw/AAAAAAAA4D+90Au90AvdP4uv+Iqv+No/U8B8ILuw6D+ZSA9Uzm7hPxolfkaJn+E/0hMcPcHR4z9kamDvmBrYPz6NsNzTCNs/S/Bt/gqz6j+SPQNR6cjeP9BwUvflsdU/lD7pkz7p4z/iQs1JIC7kP0CMxvsKfeQ/Nuo7G/Wd3T+YdGoe5K7fP3lsRdBwUtc/YEkvf9pC4z+llFJKKaXUPzOiD6iOveU/wzeiwKRT4z/XbJ+oHjTiP7y7u7u7u9s/q2eHwI1l4D8oKCgoKCjgPw==",
          "dtype": "f8"
         },
         "yaxis": "y"
        },
        {
         "hovertemplate": "<b>OLS trendline</b><br>win_pct = 1.19988 * bp_save_pct + -0.206828<br>R<sup>2</sup>=0.187130<br><br>bp_save_pct=%{x}<br>Win Percentage=%{y} <b>(trend)</b><extra></extra>",
         "legendgroup": "Overall Trendline",
         "line": {
          "color": "#ab63fa"
         },
         "mode": "lines",
         "name": "Overall Trendline",
         "showlegend": true,
         "type": "scatter",
         "x": {
          "bdata": "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",
          "dtype": "f8"
         },
         "xaxis": "x",
         "y": {
          "bdata": "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",
          "dtype": "f8"
         },
         "yaxis": "y"
        }
       ],
       "layout": {
        "legend": {
         "title": {
          "text": "surface"
         },
         "tracegroupgap": 0
        },
        "margin": {
         "t": 60
        },
        "template": {
         "data": {
          "bar": [
           {
            "error_x": {
             "color": "#2a3f5f"
            },
            "error_y": {
             "color": "#2a3f5f"
            },
            "marker": {
             "line": {
              "color": "#E5ECF6",
              "width": 0.5
             },
             "pattern": {
              "fillmode": "overlay",
              "size": 10,
              "solidity": 0.2
             }
            },
            "type": "bar"
           }
          ],
          "barpolar": [
           {
            "marker": {
             "line": {
              "color": "#E5ECF6",
              "width": 0.5
             },
             "pattern": {
              "fillmode": "overlay",
              "size": 10,
              "solidity": 0.2
             }
            },
            "type": "barpolar"
           }
          ],
          "carpet": [
           {
            "aaxis": {
             "endlinecolor": "#2a3f5f",
             "gridcolor": "white",
             "linecolor": "white",
             "minorgridcolor": "white",
             "startlinecolor": "#2a3f5f"
            },
            "baxis": {
             "endlinecolor": "#2a3f5f",
             "gridcolor": "white",
             "linecolor": "white",
             "minorgridcolor": "white",
             "startlinecolor": "#2a3f5f"
            },
            "type": "carpet"
           }
          ],
          "choropleth": [
           {
            "colorbar": {
             "outlinewidth": 0,
             "ticks": ""
            },
            "type": "choropleth"
           }
          ],
          "contour": [
           {
            "colorbar": {
             "outlinewidth": 0,
             "ticks": ""
            },
            "colorscale": [
             [
              0,
              "#0d0887"
             ],
             [
              0.1111111111111111,
              "#46039f"
             ],
             [
              0.2222222222222222,
              "#7201a8"
             ],
             [
              0.3333333333333333,
              "#9c179e"
             ],
             [
              0.4444444444444444,
              "#bd3786"
             ],
             [
              0.5555555555555556,
              "#d8576b"
             ],
             [
              0.6666666666666666,
              "#ed7953"
             ],
             [
              0.7777777777777778,
              "#fb9f3a"
             ],
             [
              0.8888888888888888,
              "#fdca26"
             ],
             [
              1,
              "#f0f921"
             ]
            ],
            "type": "contour"
           }
          ],
          "contourcarpet": [
           {
            "colorbar": {
             "outlinewidth": 0,
             "ticks": ""
            },
            "type": "contourcarpet"
           }
          ],
          "heatmap": [
           {
            "colorbar": {
             "outlinewidth": 0,
             "ticks": ""
            },
            "colorscale": [
             [
              0,
              "#0d0887"
             ],
             [
              0.1111111111111111,
              "#46039f"
             ],
             [
              0.2222222222222222,
              "#7201a8"
             ],
             [
              0.3333333333333333,
              "#9c179e"
             ],
             [
              0.4444444444444444,
              "#bd3786"
             ],
             [
              0.5555555555555556,
              "#d8576b"
             ],
             [
              0.6666666666666666,
              "#ed7953"
             ],
             [
              0.7777777777777778,
              "#fb9f3a"
             ],
             [
              0.8888888888888888,
              "#fdca26"
             ],
             [
              1,
              "#f0f921"
             ]
            ],
            "type": "heatmap"
           }
          ],
          "histogram": [
           {
            "marker": {
             "pattern": {
              "fillmode": "overlay",
              "size": 10,
              "solidity": 0.2
             }
            },
            "type": "histogram"
           }
          ],
          "histogram2d": [
           {
            "colorbar": {
             "outlinewidth": 0,
             "ticks": ""
            },
            "colorscale": [
             [
              0,
              "#0d0887"
             ],
             [
              0.1111111111111111,
              "#46039f"
             ],
             [
              0.2222222222222222,
              "#7201a8"
             ],
             [
              0.3333333333333333,
              "#9c179e"
             ],
             [
              0.4444444444444444,
              "#bd3786"
             ],
             [
              0.5555555555555556,
              "#d8576b"
             ],
             [
              0.6666666666666666,
              "#ed7953"
             ],
             [
              0.7777777777777778,
              "#fb9f3a"
             ],
             [
              0.8888888888888888,
              "#fdca26"
             ],
             [
              1,
              "#f0f921"
             ]
            ],
            "type": "histogram2d"
           }
          ],
          "histogram2dcontour": [
           {
            "colorbar": {
             "outlinewidth": 0,
             "ticks": ""
            },
            "colorscale": [
             [
              0,
              "#0d0887"
             ],
             [
              0.1111111111111111,
              "#46039f"
             ],
             [
              0.2222222222222222,
              "#7201a8"
             ],
             [
              0.3333333333333333,
              "#9c179e"
             ],
             [
              0.4444444444444444,
              "#bd3786"
             ],
             [
              0.5555555555555556,
              "#d8576b"
             ],
             [
              0.6666666666666666,
              "#ed7953"
             ],
             [
              0.7777777777777778,
              "#fb9f3a"
             ],
             [
              0.8888888888888888,
              "#fdca26"
             ],
             [
              1,
              "#f0f921"
             ]
            ],
            "type": "histogram2dcontour"
           }
          ],
          "mesh3d": [
           {
            "colorbar": {
             "outlinewidth": 0,
             "ticks": ""
            },
            "type": "mesh3d"
           }
          ],
          "parcoords": [
           {
            "line": {
             "colorbar": {
              "outlinewidth": 0,
              "ticks": ""
             }
            },
            "type": "parcoords"
           }
          ],
          "pie": [
           {
            "automargin": true,
            "type": "pie"
           }
          ],
          "scatter": [
           {
            "fillpattern": {
             "fillmode": "overlay",
             "size": 10,
             "solidity": 0.2
            },
            "type": "scatter"
           }
          ],
          "scatter3d": [
           {
            "line": {
             "colorbar": {
              "outlinewidth": 0,
              "ticks": ""
             }
            },
            "marker": {
             "colorbar": {
              "outlinewidth": 0,
              "ticks": ""
             }
            },
            "type": "scatter3d"
           }
          ],
          "scattercarpet": [
           {
            "marker": {
             "colorbar": {
              "outlinewidth": 0,
              "ticks": ""
             }
            },
            "type": "scattercarpet"
           }
          ],
          "scattergeo": [
           {
            "marker": {
             "colorbar": {
              "outlinewidth": 0,
              "ticks": ""
             }
            },
            "type": "scattergeo"
           }
          ],
          "scattergl": [
           {
            "marker": {
             "colorbar": {
              "outlinewidth": 0,
              "ticks": ""
             }
            },
            "type": "scattergl"
           }
          ],
          "scattermap": [
           {
            "marker": {
             "colorbar": {
              "outlinewidth": 0,
              "ticks": ""
             }
            },
            "type": "scattermap"
           }
          ],
          "scattermapbox": [
           {
            "marker": {
             "colorbar": {
              "outlinewidth": 0,
              "ticks": ""
             }
            },
            "type": "scattermapbox"
           }
          ],
          "scatterpolar": [
           {
            "marker": {
             "colorbar": {
              "outlinewidth": 0,
              "ticks": ""
             }
            },
            "type": "scatterpolar"
           }
          ],
          "scatterpolargl": [
           {
            "marker": {
             "colorbar": {
              "outlinewidth": 0,
              "ticks": ""
             }
            },
            "type": "scatterpolargl"
           }
          ],
          "scatterternary": [
           {
            "marker": {
             "colorbar": {
              "outlinewidth": 0,
              "ticks": ""
             }
            },
            "type": "scatterternary"
           }
          ],
          "surface": [
           {
            "colorbar": {
             "outlinewidth": 0,
             "ticks": ""
            },
            "colorscale": [
             [
              0,
              "#0d0887"
             ],
             [
              0.1111111111111111,
              "#46039f"
             ],
             [
              0.2222222222222222,
              "#7201a8"
             ],
             [
              0.3333333333333333,
              "#9c179e"
             ],
             [
              0.4444444444444444,
              "#bd3786"
             ],
             [
              0.5555555555555556,
              "#d8576b"
             ],
             [
              0.6666666666666666,
              "#ed7953"
             ],
             [
              0.7777777777777778,
              "#fb9f3a"
             ],
             [
              0.8888888888888888,
              "#fdca26"
             ],
             [
              1,
              "#f0f921"
             ]
            ],
            "type": "surface"
           }
          ],
          "table": [
           {
            "cells": {
             "fill": {
              "color": "#EBF0F8"
             },
             "line": {
              "color": "white"
             }
            },
            "header": {
             "fill": {
              "color": "#C8D4E3"
             },
             "line": {
              "color": "white"
             }
            },
            "type": "table"
           }
          ]
         },
         "layout": {
          "annotationdefaults": {
           "arrowcolor": "#2a3f5f",
           "arrowhead": 0,
           "arrowwidth": 1
          },
          "autotypenumbers": "strict",
          "coloraxis": {
           "colorbar": {
            "outlinewidth": 0,
            "ticks": ""
           }
          },
          "colorscale": {
           "diverging": [
            [
             0,
             "#8e0152"
            ],
            [
             0.1,
             "#c51b7d"
            ],
            [
             0.2,
             "#de77ae"
            ],
            [
             0.3,
             "#f1b6da"
            ],
            [
             0.4,
             "#fde0ef"
            ],
            [
             0.5,
             "#f7f7f7"
            ],
            [
             0.6,
             "#e6f5d0"
            ],
            [
             0.7,
             "#b8e186"
            ],
            [
             0.8,
             "#7fbc41"
            ],
            [
             0.9,
             "#4d9221"
            ],
            [
             1,
             "#276419"
            ]
           ],
           "sequential": [
            [
             0,
             "#0d0887"
            ],
            [
             0.1111111111111111,
             "#46039f"
            ],
            [
             0.2222222222222222,
             "#7201a8"
            ],
            [
             0.3333333333333333,
             "#9c179e"
            ],
            [
             0.4444444444444444,
             "#bd3786"
            ],
            [
             0.5555555555555556,
             "#d8576b"
            ],
            [
             0.6666666666666666,
             "#ed7953"
            ],
            [
             0.7777777777777778,
             "#fb9f3a"
            ],
            [
             0.8888888888888888,
             "#fdca26"
            ],
            [
             1,
             "#f0f921"
            ]
           ],
           "sequentialminus": [
            [
             0,
             "#0d0887"
            ],
            [
             0.1111111111111111,
             "#46039f"
            ],
            [
             0.2222222222222222,
             "#7201a8"
            ],
            [
             0.3333333333333333,
             "#9c179e"
            ],
            [
             0.4444444444444444,
             "#bd3786"
            ],
            [
             0.5555555555555556,
             "#d8576b"
            ],
            [
             0.6666666666666666,
             "#ed7953"
            ],
            [
             0.7777777777777778,
             "#fb9f3a"
            ],
            [
             0.8888888888888888,
             "#fdca26"
            ],
            [
             1,
             "#f0f921"
            ]
           ]
          },
          "colorway": [
           "#636efa",
           "#EF553B",
           "#00cc96",
           "#ab63fa",
           "#FFA15A",
           "#19d3f3",
           "#FF6692",
           "#B6E880",
           "#FF97FF",
           "#FECB52"
          ],
          "font": {
           "color": "#2a3f5f"
          },
          "geo": {
           "bgcolor": "white",
           "lakecolor": "white",
           "landcolor": "#E5ECF6",
           "showlakes": true,
           "showland": true,
           "subunitcolor": "white"
          },
          "hoverlabel": {
           "align": "left"
          },
          "hovermode": "closest",
          "mapbox": {
           "style": "light"
          },
          "paper_bgcolor": "white",
          "plot_bgcolor": "#E5ECF6",
          "polar": {
           "angularaxis": {
            "gridcolor": "white",
            "linecolor": "white",
            "ticks": ""
           },
           "bgcolor": "#E5ECF6",
           "radialaxis": {
            "gridcolor": "white",
            "linecolor": "white",
            "ticks": ""
           }
          },
          "scene": {
           "xaxis": {
            "backgroundcolor": "#E5ECF6",
            "gridcolor": "white",
            "gridwidth": 2,
            "linecolor": "white",
            "showbackground": true,
            "ticks": "",
            "zerolinecolor": "white"
           },
           "yaxis": {
            "backgroundcolor": "#E5ECF6",
            "gridcolor": "white",
            "gridwidth": 2,
            "linecolor": "white",
            "showbackground": true,
            "ticks": "",
            "zerolinecolor": "white"
           },
           "zaxis": {
            "backgroundcolor": "#E5ECF6",
            "gridcolor": "white",
            "gridwidth": 2,
            "linecolor": "white",
            "showbackground": true,
            "ticks": "",
            "zerolinecolor": "white"
           }
          },
          "shapedefaults": {
           "line": {
            "color": "#2a3f5f"
           }
          },
          "ternary": {
           "aaxis": {
            "gridcolor": "white",
            "linecolor": "white",
            "ticks": ""
           },
           "baxis": {
            "gridcolor": "white",
            "linecolor": "white",
            "ticks": ""
           },
           "bgcolor": "#E5ECF6",
           "caxis": {
            "gridcolor": "white",
            "linecolor": "white",
            "ticks": ""
           }
          },
          "title": {
           "x": 0.05
          },
          "xaxis": {
           "automargin": true,
           "gridcolor": "white",
           "linecolor": "white",
           "ticks": "",
           "title": {
            "standoff": 15
           },
           "zerolinecolor": "white",
           "zerolinewidth": 2
          },
          "yaxis": {
           "automargin": true,
           "gridcolor": "white",
           "linecolor": "white",
           "ticks": "",
           "title": {
            "standoff": 15
           },
           "zerolinecolor": "white",
           "zerolinewidth": 2
          }
         }
        },
        "xaxis": {
         "anchor": "y",
         "domain": [
          0,
          1
         ],
         "title": {
          "text": "bp_save_pct"
         }
        },
        "yaxis": {
         "anchor": "x",
         "domain": [
          0,
          1
         ],
         "title": {
          "text": "Win Percentage"
         }
        }
       }
      }
     },
     "metadata": {},
     "output_type": "display_data"
    }
   ],
   "source": [
    "pxdata = player_surface[player_surface['total_matches'] >= 150]\n",
    "\n",
    "color_map = {\n",
    "    \"Clay\": \"#BF5700\",   \n",
    "    \"Grass\": \"green\",  \n",
    "    \"Hard\": \"blue\"     \n",
    "}\n",
    "\n",
    "fig = px.scatter(pxdata, x = 'bp_save_pct', y = 'win_pct', hover_data = 'player_name', color = 'surface', color_discrete_map = color_map, trendline = 'ols', trendline_scope = 'overall', labels = {\n",
    "    'ace_pct' : 'Ace Percentage',\n",
    "    'win_pct' : 'Win Percentage'\n",
    "})\n",
    "\n",
    "fig.show()"
   ]
  },
  {
   "cell_type": "markdown",
   "id": "eaada3af",
   "metadata": {},
   "source": [
    "This chart suggests a much stronger correlation between winning and saving break points, particularly on grass surfaces. Again, the data is more scattered on clay, supporting the initial hypothesis "
   ]
  },
  {
   "cell_type": "markdown",
   "id": "d2bc6d7a",
   "metadata": {},
   "source": [
    "## Who performs best on which surfaces?"
   ]
  },
  {
   "cell_type": "code",
   "execution_count": 14,
   "id": "9d76aef5",
   "metadata": {},
   "outputs": [
    {
     "data": {
      "application/vnd.plotly.v1+json": {
       "config": {
        "plotlyServerURL": "https://plot.ly"
       },
       "data": [
        {
         "alignmentgroup": "True",
         "hovertemplate": "surface=Clay<br>Player=%{x}<br>Win Percentage=%{y}<extra></extra>",
         "legendgroup": "Clay",
         "marker": {
          "color": "#BF5700",
          "pattern": {
           "shape": ""
          }
         },
         "name": "Clay",
         "offsetgroup": "Clay",
         "orientation": "v",
         "showlegend": true,
         "textposition": "auto",
         "type": "bar",
         "x": [
          "Adrian Mannarino",
          "Albert Ramos",
          "Alex De Minaur",
          "Alexander Zverev",
          "Andrey Rublev",
          "Andy Murray",
          "Benoit Paire",
          "Borna Coric",
          "Cameron Norrie",
          "Casper Ruud",
          "Daniil Medvedev",
          "David Goffin",
          "Denis Shapovalov",
          "Diego Schwartzman",
          "Dominic Thiem",
          "Dusan Lajovic",
          "Fabio Fognini",
          "Felix Auger Aliassime",
          "Frances Tiafoe",
          "Gael Monfils",
          "Grigor Dimitrov",
          "Hubert Hurkacz",
          "Jan Lennard Struff",
          "Jannik Sinner",
          "Joao Sousa",
          "John Isner",
          "Karen Khachanov",
          "Kei Nishikori",
          "Marin Cilic",
          "Novak Djokovic",
          "Pablo Carreno Busta",
          "Rafael Nadal",
          "Richard Gasquet",
          "Roberto Bautista Agut",
          "Stan Wawrinka",
          "Stefanos Tsitsipas",
          "Taylor Fritz"
         ],
         "xaxis": "x",
         "y": {
          "bdata": "L6G9hPYSyj8AAAAAAIDhP67sc0hNMN4/uLe3t7e35z/XcnCzX4jlP+5phOWeRug/H8F9BPcR3D9x9YOOCnzhPxQ7sRM7seM/c5jDHOYw5z+5pxGWexrhPyofxv26pOI/afM+xSVD4D+SJEmSJEniP8+QmLczJOY/6wZT5LNu4D/f9KY3venhP4UKFSpUqOA/Z7fwqzGR3j9mZmZmZmbgP5IkSZIkSeI/9xLaS2gv4T872rxPccngP0422WSTTeY/MmfMGXPG3D/T0tLS0tLiP+0ltJfQXuI/jfWhsT405j/B0635YZHiP2flJ8RZ+ek/wXgr+xxS4z9605ve9KbrP9YZqZhbneE/AAAAAABA4j9i3s6QmLfjP1DtOZm+Sug/dWTPQFQ64j8=",
          "dtype": "f8"
         },
         "yaxis": "y"
        },
        {
         "alignmentgroup": "True",
         "hovertemplate": "surface=Grass<br>Player=%{x}<br>Win Percentage=%{y}<extra></extra>",
         "legendgroup": "Grass",
         "marker": {
          "color": "green",
          "pattern": {
           "shape": ""
          }
         },
         "name": "Grass",
         "offsetgroup": "Grass",
         "orientation": "v",
         "showlegend": true,
         "textposition": "auto",
         "type": "bar",
         "x": [
          "Adrian Mannarino",
          "Albert Ramos",
          "Alex De Minaur",
          "Alexander Zverev",
          "Andrey Rublev",
          "Andy Murray",
          "Benoit Paire",
          "Borna Coric",
          "Cameron Norrie",
          "Casper Ruud",
          "Daniil Medvedev",
          "David Goffin",
          "Denis Shapovalov",
          "Diego Schwartzman",
          "Dominic Thiem",
          "Dusan Lajovic",
          "Fabio Fognini",
          "Felix Auger Aliassime",
          "Frances Tiafoe",
          "Gael Monfils",
          "Grigor Dimitrov",
          "Hubert Hurkacz",
          "Jan Lennard Struff",
          "Jannik Sinner",
          "Joao Sousa",
          "John Isner",
          "Karen Khachanov",
          "Kei Nishikori",
          "Marin Cilic",
          "Novak Djokovic",
          "Pablo Carreno Busta",
          "Rafael Nadal",
          "Richard Gasquet",
          "Roberto Bautista Agut",
          "Stan Wawrinka",
          "Stefanos Tsitsipas",
          "Taylor Fritz"
         ],
         "xaxis": "x",
         "y": {
          "bdata": "4wUyKV4g4z8eHh4eHh7OPzkFL6fg5eQ/w/UoXI/C5T/Cck8jLPfkP4ZhGIZhGOY/+N5777333j+e53me53nePyxRuxK1K+E/q6qqqqqq2j+mpaWlpaXlPzMzMzMzM+M/ZmZmZmZm3j+rqqqqqqraPwAAAAAAAOA/eQ3lNZTX0D/poosuuujiP9RBHdRBHeQ/9DE4H4Pz4T+MMcYYY4zhP8IU+awbTOE/NUiDNEiD5D+wBVuwBVvgP2ZmZmZmZuY/FDuxEzux0z9RXkN5DeXlPxQ7sRM7seM/VVVVVVVV5T94eHh4eHjoP+axFUHDSe0/l5aWlpaW1j+jiy666KLrP9IgDdIgDeI/0V5Cewnt5T8vuuiiiy7aP9IgDdIgDeI/wXgr+xxS4z8=",
          "dtype": "f8"
         },
         "yaxis": "y"
        },
        {
         "alignmentgroup": "True",
         "hovertemplate": "surface=Hard<br>Player=%{x}<br>Win Percentage=%{y}<extra></extra>",
         "legendgroup": "Hard",
         "marker": {
          "color": "blue",
          "pattern": {
           "shape": ""
          }
         },
         "name": "Hard",
         "offsetgroup": "Hard",
         "orientation": "v",
         "showlegend": true,
         "textposition": "auto",
         "type": "bar",
         "x": [
          "Adrian Mannarino",
          "Albert Ramos",
          "Alex De Minaur",
          "Alexander Zverev",
          "Andrey Rublev",
          "Andy Murray",
          "Benoit Paire",
          "Borna Coric",
          "Cameron Norrie",
          "Casper Ruud",
          "Daniil Medvedev",
          "David Goffin",
          "Denis Shapovalov",
          "Diego Schwartzman",
          "Dominic Thiem",
          "Dusan Lajovic",
          "Fabio Fognini",
          "Felix Auger Aliassime",
          "Frances Tiafoe",
          "Gael Monfils",
          "Grigor Dimitrov",
          "Hubert Hurkacz",
          "Jan Lennard Struff",
          "Jannik Sinner",
          "Joao Sousa",
          "John Isner",
          "Karen Khachanov",
          "Kei Nishikori",
          "Marin Cilic",
          "Novak Djokovic",
          "Pablo Carreno Busta",
          "Rafael Nadal",
          "Richard Gasquet",
          "Roberto Bautista Agut",
          "Stan Wawrinka",
          "Stefanos Tsitsipas",
          "Taylor Fritz"
         ],
         "xaxis": "x",
         "y": {
          "bdata": "sKvw5YYY4D+vsjij3cPWP4LK2S38auQ/5jt0m+ox5j9MQegf3cbkP5VLuZRLueQ/x/rQWB8a2z+oEZZ7GmHhPwIncAIncOI/U+fXHnJZ4T/mnXln3pnnP1lv9+xjM+I/MsYYY4wx4j/JBHqnruXgP+U1lNdQXuM/2djY2NjY2D8bWV2GvdLfP0mSJEmSJOM/Sz9zGtx54T82yjXKNcrlP9XCSk8trOQ/6MFqWseb4z8fmUDv1LXcP+bIzxWzHOk/UpD8eZXF2T/O+xSXDMHiP6uqqqqqquI/Y31orA+N5T/zqRfzqRfjP99777333us/bDNqDeQk4z9TwHwgu7DoPxolfkaJn+E/0hMcPcHR4z/iQs1JIC7kP0CMxvsKfeQ/YEkvf9pC4z8=",
          "dtype": "f8"
         },
         "yaxis": "y"
        }
       ],
       "layout": {
        "barmode": "group",
        "legend": {
         "title": {
          "text": "surface"
         },
         "tracegroupgap": 0
        },
        "margin": {
         "t": 60
        },
        "template": {
         "data": {
          "bar": [
           {
            "error_x": {
             "color": "#2a3f5f"
            },
            "error_y": {
             "color": "#2a3f5f"
            },
            "marker": {
             "line": {
              "color": "#E5ECF6",
              "width": 0.5
             },
             "pattern": {
              "fillmode": "overlay",
              "size": 10,
              "solidity": 0.2
             }
            },
            "type": "bar"
           }
          ],
          "barpolar": [
           {
            "marker": {
             "line": {
              "color": "#E5ECF6",
              "width": 0.5
             },
             "pattern": {
              "fillmode": "overlay",
              "size": 10,
              "solidity": 0.2
             }
            },
            "type": "barpolar"
           }
          ],
          "carpet": [
           {
            "aaxis": {
             "endlinecolor": "#2a3f5f",
             "gridcolor": "white",
             "linecolor": "white",
             "minorgridcolor": "white",
             "startlinecolor": "#2a3f5f"
            },
            "baxis": {
             "endlinecolor": "#2a3f5f",
             "gridcolor": "white",
             "linecolor": "white",
             "minorgridcolor": "white",
             "startlinecolor": "#2a3f5f"
            },
            "type": "carpet"
           }
          ],
          "choropleth": [
           {
            "colorbar": {
             "outlinewidth": 0,
             "ticks": ""
            },
            "type": "choropleth"
           }
          ],
          "contour": [
           {
            "colorbar": {
             "outlinewidth": 0,
             "ticks": ""
            },
            "colorscale": [
             [
              0,
              "#0d0887"
             ],
             [
              0.1111111111111111,
              "#46039f"
             ],
             [
              0.2222222222222222,
              "#7201a8"
             ],
             [
              0.3333333333333333,
              "#9c179e"
             ],
             [
              0.4444444444444444,
              "#bd3786"
             ],
             [
              0.5555555555555556,
              "#d8576b"
             ],
             [
              0.6666666666666666,
              "#ed7953"
             ],
             [
              0.7777777777777778,
              "#fb9f3a"
             ],
             [
              0.8888888888888888,
              "#fdca26"
             ],
             [
              1,
              "#f0f921"
             ]
            ],
            "type": "contour"
           }
          ],
          "contourcarpet": [
           {
            "colorbar": {
             "outlinewidth": 0,
             "ticks": ""
            },
            "type": "contourcarpet"
           }
          ],
          "heatmap": [
           {
            "colorbar": {
             "outlinewidth": 0,
             "ticks": ""
            },
            "colorscale": [
             [
              0,
              "#0d0887"
             ],
             [
              0.1111111111111111,
              "#46039f"
             ],
             [
              0.2222222222222222,
              "#7201a8"
             ],
             [
              0.3333333333333333,
              "#9c179e"
             ],
             [
              0.4444444444444444,
              "#bd3786"
             ],
             [
              0.5555555555555556,
              "#d8576b"
             ],
             [
              0.6666666666666666,
              "#ed7953"
             ],
             [
              0.7777777777777778,
              "#fb9f3a"
             ],
             [
              0.8888888888888888,
              "#fdca26"
             ],
             [
              1,
              "#f0f921"
             ]
            ],
            "type": "heatmap"
           }
          ],
          "histogram": [
           {
            "marker": {
             "pattern": {
              "fillmode": "overlay",
              "size": 10,
              "solidity": 0.2
             }
            },
            "type": "histogram"
           }
          ],
          "histogram2d": [
           {
            "colorbar": {
             "outlinewidth": 0,
             "ticks": ""
            },
            "colorscale": [
             [
              0,
              "#0d0887"
             ],
             [
              0.1111111111111111,
              "#46039f"
             ],
             [
              0.2222222222222222,
              "#7201a8"
             ],
             [
              0.3333333333333333,
              "#9c179e"
             ],
             [
              0.4444444444444444,
              "#bd3786"
             ],
             [
              0.5555555555555556,
              "#d8576b"
             ],
             [
              0.6666666666666666,
              "#ed7953"
             ],
             [
              0.7777777777777778,
              "#fb9f3a"
             ],
             [
              0.8888888888888888,
              "#fdca26"
             ],
             [
              1,
              "#f0f921"
             ]
            ],
            "type": "histogram2d"
           }
          ],
          "histogram2dcontour": [
           {
            "colorbar": {
             "outlinewidth": 0,
             "ticks": ""
            },
            "colorscale": [
             [
              0,
              "#0d0887"
             ],
             [
              0.1111111111111111,
              "#46039f"
             ],
             [
              0.2222222222222222,
              "#7201a8"
             ],
             [
              0.3333333333333333,
              "#9c179e"
             ],
             [
              0.4444444444444444,
              "#bd3786"
             ],
             [
              0.5555555555555556,
              "#d8576b"
             ],
             [
              0.6666666666666666,
              "#ed7953"
             ],
             [
              0.7777777777777778,
              "#fb9f3a"
             ],
             [
              0.8888888888888888,
              "#fdca26"
             ],
             [
              1,
              "#f0f921"
             ]
            ],
            "type": "histogram2dcontour"
           }
          ],
          "mesh3d": [
           {
            "colorbar": {
             "outlinewidth": 0,
             "ticks": ""
            },
            "type": "mesh3d"
           }
          ],
          "parcoords": [
           {
            "line": {
             "colorbar": {
              "outlinewidth": 0,
              "ticks": ""
             }
            },
            "type": "parcoords"
           }
          ],
          "pie": [
           {
            "automargin": true,
            "type": "pie"
           }
          ],
          "scatter": [
           {
            "fillpattern": {
             "fillmode": "overlay",
             "size": 10,
             "solidity": 0.2
            },
            "type": "scatter"
           }
          ],
          "scatter3d": [
           {
            "line": {
             "colorbar": {
              "outlinewidth": 0,
              "ticks": ""
             }
            },
            "marker": {
             "colorbar": {
              "outlinewidth": 0,
              "ticks": ""
             }
            },
            "type": "scatter3d"
           }
          ],
          "scattercarpet": [
           {
            "marker": {
             "colorbar": {
              "outlinewidth": 0,
              "ticks": ""
             }
            },
            "type": "scattercarpet"
           }
          ],
          "scattergeo": [
           {
            "marker": {
             "colorbar": {
              "outlinewidth": 0,
              "ticks": ""
             }
            },
            "type": "scattergeo"
           }
          ],
          "scattergl": [
           {
            "marker": {
             "colorbar": {
              "outlinewidth": 0,
              "ticks": ""
             }
            },
            "type": "scattergl"
           }
          ],
          "scattermap": [
           {
            "marker": {
             "colorbar": {
              "outlinewidth": 0,
              "ticks": ""
             }
            },
            "type": "scattermap"
           }
          ],
          "scattermapbox": [
           {
            "marker": {
             "colorbar": {
              "outlinewidth": 0,
              "ticks": ""
             }
            },
            "type": "scattermapbox"
           }
          ],
          "scatterpolar": [
           {
            "marker": {
             "colorbar": {
              "outlinewidth": 0,
              "ticks": ""
             }
            },
            "type": "scatterpolar"
           }
          ],
          "scatterpolargl": [
           {
            "marker": {
             "colorbar": {
              "outlinewidth": 0,
              "ticks": ""
             }
            },
            "type": "scatterpolargl"
           }
          ],
          "scatterternary": [
           {
            "marker": {
             "colorbar": {
              "outlinewidth": 0,
              "ticks": ""
             }
            },
            "type": "scatterternary"
           }
          ],
          "surface": [
           {
            "colorbar": {
             "outlinewidth": 0,
             "ticks": ""
            },
            "colorscale": [
             [
              0,
              "#0d0887"
             ],
             [
              0.1111111111111111,
              "#46039f"
             ],
             [
              0.2222222222222222,
              "#7201a8"
             ],
             [
              0.3333333333333333,
              "#9c179e"
             ],
             [
              0.4444444444444444,
              "#bd3786"
             ],
             [
              0.5555555555555556,
              "#d8576b"
             ],
             [
              0.6666666666666666,
              "#ed7953"
             ],
             [
              0.7777777777777778,
              "#fb9f3a"
             ],
             [
              0.8888888888888888,
              "#fdca26"
             ],
             [
              1,
              "#f0f921"
             ]
            ],
            "type": "surface"
           }
          ],
          "table": [
           {
            "cells": {
             "fill": {
              "color": "#EBF0F8"
             },
             "line": {
              "color": "white"
             }
            },
            "header": {
             "fill": {
              "color": "#C8D4E3"
             },
             "line": {
              "color": "white"
             }
            },
            "type": "table"
           }
          ]
         },
         "layout": {
          "annotationdefaults": {
           "arrowcolor": "#2a3f5f",
           "arrowhead": 0,
           "arrowwidth": 1
          },
          "autotypenumbers": "strict",
          "coloraxis": {
           "colorbar": {
            "outlinewidth": 0,
            "ticks": ""
           }
          },
          "colorscale": {
           "diverging": [
            [
             0,
             "#8e0152"
            ],
            [
             0.1,
             "#c51b7d"
            ],
            [
             0.2,
             "#de77ae"
            ],
            [
             0.3,
             "#f1b6da"
            ],
            [
             0.4,
             "#fde0ef"
            ],
            [
             0.5,
             "#f7f7f7"
            ],
            [
             0.6,
             "#e6f5d0"
            ],
            [
             0.7,
             "#b8e186"
            ],
            [
             0.8,
             "#7fbc41"
            ],
            [
             0.9,
             "#4d9221"
            ],
            [
             1,
             "#276419"
            ]
           ],
           "sequential": [
            [
             0,
             "#0d0887"
            ],
            [
             0.1111111111111111,
             "#46039f"
            ],
            [
             0.2222222222222222,
             "#7201a8"
            ],
            [
             0.3333333333333333,
             "#9c179e"
            ],
            [
             0.4444444444444444,
             "#bd3786"
            ],
            [
             0.5555555555555556,
             "#d8576b"
            ],
            [
             0.6666666666666666,
             "#ed7953"
            ],
            [
             0.7777777777777778,
             "#fb9f3a"
            ],
            [
             0.8888888888888888,
             "#fdca26"
            ],
            [
             1,
             "#f0f921"
            ]
           ],
           "sequentialminus": [
            [
             0,
             "#0d0887"
            ],
            [
             0.1111111111111111,
             "#46039f"
            ],
            [
             0.2222222222222222,
             "#7201a8"
            ],
            [
             0.3333333333333333,
             "#9c179e"
            ],
            [
             0.4444444444444444,
             "#bd3786"
            ],
            [
             0.5555555555555556,
             "#d8576b"
            ],
            [
             0.6666666666666666,
             "#ed7953"
            ],
            [
             0.7777777777777778,
             "#fb9f3a"
            ],
            [
             0.8888888888888888,
             "#fdca26"
            ],
            [
             1,
             "#f0f921"
            ]
           ]
          },
          "colorway": [
           "#636efa",
           "#EF553B",
           "#00cc96",
           "#ab63fa",
           "#FFA15A",
           "#19d3f3",
           "#FF6692",
           "#B6E880",
           "#FF97FF",
           "#FECB52"
          ],
          "font": {
           "color": "#2a3f5f"
          },
          "geo": {
           "bgcolor": "white",
           "lakecolor": "white",
           "landcolor": "#E5ECF6",
           "showlakes": true,
           "showland": true,
           "subunitcolor": "white"
          },
          "hoverlabel": {
           "align": "left"
          },
          "hovermode": "closest",
          "mapbox": {
           "style": "light"
          },
          "paper_bgcolor": "white",
          "plot_bgcolor": "#E5ECF6",
          "polar": {
           "angularaxis": {
            "gridcolor": "white",
            "linecolor": "white",
            "ticks": ""
           },
           "bgcolor": "#E5ECF6",
           "radialaxis": {
            "gridcolor": "white",
            "linecolor": "white",
            "ticks": ""
           }
          },
          "scene": {
           "xaxis": {
            "backgroundcolor": "#E5ECF6",
            "gridcolor": "white",
            "gridwidth": 2,
            "linecolor": "white",
            "showbackground": true,
            "ticks": "",
            "zerolinecolor": "white"
           },
           "yaxis": {
            "backgroundcolor": "#E5ECF6",
            "gridcolor": "white",
            "gridwidth": 2,
            "linecolor": "white",
            "showbackground": true,
            "ticks": "",
            "zerolinecolor": "white"
           },
           "zaxis": {
            "backgroundcolor": "#E5ECF6",
            "gridcolor": "white",
            "gridwidth": 2,
            "linecolor": "white",
            "showbackground": true,
            "ticks": "",
            "zerolinecolor": "white"
           }
          },
          "shapedefaults": {
           "line": {
            "color": "#2a3f5f"
           }
          },
          "ternary": {
           "aaxis": {
            "gridcolor": "white",
            "linecolor": "white",
            "ticks": ""
           },
           "baxis": {
            "gridcolor": "white",
            "linecolor": "white",
            "ticks": ""
           },
           "bgcolor": "#E5ECF6",
           "caxis": {
            "gridcolor": "white",
            "linecolor": "white",
            "ticks": ""
           }
          },
          "title": {
           "x": 0.05
          },
          "xaxis": {
           "automargin": true,
           "gridcolor": "white",
           "linecolor": "white",
           "ticks": "",
           "title": {
            "standoff": 15
           },
           "zerolinecolor": "white",
           "zerolinewidth": 2
          },
          "yaxis": {
           "automargin": true,
           "gridcolor": "white",
           "linecolor": "white",
           "ticks": "",
           "title": {
            "standoff": 15
           },
           "zerolinecolor": "white",
           "zerolinewidth": 2
          }
         }
        },
        "xaxis": {
         "anchor": "y",
         "domain": [
          0,
          1
         ],
         "title": {
          "text": "Player"
         }
        },
        "yaxis": {
         "anchor": "x",
         "domain": [
          0,
          1
         ],
         "title": {
          "text": "Win Percentage"
         }
        }
       }
      }
     },
     "metadata": {},
     "output_type": "display_data"
    }
   ],
   "source": [
    "pxdata = player_surface[player_surface['total_matches'] >= 300]\n",
    "\n",
    "color_map = {\n",
    "    \"Clay\": \"#BF5700\",   \n",
    "    \"Grass\": \"green\",  \n",
    "    \"Hard\": \"blue\"     \n",
    "}\n",
    "\n",
    "fig = px.bar(pxdata, x = 'player_name', y = 'win_pct', color = 'surface', color_discrete_map = color_map, barmode = 'group', labels = {\n",
    "    'player_name' : 'Player',\n",
    "    'win_pct' : 'Win Percentage'\n",
    "})\n",
    "\n",
    "fig.show()"
   ]
  },
  {
   "cell_type": "code",
   "execution_count": null,
   "id": "0f2ce7c8",
   "metadata": {},
   "outputs": [],
   "source": []
  }
 ],
 "metadata": {
  "kernelspec": {
   "display_name": "Python 3",
   "language": "python",
   "name": "python3"
  },
  "language_info": {
   "codemirror_mode": {
    "name": "ipython",
    "version": 3
   },
   "file_extension": ".py",
   "mimetype": "text/x-python",
   "name": "python",
   "nbconvert_exporter": "python",
   "pygments_lexer": "ipython3",
   "version": "3.13.2"
  }
 },
 "nbformat": 4,
 "nbformat_minor": 5
}
