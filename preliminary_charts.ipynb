{
 "cells": [
  {
   "cell_type": "code",
   "execution_count": 1,
   "id": "a5f3395a",
   "metadata": {},
   "outputs": [],
   "source": [
    "import pandas as pd\n",
    "import numpy as np\n",
    "import seaborn as sns\n",
    "import statsmodels.api as sm\n",
    "import statsmodels.formula.api as smf\n",
    "from scipy import stats\n",
    "import matplotlib.pyplot as plt\n",
    "from pandasql import sqldf\n",
    "import sqlite3 \n",
    "import datetime as dt\n",
    "import plotly.express as px"
   ]
  },
  {
   "cell_type": "markdown",
   "id": "a328bb01",
   "metadata": {},
   "source": [
    "## Add rate columns"
   ]
  },
  {
   "cell_type": "code",
   "execution_count": 2,
   "id": "07f9bf35",
   "metadata": {},
   "outputs": [
    {
     "data": {
      "text/html": [
       "<div>\n",
       "<style scoped>\n",
       "    .dataframe tbody tr th:only-of-type {\n",
       "        vertical-align: middle;\n",
       "    }\n",
       "\n",
       "    .dataframe tbody tr th {\n",
       "        vertical-align: top;\n",
       "    }\n",
       "\n",
       "    .dataframe thead th {\n",
       "        text-align: right;\n",
       "    }\n",
       "</style>\n",
       "<table border=\"1\" class=\"dataframe\">\n",
       "  <thead>\n",
       "    <tr style=\"text-align: right;\">\n",
       "      <th></th>\n",
       "      <th>player_id</th>\n",
       "      <th>match_id</th>\n",
       "      <th>year</th>\n",
       "      <th>month</th>\n",
       "      <th>player_name</th>\n",
       "      <th>country</th>\n",
       "      <th>height</th>\n",
       "      <th>hand</th>\n",
       "      <th>tourney_name</th>\n",
       "      <th>tourney_level</th>\n",
       "      <th>...</th>\n",
       "      <th>svpt</th>\n",
       "      <th>first_in</th>\n",
       "      <th>first_won</th>\n",
       "      <th>second_won</th>\n",
       "      <th>sv_gms</th>\n",
       "      <th>bp_saved</th>\n",
       "      <th>bp_faced</th>\n",
       "      <th>rank</th>\n",
       "      <th>rank_points</th>\n",
       "      <th>won</th>\n",
       "    </tr>\n",
       "  </thead>\n",
       "  <tbody>\n",
       "    <tr>\n",
       "      <th>0</th>\n",
       "      <td>105357</td>\n",
       "      <td>2015-339_1</td>\n",
       "      <td>2015</td>\n",
       "      <td>1</td>\n",
       "      <td>John Millman</td>\n",
       "      <td>AUS</td>\n",
       "      <td>183</td>\n",
       "      <td>R</td>\n",
       "      <td>Brisbane</td>\n",
       "      <td>A</td>\n",
       "      <td>...</td>\n",
       "      <td>44</td>\n",
       "      <td>24</td>\n",
       "      <td>19</td>\n",
       "      <td>14</td>\n",
       "      <td>8</td>\n",
       "      <td>1</td>\n",
       "      <td>1</td>\n",
       "      <td>153</td>\n",
       "      <td>328</td>\n",
       "      <td>1</td>\n",
       "    </tr>\n",
       "    <tr>\n",
       "      <th>1</th>\n",
       "      <td>103813</td>\n",
       "      <td>2015-339_2</td>\n",
       "      <td>2015</td>\n",
       "      <td>1</td>\n",
       "      <td>Jarkko Nieminen</td>\n",
       "      <td>FIN</td>\n",
       "      <td>185</td>\n",
       "      <td>L</td>\n",
       "      <td>Brisbane</td>\n",
       "      <td>A</td>\n",
       "      <td>...</td>\n",
       "      <td>92</td>\n",
       "      <td>59</td>\n",
       "      <td>39</td>\n",
       "      <td>17</td>\n",
       "      <td>14</td>\n",
       "      <td>4</td>\n",
       "      <td>7</td>\n",
       "      <td>73</td>\n",
       "      <td>689</td>\n",
       "      <td>1</td>\n",
       "    </tr>\n",
       "    <tr>\n",
       "      <th>2</th>\n",
       "      <td>105902</td>\n",
       "      <td>2015-339_3</td>\n",
       "      <td>2015</td>\n",
       "      <td>1</td>\n",
       "      <td>James Duckworth</td>\n",
       "      <td>AUS</td>\n",
       "      <td>183</td>\n",
       "      <td>R</td>\n",
       "      <td>Brisbane</td>\n",
       "      <td>A</td>\n",
       "      <td>...</td>\n",
       "      <td>45</td>\n",
       "      <td>27</td>\n",
       "      <td>20</td>\n",
       "      <td>11</td>\n",
       "      <td>8</td>\n",
       "      <td>2</td>\n",
       "      <td>3</td>\n",
       "      <td>125</td>\n",
       "      <td>430</td>\n",
       "      <td>1</td>\n",
       "    </tr>\n",
       "    <tr>\n",
       "      <th>3</th>\n",
       "      <td>104871</td>\n",
       "      <td>2015-339_4</td>\n",
       "      <td>2015</td>\n",
       "      <td>1</td>\n",
       "      <td>Jeremy Chardy</td>\n",
       "      <td>FRA</td>\n",
       "      <td>188</td>\n",
       "      <td>R</td>\n",
       "      <td>Brisbane</td>\n",
       "      <td>A</td>\n",
       "      <td>...</td>\n",
       "      <td>53</td>\n",
       "      <td>39</td>\n",
       "      <td>31</td>\n",
       "      <td>11</td>\n",
       "      <td>10</td>\n",
       "      <td>0</td>\n",
       "      <td>0</td>\n",
       "      <td>31</td>\n",
       "      <td>1195</td>\n",
       "      <td>1</td>\n",
       "    </tr>\n",
       "    <tr>\n",
       "      <th>4</th>\n",
       "      <td>105373</td>\n",
       "      <td>2015-339_5</td>\n",
       "      <td>2015</td>\n",
       "      <td>1</td>\n",
       "      <td>Martin Klizan</td>\n",
       "      <td>SVK</td>\n",
       "      <td>191</td>\n",
       "      <td>L</td>\n",
       "      <td>Brisbane</td>\n",
       "      <td>A</td>\n",
       "      <td>...</td>\n",
       "      <td>130</td>\n",
       "      <td>79</td>\n",
       "      <td>55</td>\n",
       "      <td>27</td>\n",
       "      <td>16</td>\n",
       "      <td>6</td>\n",
       "      <td>8</td>\n",
       "      <td>34</td>\n",
       "      <td>1094</td>\n",
       "      <td>1</td>\n",
       "    </tr>\n",
       "  </tbody>\n",
       "</table>\n",
       "<p>5 rows × 25 columns</p>\n",
       "</div>"
      ],
      "text/plain": [
       "   player_id    match_id  year  month      player_name country  height hand  \\\n",
       "0     105357  2015-339_1  2015      1     John Millman     AUS     183    R   \n",
       "1     103813  2015-339_2  2015      1  Jarkko Nieminen     FIN     185    L   \n",
       "2     105902  2015-339_3  2015      1  James Duckworth     AUS     183    R   \n",
       "3     104871  2015-339_4  2015      1    Jeremy Chardy     FRA     188    R   \n",
       "4     105373  2015-339_5  2015      1    Martin Klizan     SVK     191    L   \n",
       "\n",
       "  tourney_name tourney_level  ... svpt first_in  first_won  second_won  \\\n",
       "0     Brisbane             A  ...   44       24         19          14   \n",
       "1     Brisbane             A  ...   92       59         39          17   \n",
       "2     Brisbane             A  ...   45       27         20          11   \n",
       "3     Brisbane             A  ...   53       39         31          11   \n",
       "4     Brisbane             A  ...  130       79         55          27   \n",
       "\n",
       "   sv_gms  bp_saved  bp_faced  rank  rank_points  won  \n",
       "0       8         1         1   153          328    1  \n",
       "1      14         4         7    73          689    1  \n",
       "2       8         2         3   125          430    1  \n",
       "3      10         0         0    31         1195    1  \n",
       "4      16         6         8    34         1094    1  \n",
       "\n",
       "[5 rows x 25 columns]"
      ]
     },
     "execution_count": 2,
     "metadata": {},
     "output_type": "execute_result"
    }
   ],
   "source": [
    "con = sqlite3.connect('/Users/julianbombard/Desktop/Data Analytics Course/Capstone/database/ATP_Tour')\n",
    "player_match_stats = pd.read_sql_query('''Select *\n",
    "                       From player_match_stats''', con)\n",
    "\n",
    "con.close()\n",
    "\n",
    "player_match_stats.head()"
   ]
  },
  {
   "cell_type": "code",
   "execution_count": 3,
   "id": "7e0f21a1",
   "metadata": {},
   "outputs": [
    {
     "data": {
      "text/html": [
       "<div>\n",
       "<style scoped>\n",
       "    .dataframe tbody tr th:only-of-type {\n",
       "        vertical-align: middle;\n",
       "    }\n",
       "\n",
       "    .dataframe tbody tr th {\n",
       "        vertical-align: top;\n",
       "    }\n",
       "\n",
       "    .dataframe thead th {\n",
       "        text-align: right;\n",
       "    }\n",
       "</style>\n",
       "<table border=\"1\" class=\"dataframe\">\n",
       "  <thead>\n",
       "    <tr style=\"text-align: right;\">\n",
       "      <th></th>\n",
       "      <th>player_id</th>\n",
       "      <th>match_id</th>\n",
       "      <th>year</th>\n",
       "      <th>month</th>\n",
       "      <th>player_name</th>\n",
       "      <th>country</th>\n",
       "      <th>height</th>\n",
       "      <th>hand</th>\n",
       "      <th>tourney_name</th>\n",
       "      <th>tourney_level</th>\n",
       "      <th>...</th>\n",
       "      <th>bp_saved</th>\n",
       "      <th>bp_faced</th>\n",
       "      <th>rank</th>\n",
       "      <th>rank_points</th>\n",
       "      <th>won</th>\n",
       "      <th>first_sv_pct</th>\n",
       "      <th>first_sv_win_pct</th>\n",
       "      <th>second_sv_win_pct</th>\n",
       "      <th>total_sv_win_pct</th>\n",
       "      <th>bp_save_pct</th>\n",
       "    </tr>\n",
       "  </thead>\n",
       "  <tbody>\n",
       "    <tr>\n",
       "      <th>0</th>\n",
       "      <td>105357</td>\n",
       "      <td>2015-339_1</td>\n",
       "      <td>2015</td>\n",
       "      <td>1</td>\n",
       "      <td>John Millman</td>\n",
       "      <td>AUS</td>\n",
       "      <td>183</td>\n",
       "      <td>R</td>\n",
       "      <td>Brisbane</td>\n",
       "      <td>A</td>\n",
       "      <td>...</td>\n",
       "      <td>1</td>\n",
       "      <td>1</td>\n",
       "      <td>153</td>\n",
       "      <td>328</td>\n",
       "      <td>1</td>\n",
       "      <td>0.545455</td>\n",
       "      <td>0.791667</td>\n",
       "      <td>0.700000</td>\n",
       "      <td>0.750000</td>\n",
       "      <td>1.000000</td>\n",
       "    </tr>\n",
       "    <tr>\n",
       "      <th>1</th>\n",
       "      <td>103813</td>\n",
       "      <td>2015-339_2</td>\n",
       "      <td>2015</td>\n",
       "      <td>1</td>\n",
       "      <td>Jarkko Nieminen</td>\n",
       "      <td>FIN</td>\n",
       "      <td>185</td>\n",
       "      <td>L</td>\n",
       "      <td>Brisbane</td>\n",
       "      <td>A</td>\n",
       "      <td>...</td>\n",
       "      <td>4</td>\n",
       "      <td>7</td>\n",
       "      <td>73</td>\n",
       "      <td>689</td>\n",
       "      <td>1</td>\n",
       "      <td>0.641304</td>\n",
       "      <td>0.661017</td>\n",
       "      <td>0.515152</td>\n",
       "      <td>0.608696</td>\n",
       "      <td>0.571429</td>\n",
       "    </tr>\n",
       "    <tr>\n",
       "      <th>2</th>\n",
       "      <td>105902</td>\n",
       "      <td>2015-339_3</td>\n",
       "      <td>2015</td>\n",
       "      <td>1</td>\n",
       "      <td>James Duckworth</td>\n",
       "      <td>AUS</td>\n",
       "      <td>183</td>\n",
       "      <td>R</td>\n",
       "      <td>Brisbane</td>\n",
       "      <td>A</td>\n",
       "      <td>...</td>\n",
       "      <td>2</td>\n",
       "      <td>3</td>\n",
       "      <td>125</td>\n",
       "      <td>430</td>\n",
       "      <td>1</td>\n",
       "      <td>0.600000</td>\n",
       "      <td>0.740741</td>\n",
       "      <td>0.611111</td>\n",
       "      <td>0.688889</td>\n",
       "      <td>0.666667</td>\n",
       "    </tr>\n",
       "    <tr>\n",
       "      <th>3</th>\n",
       "      <td>104871</td>\n",
       "      <td>2015-339_4</td>\n",
       "      <td>2015</td>\n",
       "      <td>1</td>\n",
       "      <td>Jeremy Chardy</td>\n",
       "      <td>FRA</td>\n",
       "      <td>188</td>\n",
       "      <td>R</td>\n",
       "      <td>Brisbane</td>\n",
       "      <td>A</td>\n",
       "      <td>...</td>\n",
       "      <td>0</td>\n",
       "      <td>0</td>\n",
       "      <td>31</td>\n",
       "      <td>1195</td>\n",
       "      <td>1</td>\n",
       "      <td>0.735849</td>\n",
       "      <td>0.794872</td>\n",
       "      <td>0.785714</td>\n",
       "      <td>0.792453</td>\n",
       "      <td>NaN</td>\n",
       "    </tr>\n",
       "    <tr>\n",
       "      <th>4</th>\n",
       "      <td>105373</td>\n",
       "      <td>2015-339_5</td>\n",
       "      <td>2015</td>\n",
       "      <td>1</td>\n",
       "      <td>Martin Klizan</td>\n",
       "      <td>SVK</td>\n",
       "      <td>191</td>\n",
       "      <td>L</td>\n",
       "      <td>Brisbane</td>\n",
       "      <td>A</td>\n",
       "      <td>...</td>\n",
       "      <td>6</td>\n",
       "      <td>8</td>\n",
       "      <td>34</td>\n",
       "      <td>1094</td>\n",
       "      <td>1</td>\n",
       "      <td>0.607692</td>\n",
       "      <td>0.696203</td>\n",
       "      <td>0.529412</td>\n",
       "      <td>0.630769</td>\n",
       "      <td>0.750000</td>\n",
       "    </tr>\n",
       "  </tbody>\n",
       "</table>\n",
       "<p>5 rows × 30 columns</p>\n",
       "</div>"
      ],
      "text/plain": [
       "   player_id    match_id  year  month      player_name country  height hand  \\\n",
       "0     105357  2015-339_1  2015      1     John Millman     AUS     183    R   \n",
       "1     103813  2015-339_2  2015      1  Jarkko Nieminen     FIN     185    L   \n",
       "2     105902  2015-339_3  2015      1  James Duckworth     AUS     183    R   \n",
       "3     104871  2015-339_4  2015      1    Jeremy Chardy     FRA     188    R   \n",
       "4     105373  2015-339_5  2015      1    Martin Klizan     SVK     191    L   \n",
       "\n",
       "  tourney_name tourney_level  ... bp_saved bp_faced  rank  rank_points  won  \\\n",
       "0     Brisbane             A  ...        1        1   153          328    1   \n",
       "1     Brisbane             A  ...        4        7    73          689    1   \n",
       "2     Brisbane             A  ...        2        3   125          430    1   \n",
       "3     Brisbane             A  ...        0        0    31         1195    1   \n",
       "4     Brisbane             A  ...        6        8    34         1094    1   \n",
       "\n",
       "   first_sv_pct  first_sv_win_pct  second_sv_win_pct  total_sv_win_pct  \\\n",
       "0      0.545455          0.791667           0.700000          0.750000   \n",
       "1      0.641304          0.661017           0.515152          0.608696   \n",
       "2      0.600000          0.740741           0.611111          0.688889   \n",
       "3      0.735849          0.794872           0.785714          0.792453   \n",
       "4      0.607692          0.696203           0.529412          0.630769   \n",
       "\n",
       "   bp_save_pct  \n",
       "0     1.000000  \n",
       "1     0.571429  \n",
       "2     0.666667  \n",
       "3          NaN  \n",
       "4     0.750000  \n",
       "\n",
       "[5 rows x 30 columns]"
      ]
     },
     "execution_count": 3,
     "metadata": {},
     "output_type": "execute_result"
    }
   ],
   "source": [
    "player_match_stats['first_sv_pct'] = player_match_stats['first_in'] / player_match_stats['svpt']\n",
    "player_match_stats['first_sv_win_pct'] = player_match_stats['first_won'] / player_match_stats['first_in']\n",
    "player_match_stats['second_sv_win_pct'] = player_match_stats['second_won'] / (player_match_stats['svpt'] - player_match_stats['first_in'])\n",
    "player_match_stats['total_sv_win_pct'] = (player_match_stats['first_won'] + player_match_stats['second_won']) / player_match_stats['svpt']\n",
    "player_match_stats['bp_save_pct'] = np.where(\n",
    "    player_match_stats['bp_faced'] == 0, np.nan,\n",
    "    player_match_stats['bp_saved'] / player_match_stats['bp_faced'])\n",
    "\n",
    "player_match_stats.head()"
   ]
  },
  {
   "cell_type": "code",
   "execution_count": 4,
   "id": "649b0057",
   "metadata": {},
   "outputs": [
    {
     "data": {
      "text/html": [
       "<div>\n",
       "<style scoped>\n",
       "    .dataframe tbody tr th:only-of-type {\n",
       "        vertical-align: middle;\n",
       "    }\n",
       "\n",
       "    .dataframe tbody tr th {\n",
       "        vertical-align: top;\n",
       "    }\n",
       "\n",
       "    .dataframe thead th {\n",
       "        text-align: right;\n",
       "    }\n",
       "</style>\n",
       "<table border=\"1\" class=\"dataframe\">\n",
       "  <thead>\n",
       "    <tr style=\"text-align: right;\">\n",
       "      <th></th>\n",
       "      <th>player_id</th>\n",
       "      <th>match_id</th>\n",
       "      <th>year</th>\n",
       "      <th>month</th>\n",
       "      <th>player_name</th>\n",
       "      <th>country</th>\n",
       "      <th>height</th>\n",
       "      <th>hand</th>\n",
       "      <th>tourney_name</th>\n",
       "      <th>tourney_level</th>\n",
       "      <th>...</th>\n",
       "      <th>bp_saved</th>\n",
       "      <th>bp_faced</th>\n",
       "      <th>rank</th>\n",
       "      <th>rank_points</th>\n",
       "      <th>won</th>\n",
       "      <th>first_sv_pct</th>\n",
       "      <th>first_sv_win_pct</th>\n",
       "      <th>second_sv_win_pct</th>\n",
       "      <th>total_sv_win_pct</th>\n",
       "      <th>bp_save_pct</th>\n",
       "    </tr>\n",
       "  </thead>\n",
       "  <tbody>\n",
       "    <tr>\n",
       "      <th>0</th>\n",
       "      <td>105357</td>\n",
       "      <td>2015-339_1</td>\n",
       "      <td>2015</td>\n",
       "      <td>1</td>\n",
       "      <td>John Millman</td>\n",
       "      <td>AUS</td>\n",
       "      <td>183</td>\n",
       "      <td>R</td>\n",
       "      <td>Brisbane</td>\n",
       "      <td>A</td>\n",
       "      <td>...</td>\n",
       "      <td>1</td>\n",
       "      <td>1</td>\n",
       "      <td>153</td>\n",
       "      <td>328</td>\n",
       "      <td>True</td>\n",
       "      <td>0.545455</td>\n",
       "      <td>0.791667</td>\n",
       "      <td>0.700000</td>\n",
       "      <td>0.750000</td>\n",
       "      <td>1.000000</td>\n",
       "    </tr>\n",
       "    <tr>\n",
       "      <th>1</th>\n",
       "      <td>103813</td>\n",
       "      <td>2015-339_2</td>\n",
       "      <td>2015</td>\n",
       "      <td>1</td>\n",
       "      <td>Jarkko Nieminen</td>\n",
       "      <td>FIN</td>\n",
       "      <td>185</td>\n",
       "      <td>L</td>\n",
       "      <td>Brisbane</td>\n",
       "      <td>A</td>\n",
       "      <td>...</td>\n",
       "      <td>4</td>\n",
       "      <td>7</td>\n",
       "      <td>73</td>\n",
       "      <td>689</td>\n",
       "      <td>True</td>\n",
       "      <td>0.641304</td>\n",
       "      <td>0.661017</td>\n",
       "      <td>0.515152</td>\n",
       "      <td>0.608696</td>\n",
       "      <td>0.571429</td>\n",
       "    </tr>\n",
       "    <tr>\n",
       "      <th>2</th>\n",
       "      <td>105902</td>\n",
       "      <td>2015-339_3</td>\n",
       "      <td>2015</td>\n",
       "      <td>1</td>\n",
       "      <td>James Duckworth</td>\n",
       "      <td>AUS</td>\n",
       "      <td>183</td>\n",
       "      <td>R</td>\n",
       "      <td>Brisbane</td>\n",
       "      <td>A</td>\n",
       "      <td>...</td>\n",
       "      <td>2</td>\n",
       "      <td>3</td>\n",
       "      <td>125</td>\n",
       "      <td>430</td>\n",
       "      <td>True</td>\n",
       "      <td>0.600000</td>\n",
       "      <td>0.740741</td>\n",
       "      <td>0.611111</td>\n",
       "      <td>0.688889</td>\n",
       "      <td>0.666667</td>\n",
       "    </tr>\n",
       "    <tr>\n",
       "      <th>3</th>\n",
       "      <td>104871</td>\n",
       "      <td>2015-339_4</td>\n",
       "      <td>2015</td>\n",
       "      <td>1</td>\n",
       "      <td>Jeremy Chardy</td>\n",
       "      <td>FRA</td>\n",
       "      <td>188</td>\n",
       "      <td>R</td>\n",
       "      <td>Brisbane</td>\n",
       "      <td>A</td>\n",
       "      <td>...</td>\n",
       "      <td>0</td>\n",
       "      <td>0</td>\n",
       "      <td>31</td>\n",
       "      <td>1195</td>\n",
       "      <td>True</td>\n",
       "      <td>0.735849</td>\n",
       "      <td>0.794872</td>\n",
       "      <td>0.785714</td>\n",
       "      <td>0.792453</td>\n",
       "      <td>NaN</td>\n",
       "    </tr>\n",
       "    <tr>\n",
       "      <th>4</th>\n",
       "      <td>105373</td>\n",
       "      <td>2015-339_5</td>\n",
       "      <td>2015</td>\n",
       "      <td>1</td>\n",
       "      <td>Martin Klizan</td>\n",
       "      <td>SVK</td>\n",
       "      <td>191</td>\n",
       "      <td>L</td>\n",
       "      <td>Brisbane</td>\n",
       "      <td>A</td>\n",
       "      <td>...</td>\n",
       "      <td>6</td>\n",
       "      <td>8</td>\n",
       "      <td>34</td>\n",
       "      <td>1094</td>\n",
       "      <td>True</td>\n",
       "      <td>0.607692</td>\n",
       "      <td>0.696203</td>\n",
       "      <td>0.529412</td>\n",
       "      <td>0.630769</td>\n",
       "      <td>0.750000</td>\n",
       "    </tr>\n",
       "  </tbody>\n",
       "</table>\n",
       "<p>5 rows × 30 columns</p>\n",
       "</div>"
      ],
      "text/plain": [
       "   player_id    match_id  year  month      player_name country  height hand  \\\n",
       "0     105357  2015-339_1  2015      1     John Millman     AUS     183    R   \n",
       "1     103813  2015-339_2  2015      1  Jarkko Nieminen     FIN     185    L   \n",
       "2     105902  2015-339_3  2015      1  James Duckworth     AUS     183    R   \n",
       "3     104871  2015-339_4  2015      1    Jeremy Chardy     FRA     188    R   \n",
       "4     105373  2015-339_5  2015      1    Martin Klizan     SVK     191    L   \n",
       "\n",
       "  tourney_name tourney_level  ... bp_saved bp_faced  rank  rank_points   won  \\\n",
       "0     Brisbane             A  ...        1        1   153          328  True   \n",
       "1     Brisbane             A  ...        4        7    73          689  True   \n",
       "2     Brisbane             A  ...        2        3   125          430  True   \n",
       "3     Brisbane             A  ...        0        0    31         1195  True   \n",
       "4     Brisbane             A  ...        6        8    34         1094  True   \n",
       "\n",
       "   first_sv_pct  first_sv_win_pct  second_sv_win_pct  total_sv_win_pct  \\\n",
       "0      0.545455          0.791667           0.700000          0.750000   \n",
       "1      0.641304          0.661017           0.515152          0.608696   \n",
       "2      0.600000          0.740741           0.611111          0.688889   \n",
       "3      0.735849          0.794872           0.785714          0.792453   \n",
       "4      0.607692          0.696203           0.529412          0.630769   \n",
       "\n",
       "   bp_save_pct  \n",
       "0     1.000000  \n",
       "1     0.571429  \n",
       "2     0.666667  \n",
       "3          NaN  \n",
       "4     0.750000  \n",
       "\n",
       "[5 rows x 30 columns]"
      ]
     },
     "execution_count": 4,
     "metadata": {},
     "output_type": "execute_result"
    }
   ],
   "source": [
    "player_match_stats['won'] = player_match_stats['won'].astype('bool')\n",
    "player_match_stats.head()"
   ]
  },
  {
   "cell_type": "markdown",
   "id": "070d0124",
   "metadata": {},
   "source": [
    "## Export To SQL"
   ]
  },
  {
   "cell_type": "code",
   "execution_count": 5,
   "id": "6f6a0cbe",
   "metadata": {},
   "outputs": [],
   "source": [
    "con = sqlite3.connect('/Users/julianbombard/Desktop/Data Analytics Course/Capstone/database/ATP_Tour')\n",
    "\n",
    "player_match_stats.to_sql('player_match_stats', con, index = False, if_exists = 'replace')\n",
    "\n",
    "con.close()"
   ]
  },
  {
   "cell_type": "markdown",
   "id": "2f77f921",
   "metadata": {},
   "source": [
    "## Export to CSV"
   ]
  },
  {
   "cell_type": "code",
   "execution_count": 6,
   "id": "44a7669c",
   "metadata": {},
   "outputs": [],
   "source": [
    "player_match_stats.to_csv('csvs/player_match_stats.csv', index = False)"
   ]
  },
  {
   "cell_type": "markdown",
   "id": "dc48e821",
   "metadata": {},
   "source": [
    "Correlation analysis: which stats correlate most with winning matches"
   ]
  },
  {
   "cell_type": "code",
   "execution_count": 7,
   "id": "bcc3056c",
   "metadata": {},
   "outputs": [
    {
     "name": "stdout",
     "output_type": "stream",
     "text": [
      "total_sv_win_pct     0.612289\n",
      "first_sv_win_pct     0.510959\n",
      "second_sv_win_pct    0.464326\n",
      "bp_save_pct          0.298062\n",
      "rank_points          0.196311\n",
      "ace                  0.158939\n",
      "first_won            0.132647\n",
      "first_sv_pct         0.117764\n",
      "second_won           0.109821\n",
      "height               0.062207\n",
      "sv_gms               0.026941\n",
      "player_id            0.007543\n",
      "year                -0.001317\n",
      "month               -0.001902\n",
      "minutes             -0.002389\n",
      "first_in            -0.018372\n",
      "svpt                -0.053668\n",
      "rank                -0.126675\n",
      "df                  -0.132830\n",
      "bp_saved            -0.206356\n",
      "bp_faced            -0.395615\n",
      "Name: won, dtype: float64\n"
     ]
    }
   ],
   "source": [
    "stat_columns = player_match_stats.select_dtypes(include = [np.number, 'bool'])\n",
    "\n",
    "correlations = stat_columns.corr()['won'].drop('won').sort_values(ascending = False)\n",
    "print(correlations)"
   ]
  },
  {
   "cell_type": "code",
   "execution_count": 8,
   "id": "48519a63",
   "metadata": {},
   "outputs": [
    {
     "data": {
      "application/vnd.plotly.v1+json": {
       "config": {
        "plotlyServerURL": "https://plot.ly"
       },
       "data": [
        {
         "hovertemplate": "Statistic=%{x}<br>Correlation=%{marker.color}<extra></extra>",
         "legendgroup": "",
         "marker": {
          "color": {
           "bdata": "AQGuct+X4z8R5jrkxlngP6bMJDeEt90/HBWjUHMT0z8QVCtluCDJPyupD+UfWMQ/Zq7bLZL6wD8fnnCfzCW+P76125g7Hbw/g0ESbZDZrz8W1ec2iZabP9bqPGo65X4/B3HEVUiVVb+8UIwIBChfvy3Eh29JkWO/bY+K9hXQkr8go2lJXHqrvy5+44jkNsC/HI/BopEAwb/oSYxE3WnKvx6pkdq/Udm/",
           "dtype": "f8"
          },
          "coloraxis": "coloraxis",
          "pattern": {
           "shape": ""
          }
         },
         "name": "",
         "orientation": "v",
         "showlegend": false,
         "textposition": "auto",
         "type": "bar",
         "x": [
          "total_sv_win_pct",
          "first_sv_win_pct",
          "second_sv_win_pct",
          "bp_save_pct",
          "rank_points",
          "ace",
          "first_won",
          "first_sv_pct",
          "second_won",
          "height",
          "sv_gms",
          "player_id",
          "year",
          "month",
          "minutes",
          "first_in",
          "svpt",
          "rank",
          "df",
          "bp_saved",
          "bp_faced"
         ],
         "xaxis": "x",
         "y": {
          "bdata": "AQGuct+X4z8R5jrkxlngP6bMJDeEt90/HBWjUHMT0z8QVCtluCDJPyupD+UfWMQ/Zq7bLZL6wD8fnnCfzCW+P76125g7Hbw/g0ESbZDZrz8W1ec2iZabP9bqPGo65X4/B3HEVUiVVb+8UIwIBChfvy3Eh29JkWO/bY+K9hXQkr8go2lJXHqrvy5+44jkNsC/HI/BopEAwb/oSYxE3WnKvx6pkdq/Udm/",
          "dtype": "f8"
         },
         "yaxis": "y"
        }
       ],
       "layout": {
        "barmode": "relative",
        "coloraxis": {
         "colorbar": {
          "title": {
           "text": "Correlation"
          }
         },
         "colorscale": [
          [
           0,
           "rgb(255,245,240)"
          ],
          [
           0.125,
           "rgb(254,224,210)"
          ],
          [
           0.25,
           "rgb(252,187,161)"
          ],
          [
           0.375,
           "rgb(252,146,114)"
          ],
          [
           0.5,
           "rgb(251,106,74)"
          ],
          [
           0.625,
           "rgb(239,59,44)"
          ],
          [
           0.75,
           "rgb(203,24,29)"
          ],
          [
           0.875,
           "rgb(165,15,21)"
          ],
          [
           1,
           "rgb(103,0,13)"
          ]
         ]
        },
        "legend": {
         "tracegroupgap": 0
        },
        "margin": {
         "t": 60
        },
        "template": {
         "data": {
          "bar": [
           {
            "error_x": {
             "color": "#2a3f5f"
            },
            "error_y": {
             "color": "#2a3f5f"
            },
            "marker": {
             "line": {
              "color": "#E5ECF6",
              "width": 0.5
             },
             "pattern": {
              "fillmode": "overlay",
              "size": 10,
              "solidity": 0.2
             }
            },
            "type": "bar"
           }
          ],
          "barpolar": [
           {
            "marker": {
             "line": {
              "color": "#E5ECF6",
              "width": 0.5
             },
             "pattern": {
              "fillmode": "overlay",
              "size": 10,
              "solidity": 0.2
             }
            },
            "type": "barpolar"
           }
          ],
          "carpet": [
           {
            "aaxis": {
             "endlinecolor": "#2a3f5f",
             "gridcolor": "white",
             "linecolor": "white",
             "minorgridcolor": "white",
             "startlinecolor": "#2a3f5f"
            },
            "baxis": {
             "endlinecolor": "#2a3f5f",
             "gridcolor": "white",
             "linecolor": "white",
             "minorgridcolor": "white",
             "startlinecolor": "#2a3f5f"
            },
            "type": "carpet"
           }
          ],
          "choropleth": [
           {
            "colorbar": {
             "outlinewidth": 0,
             "ticks": ""
            },
            "type": "choropleth"
           }
          ],
          "contour": [
           {
            "colorbar": {
             "outlinewidth": 0,
             "ticks": ""
            },
            "colorscale": [
             [
              0,
              "#0d0887"
             ],
             [
              0.1111111111111111,
              "#46039f"
             ],
             [
              0.2222222222222222,
              "#7201a8"
             ],
             [
              0.3333333333333333,
              "#9c179e"
             ],
             [
              0.4444444444444444,
              "#bd3786"
             ],
             [
              0.5555555555555556,
              "#d8576b"
             ],
             [
              0.6666666666666666,
              "#ed7953"
             ],
             [
              0.7777777777777778,
              "#fb9f3a"
             ],
             [
              0.8888888888888888,
              "#fdca26"
             ],
             [
              1,
              "#f0f921"
             ]
            ],
            "type": "contour"
           }
          ],
          "contourcarpet": [
           {
            "colorbar": {
             "outlinewidth": 0,
             "ticks": ""
            },
            "type": "contourcarpet"
           }
          ],
          "heatmap": [
           {
            "colorbar": {
             "outlinewidth": 0,
             "ticks": ""
            },
            "colorscale": [
             [
              0,
              "#0d0887"
             ],
             [
              0.1111111111111111,
              "#46039f"
             ],
             [
              0.2222222222222222,
              "#7201a8"
             ],
             [
              0.3333333333333333,
              "#9c179e"
             ],
             [
              0.4444444444444444,
              "#bd3786"
             ],
             [
              0.5555555555555556,
              "#d8576b"
             ],
             [
              0.6666666666666666,
              "#ed7953"
             ],
             [
              0.7777777777777778,
              "#fb9f3a"
             ],
             [
              0.8888888888888888,
              "#fdca26"
             ],
             [
              1,
              "#f0f921"
             ]
            ],
            "type": "heatmap"
           }
          ],
          "histogram": [
           {
            "marker": {
             "pattern": {
              "fillmode": "overlay",
              "size": 10,
              "solidity": 0.2
             }
            },
            "type": "histogram"
           }
          ],
          "histogram2d": [
           {
            "colorbar": {
             "outlinewidth": 0,
             "ticks": ""
            },
            "colorscale": [
             [
              0,
              "#0d0887"
             ],
             [
              0.1111111111111111,
              "#46039f"
             ],
             [
              0.2222222222222222,
              "#7201a8"
             ],
             [
              0.3333333333333333,
              "#9c179e"
             ],
             [
              0.4444444444444444,
              "#bd3786"
             ],
             [
              0.5555555555555556,
              "#d8576b"
             ],
             [
              0.6666666666666666,
              "#ed7953"
             ],
             [
              0.7777777777777778,
              "#fb9f3a"
             ],
             [
              0.8888888888888888,
              "#fdca26"
             ],
             [
              1,
              "#f0f921"
             ]
            ],
            "type": "histogram2d"
           }
          ],
          "histogram2dcontour": [
           {
            "colorbar": {
             "outlinewidth": 0,
             "ticks": ""
            },
            "colorscale": [
             [
              0,
              "#0d0887"
             ],
             [
              0.1111111111111111,
              "#46039f"
             ],
             [
              0.2222222222222222,
              "#7201a8"
             ],
             [
              0.3333333333333333,
              "#9c179e"
             ],
             [
              0.4444444444444444,
              "#bd3786"
             ],
             [
              0.5555555555555556,
              "#d8576b"
             ],
             [
              0.6666666666666666,
              "#ed7953"
             ],
             [
              0.7777777777777778,
              "#fb9f3a"
             ],
             [
              0.8888888888888888,
              "#fdca26"
             ],
             [
              1,
              "#f0f921"
             ]
            ],
            "type": "histogram2dcontour"
           }
          ],
          "mesh3d": [
           {
            "colorbar": {
             "outlinewidth": 0,
             "ticks": ""
            },
            "type": "mesh3d"
           }
          ],
          "parcoords": [
           {
            "line": {
             "colorbar": {
              "outlinewidth": 0,
              "ticks": ""
             }
            },
            "type": "parcoords"
           }
          ],
          "pie": [
           {
            "automargin": true,
            "type": "pie"
           }
          ],
          "scatter": [
           {
            "fillpattern": {
             "fillmode": "overlay",
             "size": 10,
             "solidity": 0.2
            },
            "type": "scatter"
           }
          ],
          "scatter3d": [
           {
            "line": {
             "colorbar": {
              "outlinewidth": 0,
              "ticks": ""
             }
            },
            "marker": {
             "colorbar": {
              "outlinewidth": 0,
              "ticks": ""
             }
            },
            "type": "scatter3d"
           }
          ],
          "scattercarpet": [
           {
            "marker": {
             "colorbar": {
              "outlinewidth": 0,
              "ticks": ""
             }
            },
            "type": "scattercarpet"
           }
          ],
          "scattergeo": [
           {
            "marker": {
             "colorbar": {
              "outlinewidth": 0,
              "ticks": ""
             }
            },
            "type": "scattergeo"
           }
          ],
          "scattergl": [
           {
            "marker": {
             "colorbar": {
              "outlinewidth": 0,
              "ticks": ""
             }
            },
            "type": "scattergl"
           }
          ],
          "scattermap": [
           {
            "marker": {
             "colorbar": {
              "outlinewidth": 0,
              "ticks": ""
             }
            },
            "type": "scattermap"
           }
          ],
          "scattermapbox": [
           {
            "marker": {
             "colorbar": {
              "outlinewidth": 0,
              "ticks": ""
             }
            },
            "type": "scattermapbox"
           }
          ],
          "scatterpolar": [
           {
            "marker": {
             "colorbar": {
              "outlinewidth": 0,
              "ticks": ""
             }
            },
            "type": "scatterpolar"
           }
          ],
          "scatterpolargl": [
           {
            "marker": {
             "colorbar": {
              "outlinewidth": 0,
              "ticks": ""
             }
            },
            "type": "scatterpolargl"
           }
          ],
          "scatterternary": [
           {
            "marker": {
             "colorbar": {
              "outlinewidth": 0,
              "ticks": ""
             }
            },
            "type": "scatterternary"
           }
          ],
          "surface": [
           {
            "colorbar": {
             "outlinewidth": 0,
             "ticks": ""
            },
            "colorscale": [
             [
              0,
              "#0d0887"
             ],
             [
              0.1111111111111111,
              "#46039f"
             ],
             [
              0.2222222222222222,
              "#7201a8"
             ],
             [
              0.3333333333333333,
              "#9c179e"
             ],
             [
              0.4444444444444444,
              "#bd3786"
             ],
             [
              0.5555555555555556,
              "#d8576b"
             ],
             [
              0.6666666666666666,
              "#ed7953"
             ],
             [
              0.7777777777777778,
              "#fb9f3a"
             ],
             [
              0.8888888888888888,
              "#fdca26"
             ],
             [
              1,
              "#f0f921"
             ]
            ],
            "type": "surface"
           }
          ],
          "table": [
           {
            "cells": {
             "fill": {
              "color": "#EBF0F8"
             },
             "line": {
              "color": "white"
             }
            },
            "header": {
             "fill": {
              "color": "#C8D4E3"
             },
             "line": {
              "color": "white"
             }
            },
            "type": "table"
           }
          ]
         },
         "layout": {
          "annotationdefaults": {
           "arrowcolor": "#2a3f5f",
           "arrowhead": 0,
           "arrowwidth": 1
          },
          "autotypenumbers": "strict",
          "coloraxis": {
           "colorbar": {
            "outlinewidth": 0,
            "ticks": ""
           }
          },
          "colorscale": {
           "diverging": [
            [
             0,
             "#8e0152"
            ],
            [
             0.1,
             "#c51b7d"
            ],
            [
             0.2,
             "#de77ae"
            ],
            [
             0.3,
             "#f1b6da"
            ],
            [
             0.4,
             "#fde0ef"
            ],
            [
             0.5,
             "#f7f7f7"
            ],
            [
             0.6,
             "#e6f5d0"
            ],
            [
             0.7,
             "#b8e186"
            ],
            [
             0.8,
             "#7fbc41"
            ],
            [
             0.9,
             "#4d9221"
            ],
            [
             1,
             "#276419"
            ]
           ],
           "sequential": [
            [
             0,
             "#0d0887"
            ],
            [
             0.1111111111111111,
             "#46039f"
            ],
            [
             0.2222222222222222,
             "#7201a8"
            ],
            [
             0.3333333333333333,
             "#9c179e"
            ],
            [
             0.4444444444444444,
             "#bd3786"
            ],
            [
             0.5555555555555556,
             "#d8576b"
            ],
            [
             0.6666666666666666,
             "#ed7953"
            ],
            [
             0.7777777777777778,
             "#fb9f3a"
            ],
            [
             0.8888888888888888,
             "#fdca26"
            ],
            [
             1,
             "#f0f921"
            ]
           ],
           "sequentialminus": [
            [
             0,
             "#0d0887"
            ],
            [
             0.1111111111111111,
             "#46039f"
            ],
            [
             0.2222222222222222,
             "#7201a8"
            ],
            [
             0.3333333333333333,
             "#9c179e"
            ],
            [
             0.4444444444444444,
             "#bd3786"
            ],
            [
             0.5555555555555556,
             "#d8576b"
            ],
            [
             0.6666666666666666,
             "#ed7953"
            ],
            [
             0.7777777777777778,
             "#fb9f3a"
            ],
            [
             0.8888888888888888,
             "#fdca26"
            ],
            [
             1,
             "#f0f921"
            ]
           ]
          },
          "colorway": [
           "#636efa",
           "#EF553B",
           "#00cc96",
           "#ab63fa",
           "#FFA15A",
           "#19d3f3",
           "#FF6692",
           "#B6E880",
           "#FF97FF",
           "#FECB52"
          ],
          "font": {
           "color": "#2a3f5f"
          },
          "geo": {
           "bgcolor": "white",
           "lakecolor": "white",
           "landcolor": "#E5ECF6",
           "showlakes": true,
           "showland": true,
           "subunitcolor": "white"
          },
          "hoverlabel": {
           "align": "left"
          },
          "hovermode": "closest",
          "mapbox": {
           "style": "light"
          },
          "paper_bgcolor": "white",
          "plot_bgcolor": "#E5ECF6",
          "polar": {
           "angularaxis": {
            "gridcolor": "white",
            "linecolor": "white",
            "ticks": ""
           },
           "bgcolor": "#E5ECF6",
           "radialaxis": {
            "gridcolor": "white",
            "linecolor": "white",
            "ticks": ""
           }
          },
          "scene": {
           "xaxis": {
            "backgroundcolor": "#E5ECF6",
            "gridcolor": "white",
            "gridwidth": 2,
            "linecolor": "white",
            "showbackground": true,
            "ticks": "",
            "zerolinecolor": "white"
           },
           "yaxis": {
            "backgroundcolor": "#E5ECF6",
            "gridcolor": "white",
            "gridwidth": 2,
            "linecolor": "white",
            "showbackground": true,
            "ticks": "",
            "zerolinecolor": "white"
           },
           "zaxis": {
            "backgroundcolor": "#E5ECF6",
            "gridcolor": "white",
            "gridwidth": 2,
            "linecolor": "white",
            "showbackground": true,
            "ticks": "",
            "zerolinecolor": "white"
           }
          },
          "shapedefaults": {
           "line": {
            "color": "#2a3f5f"
           }
          },
          "ternary": {
           "aaxis": {
            "gridcolor": "white",
            "linecolor": "white",
            "ticks": ""
           },
           "baxis": {
            "gridcolor": "white",
            "linecolor": "white",
            "ticks": ""
           },
           "bgcolor": "#E5ECF6",
           "caxis": {
            "gridcolor": "white",
            "linecolor": "white",
            "ticks": ""
           }
          },
          "title": {
           "x": 0.05
          },
          "xaxis": {
           "automargin": true,
           "gridcolor": "white",
           "linecolor": "white",
           "ticks": "",
           "title": {
            "standoff": 15
           },
           "zerolinecolor": "white",
           "zerolinewidth": 2
          },
          "yaxis": {
           "automargin": true,
           "gridcolor": "white",
           "linecolor": "white",
           "ticks": "",
           "title": {
            "standoff": 15
           },
           "zerolinecolor": "white",
           "zerolinewidth": 2
          }
         }
        },
        "xaxis": {
         "anchor": "y",
         "domain": [
          0,
          1
         ],
         "title": {
          "text": "Statistic"
         }
        },
        "yaxis": {
         "anchor": "x",
         "domain": [
          0,
          1
         ],
         "title": {
          "text": "Correlation"
         }
        }
       }
      }
     },
     "metadata": {},
     "output_type": "display_data"
    }
   ],
   "source": [
    "corr_df = correlations.reset_index()\n",
    "corr_df.columns = ['Statistic', 'Correlation']\n",
    "\n",
    "fig = px.bar(corr_df, x = 'Statistic', y = 'Correlation', color = 'Correlation', color_continuous_scale = 'Reds')\n",
    "\n",
    "fig.show()"
   ]
  },
  {
   "cell_type": "markdown",
   "id": "978f7b03",
   "metadata": {},
   "source": [
    "## Overall Player Analysis"
   ]
  },
  {
   "cell_type": "code",
   "execution_count": 9,
   "id": "c11b7c3f",
   "metadata": {},
   "outputs": [
    {
     "data": {
      "text/html": [
       "<div>\n",
       "<style scoped>\n",
       "    .dataframe tbody tr th:only-of-type {\n",
       "        vertical-align: middle;\n",
       "    }\n",
       "\n",
       "    .dataframe tbody tr th {\n",
       "        vertical-align: top;\n",
       "    }\n",
       "\n",
       "    .dataframe thead th {\n",
       "        text-align: right;\n",
       "    }\n",
       "</style>\n",
       "<table border=\"1\" class=\"dataframe\">\n",
       "  <thead>\n",
       "    <tr style=\"text-align: right;\">\n",
       "      <th></th>\n",
       "      <th>player_id</th>\n",
       "      <th>player_name</th>\n",
       "      <th>height</th>\n",
       "      <th>hand</th>\n",
       "      <th>avg_minutes</th>\n",
       "      <th>avg_aces</th>\n",
       "      <th>avg_df</th>\n",
       "      <th>avg_svpt</th>\n",
       "      <th>avg_first_in</th>\n",
       "      <th>avg_first_won</th>\n",
       "      <th>avg_second_won</th>\n",
       "      <th>avg_sv_gms</th>\n",
       "      <th>avg_bp_saved</th>\n",
       "      <th>avg_bp_faced</th>\n",
       "      <th>Wins</th>\n",
       "      <th>Losses</th>\n",
       "      <th>Matches_Played</th>\n",
       "      <th>Win_Pct</th>\n",
       "      <th>titles_won</th>\n",
       "    </tr>\n",
       "  </thead>\n",
       "  <tbody>\n",
       "    <tr>\n",
       "      <th>0</th>\n",
       "      <td>100644</td>\n",
       "      <td>Alexander Zverev</td>\n",
       "      <td>198</td>\n",
       "      <td>R</td>\n",
       "      <td>117.14</td>\n",
       "      <td>8.70</td>\n",
       "      <td>3.70</td>\n",
       "      <td>79.10</td>\n",
       "      <td>52.94</td>\n",
       "      <td>39.68</td>\n",
       "      <td>13.21</td>\n",
       "      <td>12.86</td>\n",
       "      <td>3.37</td>\n",
       "      <td>5.40</td>\n",
       "      <td>460</td>\n",
       "      <td>192</td>\n",
       "      <td>652</td>\n",
       "      <td>70.55</td>\n",
       "      <td>23.0</td>\n",
       "    </tr>\n",
       "    <tr>\n",
       "      <th>1</th>\n",
       "      <td>102093</td>\n",
       "      <td>Martin Damm</td>\n",
       "      <td>203</td>\n",
       "      <td>L</td>\n",
       "      <td>107.00</td>\n",
       "      <td>14.00</td>\n",
       "      <td>2.00</td>\n",
       "      <td>66.33</td>\n",
       "      <td>43.00</td>\n",
       "      <td>33.00</td>\n",
       "      <td>12.67</td>\n",
       "      <td>10.33</td>\n",
       "      <td>2.00</td>\n",
       "      <td>3.33</td>\n",
       "      <td>2</td>\n",
       "      <td>1</td>\n",
       "      <td>3</td>\n",
       "      <td>66.67</td>\n",
       "      <td>NaN</td>\n",
       "    </tr>\n",
       "    <tr>\n",
       "      <th>2</th>\n",
       "      <td>103163</td>\n",
       "      <td>Tommy Haas</td>\n",
       "      <td>188</td>\n",
       "      <td>R</td>\n",
       "      <td>110.22</td>\n",
       "      <td>5.00</td>\n",
       "      <td>4.28</td>\n",
       "      <td>87.50</td>\n",
       "      <td>53.61</td>\n",
       "      <td>37.33</td>\n",
       "      <td>17.89</td>\n",
       "      <td>13.17</td>\n",
       "      <td>5.83</td>\n",
       "      <td>8.50</td>\n",
       "      <td>8</td>\n",
       "      <td>23</td>\n",
       "      <td>31</td>\n",
       "      <td>25.81</td>\n",
       "      <td>NaN</td>\n",
       "    </tr>\n",
       "    <tr>\n",
       "      <th>3</th>\n",
       "      <td>103188</td>\n",
       "      <td>Michael Russell</td>\n",
       "      <td>173</td>\n",
       "      <td>R</td>\n",
       "      <td>172.00</td>\n",
       "      <td>4.00</td>\n",
       "      <td>7.00</td>\n",
       "      <td>153.00</td>\n",
       "      <td>96.00</td>\n",
       "      <td>52.00</td>\n",
       "      <td>24.00</td>\n",
       "      <td>18.00</td>\n",
       "      <td>14.00</td>\n",
       "      <td>23.00</td>\n",
       "      <td>0</td>\n",
       "      <td>1</td>\n",
       "      <td>1</td>\n",
       "      <td>0.00</td>\n",
       "      <td>NaN</td>\n",
       "    </tr>\n",
       "    <tr>\n",
       "      <th>4</th>\n",
       "      <td>103285</td>\n",
       "      <td>Radek Stepanek</td>\n",
       "      <td>185</td>\n",
       "      <td>R</td>\n",
       "      <td>114.55</td>\n",
       "      <td>5.48</td>\n",
       "      <td>3.93</td>\n",
       "      <td>82.24</td>\n",
       "      <td>49.66</td>\n",
       "      <td>35.52</td>\n",
       "      <td>15.69</td>\n",
       "      <td>12.52</td>\n",
       "      <td>4.86</td>\n",
       "      <td>7.62</td>\n",
       "      <td>20</td>\n",
       "      <td>23</td>\n",
       "      <td>43</td>\n",
       "      <td>46.51</td>\n",
       "      <td>NaN</td>\n",
       "    </tr>\n",
       "  </tbody>\n",
       "</table>\n",
       "</div>"
      ],
      "text/plain": [
       "   player_id       player_name  height hand  avg_minutes  avg_aces  avg_df  \\\n",
       "0     100644  Alexander Zverev     198    R       117.14      8.70    3.70   \n",
       "1     102093       Martin Damm     203    L       107.00     14.00    2.00   \n",
       "2     103163        Tommy Haas     188    R       110.22      5.00    4.28   \n",
       "3     103188   Michael Russell     173    R       172.00      4.00    7.00   \n",
       "4     103285    Radek Stepanek     185    R       114.55      5.48    3.93   \n",
       "\n",
       "   avg_svpt  avg_first_in  avg_first_won  avg_second_won  avg_sv_gms  \\\n",
       "0     79.10         52.94          39.68           13.21       12.86   \n",
       "1     66.33         43.00          33.00           12.67       10.33   \n",
       "2     87.50         53.61          37.33           17.89       13.17   \n",
       "3    153.00         96.00          52.00           24.00       18.00   \n",
       "4     82.24         49.66          35.52           15.69       12.52   \n",
       "\n",
       "   avg_bp_saved  avg_bp_faced  Wins  Losses  Matches_Played  Win_Pct  \\\n",
       "0          3.37          5.40   460     192             652    70.55   \n",
       "1          2.00          3.33     2       1               3    66.67   \n",
       "2          5.83          8.50     8      23              31    25.81   \n",
       "3         14.00         23.00     0       1               1     0.00   \n",
       "4          4.86          7.62    20      23              43    46.51   \n",
       "\n",
       "   titles_won  \n",
       "0        23.0  \n",
       "1         NaN  \n",
       "2         NaN  \n",
       "3         NaN  \n",
       "4         NaN  "
      ]
     },
     "execution_count": 9,
     "metadata": {},
     "output_type": "execute_result"
    }
   ],
   "source": [
    "con = sqlite3.connect('/Users/julianbombard/Desktop/Data Analytics Course/Capstone/database/ATP_Tour')\n",
    "player = pd.read_sql_query('''Select *\n",
    "                       From players''', con)\n",
    "\n",
    "con.close()\n",
    "\n",
    "player.head()"
   ]
  },
  {
   "cell_type": "markdown",
   "id": "f10406c3",
   "metadata": {},
   "source": [
    "Filter out players who have played less than 50 matches"
   ]
  },
  {
   "cell_type": "code",
   "execution_count": 10,
   "id": "288df6c3",
   "metadata": {},
   "outputs": [],
   "source": [
    "player_50 = player[player['Matches_Played'] > 50]"
   ]
  },
  {
   "cell_type": "markdown",
   "id": "72459442",
   "metadata": {},
   "source": [
    "Analyze Potential Correlation Between Aces and Winning matches"
   ]
  },
  {
   "cell_type": "code",
   "execution_count": 11,
   "id": "84fbdf90",
   "metadata": {},
   "outputs": [
    {
     "data": {
      "application/vnd.plotly.v1+json": {
       "config": {
        "plotlyServerURL": "https://plot.ly"
       },
       "data": [
        {
         "customdata": [
          [
           "Alexander Zverev"
          ],
          [
           "Ivo Karlovic"
          ],
          [
           "Stephane Robert"
          ],
          [
           "Victor Estrella"
          ],
          [
           "Benjamin Becker"
          ],
          [
           "Roger Federer"
          ],
          [
           "Paolo Lorenzi"
          ],
          [
           "Julien Benneteau"
          ],
          [
           "Paul Henri Mathieu"
          ],
          [
           "Nicolas Mahut"
          ],
          [
           "David Ferrer"
          ],
          [
           "Tommy Robredo"
          ],
          [
           "Mikhail Youzhny"
          ],
          [
           "Carlos Berlocq"
          ],
          [
           "Guillermo Garcia Lopez"
          ],
          [
           "Yen Hsun Lu"
          ],
          [
           "Florian Mayer"
          ],
          [
           "Philipp Kohlschreiber"
          ],
          [
           "Malek Jaziri"
          ],
          [
           "Rogerio Dutra Silva"
          ],
          [
           "Andreas Seppi"
          ],
          [
           "Steve Darcis"
          ],
          [
           "Juan Monaco"
          ],
          [
           "Janko Tipsarevic"
          ],
          [
           "Dustin Brown"
          ],
          [
           "Gilles Simon"
          ],
          [
           "Stan Wawrinka"
          ],
          [
           "Dudi Sela"
          ],
          [
           "Jo-Wilfried Tsonga"
          ],
          [
           "John Isner"
          ],
          [
           "Teymuraz Gabashvili"
          ],
          [
           "Marcos Baghdatis"
          ],
          [
           "Lukas Rosol"
          ],
          [
           "Daniel Gimeno Traver"
          ],
          [
           "Nicolas Almagro"
          ],
          [
           "Tomas Berdych"
          ],
          [
           "Simone Bolelli"
          ],
          [
           "Pablo Cuevas"
          ],
          [
           "Sergiy Stakhovsky"
          ],
          [
           "Pablo Andujar"
          ],
          [
           "Viktor Troicki"
          ],
          [
           "Marcel Granollers"
          ],
          [
           "Kevin Anderson"
          ],
          [
           "Richard Gasquet"
          ],
          [
           "Gael Monfils"
          ],
          [
           "Denis Istomin"
          ],
          [
           "Jeremy Chardy"
          ],
          [
           "Andreas Haider Maurer"
          ],
          [
           "Robin Haase"
          ],
          [
           "Andy Murray"
          ],
          [
           "Leonardo Mayer"
          ],
          [
           "Novak Djokovic"
          ],
          [
           "Fabio Fognini"
          ],
          [
           "Illya Marchenko"
          ],
          [
           "Sam Querrey"
          ],
          [
           "Sam Groth"
          ],
          [
           "Lukas Lacko"
          ],
          [
           "Matthew Ebden"
          ],
          [
           "Santiago Giraldo"
          ],
          [
           "Mikhail Kukushkin"
          ],
          [
           "Tim Smyczek"
          ],
          [
           "Roberto Bautista Agut"
          ],
          [
           "Ernests Gulbis"
          ],
          [
           "Yuichi Sugita"
          ],
          [
           "Juan Martin del Potro"
          ],
          [
           "Marin Cilic"
          ],
          [
           "Alexandr Dolgopolov"
          ],
          [
           "Joao Sousa"
          ],
          [
           "Benoit Paire"
          ],
          [
           "Thomas Fabbiano"
          ],
          [
           "John Millman"
          ],
          [
           "Peter Gojowczyk"
          ],
          [
           "Aljaz Bedene"
          ],
          [
           "Andrej Martin"
          ],
          [
           "Radu Albot"
          ],
          [
           "Steve Johnson"
          ],
          [
           "Kei Nishikori"
          ],
          [
           "Jan Lennard Struff"
          ],
          [
           "Evgeny Donskoy"
          ],
          [
           "Daniel Evans"
          ],
          [
           "Ricardas Berankis"
          ],
          [
           "Vasek Pospisil"
          ],
          [
           "Dusan Lajovic"
          ],
          [
           "Norbert Gombos"
          ],
          [
           "Marius Copil"
          ],
          [
           "Jerzy Janowicz"
          ],
          [
           "Gastao Elias"
          ],
          [
           "David Goffin"
          ],
          [
           "Milos Raonic"
          ],
          [
           "Andrey Kuznetsov"
          ],
          [
           "Pierre Hugues Herbert"
          ],
          [
           "Grigor Dimitrov"
          ],
          [
           "Mirza Basic"
          ],
          [
           "Pablo Carreno Busta"
          ],
          [
           "Tennys Sandgren"
          ],
          [
           "Yannick Hanfmann"
          ],
          [
           "Stefano Travaglia"
          ],
          [
           "James Duckworth"
          ],
          [
           "Marton Fucsovics"
          ],
          [
           "Nikoloz Basilashvili"
          ],
          [
           "Filip Krajinovic"
          ],
          [
           "Federico Coria"
          ],
          [
           "Renzo Olivo"
          ],
          [
           "Henri Laaksonen"
          ],
          [
           "Ryan Harrison"
          ],
          [
           "Damir Dzumhur"
          ],
          [
           "Constant Lestienne"
          ],
          [
           "Diego Schwartzman"
          ],
          [
           "Denis Kudla"
          ],
          [
           "Jack Sock"
          ],
          [
           "Marco Cecchinato"
          ],
          [
           "Bernard Tomic"
          ],
          [
           "Jozef Kovalik"
          ],
          [
           "Egor Gerasimov"
          ],
          [
           "Salvatore Caruso"
          ],
          [
           "Taro Daniel"
          ],
          [
           "Roberto Carballes Baena"
          ],
          [
           "Jason Kubler"
          ],
          [
           "Hugo Dellien"
          ],
          [
           "Oscar Otte"
          ],
          [
           "Bjorn Fratangelo"
          ],
          [
           "Marcos Giron"
          ],
          [
           "Juan Ignacio Londero"
          ],
          [
           "Dominic Thiem"
          ],
          [
           "Aslan Karatsev"
          ],
          [
           "Gregoire Barrere"
          ],
          [
           "Lucas Pouille"
          ],
          [
           "Christopher Oconnell"
          ],
          [
           "Ramkumar Ramanathan"
          ],
          [
           "Kyle Edmund"
          ],
          [
           "Pedro Cachin"
          ],
          [
           "Nick Kyrgios"
          ],
          [
           "Daniil Medvedev"
          ],
          [
           "Thanasi Kokkinakis"
          ],
          [
           "Cristian Garin"
          ],
          [
           "Borna Coric"
          ],
          [
           "Dennis Novak"
          ],
          [
           "Christopher Eubanks"
          ],
          [
           "Zhizhen Zhang"
          ],
          [
           "Elias Ymer"
          ],
          [
           "Hyeon Chung"
          ],
          [
           "Jordan Thompson"
          ],
          [
           "Mackenzie Mcdonald"
          ],
          [
           "Quentin Halys"
          ],
          [
           "Laslo Djere"
          ],
          [
           "Karen Khachanov"
          ],
          [
           "Jared Donaldson"
          ],
          [
           "Michael Mmoh"
          ],
          [
           "Kamil Majchrzak"
          ],
          [
           "Nicolas Jarry"
          ],
          [
           "Botic Van De Zandschulp"
          ],
          [
           "Alexander Bublik"
          ],
          [
           "Juan Pablo Varillas"
          ],
          [
           "Daniel Elahi Galan"
          ],
          [
           "Ernesto Escobedo"
          ],
          [
           "Pedro Martinez"
          ],
          [
           "Sebastian Ofner"
          ],
          [
           "Alexandre Muller"
          ],
          [
           "Reilly Opelka"
          ],
          [
           "Ilya Ivashka"
          ],
          [
           "Andrey Rublev"
          ],
          [
           "Benjamin Bonzi"
          ],
          [
           "Roman Safiullin"
          ],
          [
           "Gianluca Mager"
          ],
          [
           "Taylor Fritz"
          ],
          [
           "Tommy Paul"
          ],
          [
           "Frances Tiafoe"
          ],
          [
           "Arthur Rinderknech"
          ],
          [
           "Bernabe Zapata Miralles"
          ],
          [
           "Matteo Berrettini"
          ],
          [
           "Stefanos Tsitsipas"
          ],
          [
           "Max Purcell"
          ],
          [
           "Aleksandar Vukic"
          ],
          [
           "Soon Woo Kwon"
          ],
          [
           "Daniel Altmaier"
          ],
          [
           "Hubert Hurkacz"
          ],
          [
           "Lorenzo Sonego"
          ],
          [
           "Nuno Borges"
          ],
          [
           "Casper Ruud"
          ],
          [
           "Tallon Griekspoor"
          ],
          [
           "Mikael Ymer"
          ],
          [
           "Jaume Munar"
          ],
          [
           "Lloyd Harris"
          ],
          [
           "Tomas Martin Etcheverry"
          ],
          [
           "Felix Auger Aliassime"
          ],
          [
           "Miomir Kecmanovic"
          ],
          [
           "Alejandro Davidovich Fokina"
          ],
          [
           "Zizou Bergs"
          ],
          [
           "Alex De Minaur"
          ],
          [
           "Pavel Kotov"
          ],
          [
           "Emil Ruusuvuori"
          ],
          [
           "Alexei Popyrin"
          ],
          [
           "Sebastian Korda"
          ],
          [
           "J J Wolf"
          ],
          [
           "Francisco Cerundolo"
          ],
          [
           "Sebastian Baez"
          ],
          [
           "Maxime Cressy"
          ],
          [
           "Jenson Brooksby"
          ],
          [
           "Thiago Seyboth Wild"
          ],
          [
           "Jannik Sinner"
          ],
          [
           "Fabian Marozsan"
          ],
          [
           "Brandon Nakashima"
          ],
          [
           "Lorenzo Musetti"
          ],
          [
           "Alexander Shevchenko"
          ],
          [
           "Tomas Machac"
          ],
          [
           "Flavio Cobolli"
          ],
          [
           "Carlos Alcaraz"
          ],
          [
           "Rinky Hijikata"
          ],
          [
           "Holger Rune"
          ],
          [
           "Jiri Lehecka"
          ],
          [
           "Matteo Arnaldi"
          ],
          [
           "Luciano Darderi"
          ],
          [
           "Luca Van Assche"
          ],
          [
           "Arthur Fils"
          ],
          [
           "Alex Michelsen"
          ]
         ],
         "hovertemplate": "hand=R<br>Aces Per Match=%{x}<br>Winning Percentage=%{y}<br>player_name=%{customdata[0]}<extra></extra>",
         "legendgroup": "R",
         "marker": {
          "color": "#636efa",
          "symbol": "circle"
         },
         "mode": "markers",
         "name": "R",
         "orientation": "v",
         "showlegend": true,
         "type": "scatter",
         "x": {
          "bdata": "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",
          "dtype": "f8"
         },
         "xaxis": "x",
         "y": {
          "bdata": "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",
          "dtype": "f8"
         },
         "yaxis": "y"
        },
        {
         "customdata": [
          [
           "Feliciano Lopez"
          ],
          [
           "Gilles Muller"
          ],
          [
           "Fernando Verdasco"
          ],
          [
           "Horacio Zeballos"
          ],
          [
           "Rafael Nadal"
          ],
          [
           "Mischa Zverev"
          ],
          [
           "Thomaz Bellucci"
          ],
          [
           "Ruben Bemelmans"
          ],
          [
           "Albert Ramos"
          ],
          [
           "Adrian Mannarino"
          ],
          [
           "Martin Klizan"
          ],
          [
           "Donald Young"
          ],
          [
           "Facundo Bagnis"
          ],
          [
           "Guido Pella"
          ],
          [
           "Federico Delbonis"
          ],
          [
           "Jiri Vesely"
          ],
          [
           "Liam Broady"
          ],
          [
           "Thiago Monteiro"
          ],
          [
           "Yoshihito Nishioka"
          ],
          [
           "Maximilian Marterer"
          ],
          [
           "Cameron Norrie"
          ],
          [
           "Alejandro Tabilo"
          ],
          [
           "Denis Shapovalov"
          ],
          [
           "Dominik Koepfer"
          ],
          [
           "Alex Molcan"
          ],
          [
           "Marc Andrea Huesler"
          ],
          [
           "Corentin Moutet"
          ],
          [
           "Ugo Humbert"
          ],
          [
           "Hugo Gaston"
          ],
          [
           "Jack Draper"
          ],
          [
           "Juncheng Shang"
          ],
          [
           "Ben Shelton"
          ]
         ],
         "hovertemplate": "hand=L<br>Aces Per Match=%{x}<br>Winning Percentage=%{y}<br>player_name=%{customdata[0]}<extra></extra>",
         "legendgroup": "L",
         "marker": {
          "color": "#EF553B",
          "symbol": "circle"
         },
         "mode": "markers",
         "name": "L",
         "orientation": "v",
         "showlegend": true,
         "type": "scatter",
         "x": {
          "bdata": "exSuR+H6JkAK16NwPYotQI/C9ShcjxdAzczMzMzMGECPwvUoXI8MQFyPwvUoXBZA7FG4HoXrE0Bcj8L1KFwYQD0K16NwPQpA9ihcj8L1EkBSuB6F61EQQBSuR+F6FA5AZmZmZmZmE0CPwvUoXI8UQD0K16NwPQxAmpmZmZkZIUCF61G4HoUNQClcj8L1KBZA4XoUrkfh/j/NzMzMzMwZQEjhehSuRxNAzczMzMzMG0A9CtejcL0gQDMzMzMzMxFAw/UoXI/CC0DXo3A9CtchQKRwPQrXowJAMzMzMzMzHED2KFyPwvUGQNejcD0KVyBAhetRuB6FEEDD9Shcj0IkQA==",
          "dtype": "f8"
         },
         "xaxis": "x",
         "y": {
          "bdata": "AAAAAAAASEC4HoXrURhMQArXo3A9SkhA4XoUrkeBRUAAAAAAABBUQM3MzMzMLEVAUrgehesRRkDXo3A9CvdAQFK4HoXrUUdAhetRuB6FSEDNzMzMzGxIQFK4HoXr0UZAcD0K16PwQECF61G4HoVHQOxRuB6Fi0ZA16NwPQoXR0DXo3A9ChdDQLgehetRuERA16NwPQqXR0D2KFyPwhVBQOF6FK5HoUxACtejcD2qSUCuR+F6FG5LQK5H4XoUjkZAcD0K16NQSkBnZmZmZkZDQPYoXI/C1URAwvUoXI9iSkD2KFyPwtVEQMP1KFyPYk5Aw/UoXI9iR0AVrkfhenRMQA==",
          "dtype": "f8"
         },
         "yaxis": "y"
        },
        {
         "hovertemplate": "<b>OLS trendline</b><br>Win_Pct = 0.728771 * avg_aces + 42.9832<br>R<sup>2</sup>=0.050234<br><br>Aces Per Match=%{x}<br>Winning Percentage=%{y} <b>(trend)</b><extra></extra>",
         "legendgroup": "Overall Trendline",
         "line": {
          "color": "#00cc96"
         },
         "mode": "lines",
         "name": "Overall Trendline",
         "showlegend": true,
         "type": "scatter",
         "x": {
          "bdata": "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",
          "dtype": "f8"
         },
         "xaxis": "x",
         "y": {
          "bdata": "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",
          "dtype": "f8"
         },
         "yaxis": "y"
        }
       ],
       "layout": {
        "legend": {
         "title": {
          "text": "hand"
         },
         "tracegroupgap": 0
        },
        "template": {
         "data": {
          "bar": [
           {
            "error_x": {
             "color": "#2a3f5f"
            },
            "error_y": {
             "color": "#2a3f5f"
            },
            "marker": {
             "line": {
              "color": "#E5ECF6",
              "width": 0.5
             },
             "pattern": {
              "fillmode": "overlay",
              "size": 10,
              "solidity": 0.2
             }
            },
            "type": "bar"
           }
          ],
          "barpolar": [
           {
            "marker": {
             "line": {
              "color": "#E5ECF6",
              "width": 0.5
             },
             "pattern": {
              "fillmode": "overlay",
              "size": 10,
              "solidity": 0.2
             }
            },
            "type": "barpolar"
           }
          ],
          "carpet": [
           {
            "aaxis": {
             "endlinecolor": "#2a3f5f",
             "gridcolor": "white",
             "linecolor": "white",
             "minorgridcolor": "white",
             "startlinecolor": "#2a3f5f"
            },
            "baxis": {
             "endlinecolor": "#2a3f5f",
             "gridcolor": "white",
             "linecolor": "white",
             "minorgridcolor": "white",
             "startlinecolor": "#2a3f5f"
            },
            "type": "carpet"
           }
          ],
          "choropleth": [
           {
            "colorbar": {
             "outlinewidth": 0,
             "ticks": ""
            },
            "type": "choropleth"
           }
          ],
          "contour": [
           {
            "colorbar": {
             "outlinewidth": 0,
             "ticks": ""
            },
            "colorscale": [
             [
              0,
              "#0d0887"
             ],
             [
              0.1111111111111111,
              "#46039f"
             ],
             [
              0.2222222222222222,
              "#7201a8"
             ],
             [
              0.3333333333333333,
              "#9c179e"
             ],
             [
              0.4444444444444444,
              "#bd3786"
             ],
             [
              0.5555555555555556,
              "#d8576b"
             ],
             [
              0.6666666666666666,
              "#ed7953"
             ],
             [
              0.7777777777777778,
              "#fb9f3a"
             ],
             [
              0.8888888888888888,
              "#fdca26"
             ],
             [
              1,
              "#f0f921"
             ]
            ],
            "type": "contour"
           }
          ],
          "contourcarpet": [
           {
            "colorbar": {
             "outlinewidth": 0,
             "ticks": ""
            },
            "type": "contourcarpet"
           }
          ],
          "heatmap": [
           {
            "colorbar": {
             "outlinewidth": 0,
             "ticks": ""
            },
            "colorscale": [
             [
              0,
              "#0d0887"
             ],
             [
              0.1111111111111111,
              "#46039f"
             ],
             [
              0.2222222222222222,
              "#7201a8"
             ],
             [
              0.3333333333333333,
              "#9c179e"
             ],
             [
              0.4444444444444444,
              "#bd3786"
             ],
             [
              0.5555555555555556,
              "#d8576b"
             ],
             [
              0.6666666666666666,
              "#ed7953"
             ],
             [
              0.7777777777777778,
              "#fb9f3a"
             ],
             [
              0.8888888888888888,
              "#fdca26"
             ],
             [
              1,
              "#f0f921"
             ]
            ],
            "type": "heatmap"
           }
          ],
          "histogram": [
           {
            "marker": {
             "pattern": {
              "fillmode": "overlay",
              "size": 10,
              "solidity": 0.2
             }
            },
            "type": "histogram"
           }
          ],
          "histogram2d": [
           {
            "colorbar": {
             "outlinewidth": 0,
             "ticks": ""
            },
            "colorscale": [
             [
              0,
              "#0d0887"
             ],
             [
              0.1111111111111111,
              "#46039f"
             ],
             [
              0.2222222222222222,
              "#7201a8"
             ],
             [
              0.3333333333333333,
              "#9c179e"
             ],
             [
              0.4444444444444444,
              "#bd3786"
             ],
             [
              0.5555555555555556,
              "#d8576b"
             ],
             [
              0.6666666666666666,
              "#ed7953"
             ],
             [
              0.7777777777777778,
              "#fb9f3a"
             ],
             [
              0.8888888888888888,
              "#fdca26"
             ],
             [
              1,
              "#f0f921"
             ]
            ],
            "type": "histogram2d"
           }
          ],
          "histogram2dcontour": [
           {
            "colorbar": {
             "outlinewidth": 0,
             "ticks": ""
            },
            "colorscale": [
             [
              0,
              "#0d0887"
             ],
             [
              0.1111111111111111,
              "#46039f"
             ],
             [
              0.2222222222222222,
              "#7201a8"
             ],
             [
              0.3333333333333333,
              "#9c179e"
             ],
             [
              0.4444444444444444,
              "#bd3786"
             ],
             [
              0.5555555555555556,
              "#d8576b"
             ],
             [
              0.6666666666666666,
              "#ed7953"
             ],
             [
              0.7777777777777778,
              "#fb9f3a"
             ],
             [
              0.8888888888888888,
              "#fdca26"
             ],
             [
              1,
              "#f0f921"
             ]
            ],
            "type": "histogram2dcontour"
           }
          ],
          "mesh3d": [
           {
            "colorbar": {
             "outlinewidth": 0,
             "ticks": ""
            },
            "type": "mesh3d"
           }
          ],
          "parcoords": [
           {
            "line": {
             "colorbar": {
              "outlinewidth": 0,
              "ticks": ""
             }
            },
            "type": "parcoords"
           }
          ],
          "pie": [
           {
            "automargin": true,
            "type": "pie"
           }
          ],
          "scatter": [
           {
            "fillpattern": {
             "fillmode": "overlay",
             "size": 10,
             "solidity": 0.2
            },
            "type": "scatter"
           }
          ],
          "scatter3d": [
           {
            "line": {
             "colorbar": {
              "outlinewidth": 0,
              "ticks": ""
             }
            },
            "marker": {
             "colorbar": {
              "outlinewidth": 0,
              "ticks": ""
             }
            },
            "type": "scatter3d"
           }
          ],
          "scattercarpet": [
           {
            "marker": {
             "colorbar": {
              "outlinewidth": 0,
              "ticks": ""
             }
            },
            "type": "scattercarpet"
           }
          ],
          "scattergeo": [
           {
            "marker": {
             "colorbar": {
              "outlinewidth": 0,
              "ticks": ""
             }
            },
            "type": "scattergeo"
           }
          ],
          "scattergl": [
           {
            "marker": {
             "colorbar": {
              "outlinewidth": 0,
              "ticks": ""
             }
            },
            "type": "scattergl"
           }
          ],
          "scattermap": [
           {
            "marker": {
             "colorbar": {
              "outlinewidth": 0,
              "ticks": ""
             }
            },
            "type": "scattermap"
           }
          ],
          "scattermapbox": [
           {
            "marker": {
             "colorbar": {
              "outlinewidth": 0,
              "ticks": ""
             }
            },
            "type": "scattermapbox"
           }
          ],
          "scatterpolar": [
           {
            "marker": {
             "colorbar": {
              "outlinewidth": 0,
              "ticks": ""
             }
            },
            "type": "scatterpolar"
           }
          ],
          "scatterpolargl": [
           {
            "marker": {
             "colorbar": {
              "outlinewidth": 0,
              "ticks": ""
             }
            },
            "type": "scatterpolargl"
           }
          ],
          "scatterternary": [
           {
            "marker": {
             "colorbar": {
              "outlinewidth": 0,
              "ticks": ""
             }
            },
            "type": "scatterternary"
           }
          ],
          "surface": [
           {
            "colorbar": {
             "outlinewidth": 0,
             "ticks": ""
            },
            "colorscale": [
             [
              0,
              "#0d0887"
             ],
             [
              0.1111111111111111,
              "#46039f"
             ],
             [
              0.2222222222222222,
              "#7201a8"
             ],
             [
              0.3333333333333333,
              "#9c179e"
             ],
             [
              0.4444444444444444,
              "#bd3786"
             ],
             [
              0.5555555555555556,
              "#d8576b"
             ],
             [
              0.6666666666666666,
              "#ed7953"
             ],
             [
              0.7777777777777778,
              "#fb9f3a"
             ],
             [
              0.8888888888888888,
              "#fdca26"
             ],
             [
              1,
              "#f0f921"
             ]
            ],
            "type": "surface"
           }
          ],
          "table": [
           {
            "cells": {
             "fill": {
              "color": "#EBF0F8"
             },
             "line": {
              "color": "white"
             }
            },
            "header": {
             "fill": {
              "color": "#C8D4E3"
             },
             "line": {
              "color": "white"
             }
            },
            "type": "table"
           }
          ]
         },
         "layout": {
          "annotationdefaults": {
           "arrowcolor": "#2a3f5f",
           "arrowhead": 0,
           "arrowwidth": 1
          },
          "autotypenumbers": "strict",
          "coloraxis": {
           "colorbar": {
            "outlinewidth": 0,
            "ticks": ""
           }
          },
          "colorscale": {
           "diverging": [
            [
             0,
             "#8e0152"
            ],
            [
             0.1,
             "#c51b7d"
            ],
            [
             0.2,
             "#de77ae"
            ],
            [
             0.3,
             "#f1b6da"
            ],
            [
             0.4,
             "#fde0ef"
            ],
            [
             0.5,
             "#f7f7f7"
            ],
            [
             0.6,
             "#e6f5d0"
            ],
            [
             0.7,
             "#b8e186"
            ],
            [
             0.8,
             "#7fbc41"
            ],
            [
             0.9,
             "#4d9221"
            ],
            [
             1,
             "#276419"
            ]
           ],
           "sequential": [
            [
             0,
             "#0d0887"
            ],
            [
             0.1111111111111111,
             "#46039f"
            ],
            [
             0.2222222222222222,
             "#7201a8"
            ],
            [
             0.3333333333333333,
             "#9c179e"
            ],
            [
             0.4444444444444444,
             "#bd3786"
            ],
            [
             0.5555555555555556,
             "#d8576b"
            ],
            [
             0.6666666666666666,
             "#ed7953"
            ],
            [
             0.7777777777777778,
             "#fb9f3a"
            ],
            [
             0.8888888888888888,
             "#fdca26"
            ],
            [
             1,
             "#f0f921"
            ]
           ],
           "sequentialminus": [
            [
             0,
             "#0d0887"
            ],
            [
             0.1111111111111111,
             "#46039f"
            ],
            [
             0.2222222222222222,
             "#7201a8"
            ],
            [
             0.3333333333333333,
             "#9c179e"
            ],
            [
             0.4444444444444444,
             "#bd3786"
            ],
            [
             0.5555555555555556,
             "#d8576b"
            ],
            [
             0.6666666666666666,
             "#ed7953"
            ],
            [
             0.7777777777777778,
             "#fb9f3a"
            ],
            [
             0.8888888888888888,
             "#fdca26"
            ],
            [
             1,
             "#f0f921"
            ]
           ]
          },
          "colorway": [
           "#636efa",
           "#EF553B",
           "#00cc96",
           "#ab63fa",
           "#FFA15A",
           "#19d3f3",
           "#FF6692",
           "#B6E880",
           "#FF97FF",
           "#FECB52"
          ],
          "font": {
           "color": "#2a3f5f"
          },
          "geo": {
           "bgcolor": "white",
           "lakecolor": "white",
           "landcolor": "#E5ECF6",
           "showlakes": true,
           "showland": true,
           "subunitcolor": "white"
          },
          "hoverlabel": {
           "align": "left"
          },
          "hovermode": "closest",
          "mapbox": {
           "style": "light"
          },
          "paper_bgcolor": "white",
          "plot_bgcolor": "#E5ECF6",
          "polar": {
           "angularaxis": {
            "gridcolor": "white",
            "linecolor": "white",
            "ticks": ""
           },
           "bgcolor": "#E5ECF6",
           "radialaxis": {
            "gridcolor": "white",
            "linecolor": "white",
            "ticks": ""
           }
          },
          "scene": {
           "xaxis": {
            "backgroundcolor": "#E5ECF6",
            "gridcolor": "white",
            "gridwidth": 2,
            "linecolor": "white",
            "showbackground": true,
            "ticks": "",
            "zerolinecolor": "white"
           },
           "yaxis": {
            "backgroundcolor": "#E5ECF6",
            "gridcolor": "white",
            "gridwidth": 2,
            "linecolor": "white",
            "showbackground": true,
            "ticks": "",
            "zerolinecolor": "white"
           },
           "zaxis": {
            "backgroundcolor": "#E5ECF6",
            "gridcolor": "white",
            "gridwidth": 2,
            "linecolor": "white",
            "showbackground": true,
            "ticks": "",
            "zerolinecolor": "white"
           }
          },
          "shapedefaults": {
           "line": {
            "color": "#2a3f5f"
           }
          },
          "ternary": {
           "aaxis": {
            "gridcolor": "white",
            "linecolor": "white",
            "ticks": ""
           },
           "baxis": {
            "gridcolor": "white",
            "linecolor": "white",
            "ticks": ""
           },
           "bgcolor": "#E5ECF6",
           "caxis": {
            "gridcolor": "white",
            "linecolor": "white",
            "ticks": ""
           }
          },
          "title": {
           "x": 0.05
          },
          "xaxis": {
           "automargin": true,
           "gridcolor": "white",
           "linecolor": "white",
           "ticks": "",
           "title": {
            "standoff": 15
           },
           "zerolinecolor": "white",
           "zerolinewidth": 2
          },
          "yaxis": {
           "automargin": true,
           "gridcolor": "white",
           "linecolor": "white",
           "ticks": "",
           "title": {
            "standoff": 15
           },
           "zerolinecolor": "white",
           "zerolinewidth": 2
          }
         }
        },
        "title": {
         "text": "Do more aces lead to winning?"
        },
        "xaxis": {
         "anchor": "y",
         "domain": [
          0,
          1
         ],
         "title": {
          "text": "Aces Per Match"
         }
        },
        "yaxis": {
         "anchor": "x",
         "domain": [
          0,
          1
         ],
         "title": {
          "text": "Winning Percentage"
         }
        }
       }
      }
     },
     "metadata": {},
     "output_type": "display_data"
    }
   ],
   "source": [
    "fig = px.scatter(player_50, x = 'avg_aces', y = 'Win_Pct', hover_data = 'player_name', color = 'hand', trendline = 'ols', trendline_scope = 'overall', title = 'Do more aces lead to winning?', labels = {\n",
    "    'avg_aces': 'Aces Per Match',\n",
    "    'Win_Pct': 'Winning Percentage'\n",
    "})\n",
    "\n",
    "fig.show()"
   ]
  },
  {
   "cell_type": "code",
   "execution_count": 12,
   "id": "e298bff6",
   "metadata": {},
   "outputs": [
    {
     "name": "stdout",
     "output_type": "stream",
     "text": [
      "Correlation is 0.22412878543663256\n"
     ]
    }
   ],
   "source": [
    "correlation = player_50['avg_aces'].corr(player_50['Win_Pct'])\n",
    "print(f'Correlation is {correlation}')"
   ]
  },
  {
   "cell_type": "markdown",
   "id": "2eccca6d",
   "metadata": {},
   "source": [
    "This suggests a fairly week correlation between hitting more aces and winning more matches"
   ]
  },
  {
   "cell_type": "markdown",
   "id": "ee00abd9",
   "metadata": {},
   "source": [
    "## Tommy Paul before and after his racket switch"
   ]
  },
  {
   "cell_type": "markdown",
   "id": "053356a0",
   "metadata": {},
   "source": [
    "I wanted to bring in some metadata to compare some before and afters, and discovered that at the beginning of the 2023 season, American player Tommy Paul switched his racket brand from Wilson to Yonex. I want to compare his statistics, win-loss record, and tournament performances with both rackets. I will use 2021-2022 for the Wilson data, and 2023-2024 for the Yonex data\n",
    "\n",
    "source: https://www.tennis.com/baseline/articles/tommy-paul-racquet-switch-as-tennis-rules-continue-to-confound-miami"
   ]
  },
  {
   "cell_type": "code",
   "execution_count": 13,
   "id": "44a9b6c3",
   "metadata": {},
   "outputs": [
    {
     "data": {
      "text/html": [
       "<div>\n",
       "<style scoped>\n",
       "    .dataframe tbody tr th:only-of-type {\n",
       "        vertical-align: middle;\n",
       "    }\n",
       "\n",
       "    .dataframe tbody tr th {\n",
       "        vertical-align: top;\n",
       "    }\n",
       "\n",
       "    .dataframe thead th {\n",
       "        text-align: right;\n",
       "    }\n",
       "</style>\n",
       "<table border=\"1\" class=\"dataframe\">\n",
       "  <thead>\n",
       "    <tr style=\"text-align: right;\">\n",
       "      <th></th>\n",
       "      <th>player_id</th>\n",
       "      <th>player_name</th>\n",
       "      <th>height</th>\n",
       "      <th>hand</th>\n",
       "      <th>avg_minutes</th>\n",
       "      <th>avg_aces</th>\n",
       "      <th>avg_df</th>\n",
       "      <th>avg_svpt</th>\n",
       "      <th>avg_first_in</th>\n",
       "      <th>avg_first_won</th>\n",
       "      <th>avg_second_won</th>\n",
       "      <th>avg_sv_gms</th>\n",
       "      <th>avg_bp_saved</th>\n",
       "      <th>avg_bp_faced</th>\n",
       "      <th>Wins</th>\n",
       "      <th>Losses</th>\n",
       "      <th>Matches_Played</th>\n",
       "      <th>Win_Pct</th>\n",
       "      <th>titles_won</th>\n",
       "    </tr>\n",
       "  </thead>\n",
       "  <tbody>\n",
       "    <tr>\n",
       "      <th>507</th>\n",
       "      <td>126205</td>\n",
       "      <td>Tommy Paul</td>\n",
       "      <td>185</td>\n",
       "      <td>R</td>\n",
       "      <td>115.7</td>\n",
       "      <td>5.18</td>\n",
       "      <td>2.29</td>\n",
       "      <td>81.08</td>\n",
       "      <td>49.8</td>\n",
       "      <td>35.41</td>\n",
       "      <td>16.49</td>\n",
       "      <td>12.69</td>\n",
       "      <td>4.11</td>\n",
       "      <td>6.62</td>\n",
       "      <td>176</td>\n",
       "      <td>124</td>\n",
       "      <td>300</td>\n",
       "      <td>58.67</td>\n",
       "      <td>4.0</td>\n",
       "    </tr>\n",
       "  </tbody>\n",
       "</table>\n",
       "</div>"
      ],
      "text/plain": [
       "     player_id player_name  height hand  avg_minutes  avg_aces  avg_df  \\\n",
       "507     126205  Tommy Paul     185    R        115.7      5.18    2.29   \n",
       "\n",
       "     avg_svpt  avg_first_in  avg_first_won  avg_second_won  avg_sv_gms  \\\n",
       "507     81.08          49.8          35.41           16.49       12.69   \n",
       "\n",
       "     avg_bp_saved  avg_bp_faced  Wins  Losses  Matches_Played  Win_Pct  \\\n",
       "507          4.11          6.62   176     124             300    58.67   \n",
       "\n",
       "     titles_won  \n",
       "507         4.0  "
      ]
     },
     "execution_count": 13,
     "metadata": {},
     "output_type": "execute_result"
    }
   ],
   "source": [
    "player[player['player_name'] == 'Tommy Paul'] "
   ]
  },
  {
   "cell_type": "code",
   "execution_count": 14,
   "id": "87ebeaf7",
   "metadata": {},
   "outputs": [],
   "source": [
    "tommy_paul_matches = player_match_stats[player_match_stats['player_name'] == 'Tommy Paul']"
   ]
  },
  {
   "cell_type": "code",
   "execution_count": 15,
   "id": "1d2e9120",
   "metadata": {},
   "outputs": [
    {
     "data": {
      "text/html": [
       "<div>\n",
       "<style scoped>\n",
       "    .dataframe tbody tr th:only-of-type {\n",
       "        vertical-align: middle;\n",
       "    }\n",
       "\n",
       "    .dataframe tbody tr th {\n",
       "        vertical-align: top;\n",
       "    }\n",
       "\n",
       "    .dataframe thead th {\n",
       "        text-align: right;\n",
       "    }\n",
       "</style>\n",
       "<table border=\"1\" class=\"dataframe\">\n",
       "  <thead>\n",
       "    <tr style=\"text-align: right;\">\n",
       "      <th></th>\n",
       "      <th>player_id</th>\n",
       "      <th>match_id</th>\n",
       "      <th>year</th>\n",
       "      <th>month</th>\n",
       "      <th>player_name</th>\n",
       "      <th>country</th>\n",
       "      <th>height</th>\n",
       "      <th>hand</th>\n",
       "      <th>tourney_name</th>\n",
       "      <th>tourney_level</th>\n",
       "      <th>...</th>\n",
       "      <th>bp_saved</th>\n",
       "      <th>bp_faced</th>\n",
       "      <th>rank</th>\n",
       "      <th>rank_points</th>\n",
       "      <th>won</th>\n",
       "      <th>first_sv_pct</th>\n",
       "      <th>first_sv_win_pct</th>\n",
       "      <th>second_sv_win_pct</th>\n",
       "      <th>total_sv_win_pct</th>\n",
       "      <th>bp_save_pct</th>\n",
       "    </tr>\n",
       "  </thead>\n",
       "  <tbody>\n",
       "    <tr>\n",
       "      <th>2259</th>\n",
       "      <td>126205</td>\n",
       "      <td>2016-0717_282</td>\n",
       "      <td>2016</td>\n",
       "      <td>4</td>\n",
       "      <td>Tommy Paul</td>\n",
       "      <td>USA</td>\n",
       "      <td>185</td>\n",
       "      <td>R</td>\n",
       "      <td>Houston</td>\n",
       "      <td>A</td>\n",
       "      <td>...</td>\n",
       "      <td>3</td>\n",
       "      <td>4</td>\n",
       "      <td>200</td>\n",
       "      <td>262</td>\n",
       "      <td>True</td>\n",
       "      <td>0.641509</td>\n",
       "      <td>0.735294</td>\n",
       "      <td>0.578947</td>\n",
       "      <td>0.679245</td>\n",
       "      <td>0.750000</td>\n",
       "    </tr>\n",
       "    <tr>\n",
       "      <th>6093</th>\n",
       "      <td>126205</td>\n",
       "      <td>2017-6116_277</td>\n",
       "      <td>2017</td>\n",
       "      <td>7</td>\n",
       "      <td>Tommy Paul</td>\n",
       "      <td>USA</td>\n",
       "      <td>185</td>\n",
       "      <td>R</td>\n",
       "      <td>Atlanta</td>\n",
       "      <td>A</td>\n",
       "      <td>...</td>\n",
       "      <td>5</td>\n",
       "      <td>9</td>\n",
       "      <td>291</td>\n",
       "      <td>172</td>\n",
       "      <td>True</td>\n",
       "      <td>0.688312</td>\n",
       "      <td>0.679245</td>\n",
       "      <td>0.333333</td>\n",
       "      <td>0.571429</td>\n",
       "      <td>0.555556</td>\n",
       "    </tr>\n",
       "    <tr>\n",
       "      <th>6103</th>\n",
       "      <td>126205</td>\n",
       "      <td>2017-6116_289</td>\n",
       "      <td>2017</td>\n",
       "      <td>7</td>\n",
       "      <td>Tommy Paul</td>\n",
       "      <td>USA</td>\n",
       "      <td>185</td>\n",
       "      <td>R</td>\n",
       "      <td>Atlanta</td>\n",
       "      <td>A</td>\n",
       "      <td>...</td>\n",
       "      <td>2</td>\n",
       "      <td>4</td>\n",
       "      <td>291</td>\n",
       "      <td>172</td>\n",
       "      <td>True</td>\n",
       "      <td>0.697917</td>\n",
       "      <td>0.731343</td>\n",
       "      <td>0.482759</td>\n",
       "      <td>0.656250</td>\n",
       "      <td>0.500000</td>\n",
       "    </tr>\n",
       "    <tr>\n",
       "      <th>6230</th>\n",
       "      <td>126205</td>\n",
       "      <td>2017-M035_244</td>\n",
       "      <td>2017</td>\n",
       "      <td>7</td>\n",
       "      <td>Tommy Paul</td>\n",
       "      <td>USA</td>\n",
       "      <td>185</td>\n",
       "      <td>R</td>\n",
       "      <td>Washington</td>\n",
       "      <td>A</td>\n",
       "      <td>...</td>\n",
       "      <td>4</td>\n",
       "      <td>6</td>\n",
       "      <td>225</td>\n",
       "      <td>229</td>\n",
       "      <td>True</td>\n",
       "      <td>0.537313</td>\n",
       "      <td>0.833333</td>\n",
       "      <td>0.548387</td>\n",
       "      <td>0.701493</td>\n",
       "      <td>0.666667</td>\n",
       "    </tr>\n",
       "    <tr>\n",
       "      <th>6246</th>\n",
       "      <td>126205</td>\n",
       "      <td>2017-M035_273</td>\n",
       "      <td>2017</td>\n",
       "      <td>7</td>\n",
       "      <td>Tommy Paul</td>\n",
       "      <td>USA</td>\n",
       "      <td>185</td>\n",
       "      <td>R</td>\n",
       "      <td>Washington</td>\n",
       "      <td>A</td>\n",
       "      <td>...</td>\n",
       "      <td>4</td>\n",
       "      <td>5</td>\n",
       "      <td>225</td>\n",
       "      <td>229</td>\n",
       "      <td>True</td>\n",
       "      <td>0.676471</td>\n",
       "      <td>0.804348</td>\n",
       "      <td>0.636364</td>\n",
       "      <td>0.750000</td>\n",
       "      <td>0.800000</td>\n",
       "    </tr>\n",
       "    <tr>\n",
       "      <th>...</th>\n",
       "      <td>...</td>\n",
       "      <td>...</td>\n",
       "      <td>...</td>\n",
       "      <td>...</td>\n",
       "      <td>...</td>\n",
       "      <td>...</td>\n",
       "      <td>...</td>\n",
       "      <td>...</td>\n",
       "      <td>...</td>\n",
       "      <td>...</td>\n",
       "      <td>...</td>\n",
       "      <td>...</td>\n",
       "      <td>...</td>\n",
       "      <td>...</td>\n",
       "      <td>...</td>\n",
       "      <td>...</td>\n",
       "      <td>...</td>\n",
       "      <td>...</td>\n",
       "      <td>...</td>\n",
       "      <td>...</td>\n",
       "      <td>...</td>\n",
       "    </tr>\n",
       "    <tr>\n",
       "      <th>48602</th>\n",
       "      <td>126205</td>\n",
       "      <td>2024-560_212</td>\n",
       "      <td>2024</td>\n",
       "      <td>8</td>\n",
       "      <td>Tommy Paul</td>\n",
       "      <td>USA</td>\n",
       "      <td>185</td>\n",
       "      <td>R</td>\n",
       "      <td>US Open</td>\n",
       "      <td>G</td>\n",
       "      <td>...</td>\n",
       "      <td>10</td>\n",
       "      <td>14</td>\n",
       "      <td>14</td>\n",
       "      <td>2985</td>\n",
       "      <td>False</td>\n",
       "      <td>0.603604</td>\n",
       "      <td>0.641791</td>\n",
       "      <td>0.431818</td>\n",
       "      <td>0.558559</td>\n",
       "      <td>0.714286</td>\n",
       "    </tr>\n",
       "    <tr>\n",
       "      <th>48687</th>\n",
       "      <td>126205</td>\n",
       "      <td>2024-0329_392</td>\n",
       "      <td>2024</td>\n",
       "      <td>9</td>\n",
       "      <td>Tommy Paul</td>\n",
       "      <td>USA</td>\n",
       "      <td>185</td>\n",
       "      <td>R</td>\n",
       "      <td>Tokyo</td>\n",
       "      <td>A</td>\n",
       "      <td>...</td>\n",
       "      <td>7</td>\n",
       "      <td>10</td>\n",
       "      <td>13</td>\n",
       "      <td>3005</td>\n",
       "      <td>False</td>\n",
       "      <td>0.589474</td>\n",
       "      <td>0.696429</td>\n",
       "      <td>0.589744</td>\n",
       "      <td>0.652632</td>\n",
       "      <td>0.700000</td>\n",
       "    </tr>\n",
       "    <tr>\n",
       "      <th>48751</th>\n",
       "      <td>126205</td>\n",
       "      <td>2024-5014_359</td>\n",
       "      <td>2024</td>\n",
       "      <td>10</td>\n",
       "      <td>Tommy Paul</td>\n",
       "      <td>USA</td>\n",
       "      <td>185</td>\n",
       "      <td>R</td>\n",
       "      <td>Shanghai Masters</td>\n",
       "      <td>M</td>\n",
       "      <td>...</td>\n",
       "      <td>6</td>\n",
       "      <td>9</td>\n",
       "      <td>13</td>\n",
       "      <td>3045</td>\n",
       "      <td>False</td>\n",
       "      <td>0.591398</td>\n",
       "      <td>0.727273</td>\n",
       "      <td>0.473684</td>\n",
       "      <td>0.623656</td>\n",
       "      <td>0.666667</td>\n",
       "    </tr>\n",
       "    <tr>\n",
       "      <th>48972</th>\n",
       "      <td>126205</td>\n",
       "      <td>2024-0337_359</td>\n",
       "      <td>2024</td>\n",
       "      <td>10</td>\n",
       "      <td>Tommy Paul</td>\n",
       "      <td>USA</td>\n",
       "      <td>185</td>\n",
       "      <td>R</td>\n",
       "      <td>Vienna</td>\n",
       "      <td>A</td>\n",
       "      <td>...</td>\n",
       "      <td>9</td>\n",
       "      <td>11</td>\n",
       "      <td>12</td>\n",
       "      <td>3215</td>\n",
       "      <td>False</td>\n",
       "      <td>0.552941</td>\n",
       "      <td>0.702128</td>\n",
       "      <td>0.473684</td>\n",
       "      <td>0.600000</td>\n",
       "      <td>0.818182</td>\n",
       "    </tr>\n",
       "    <tr>\n",
       "      <th>49028</th>\n",
       "      <td>126205</td>\n",
       "      <td>2024-0352_326</td>\n",
       "      <td>2024</td>\n",
       "      <td>10</td>\n",
       "      <td>Tommy Paul</td>\n",
       "      <td>USA</td>\n",
       "      <td>185</td>\n",
       "      <td>R</td>\n",
       "      <td>Paris Masters</td>\n",
       "      <td>M</td>\n",
       "      <td>...</td>\n",
       "      <td>6</td>\n",
       "      <td>11</td>\n",
       "      <td>12</td>\n",
       "      <td>3180</td>\n",
       "      <td>False</td>\n",
       "      <td>0.565217</td>\n",
       "      <td>0.666667</td>\n",
       "      <td>0.333333</td>\n",
       "      <td>0.521739</td>\n",
       "      <td>0.545455</td>\n",
       "    </tr>\n",
       "  </tbody>\n",
       "</table>\n",
       "<p>284 rows × 30 columns</p>\n",
       "</div>"
      ],
      "text/plain": [
       "       player_id       match_id  year  month player_name country  height hand  \\\n",
       "2259      126205  2016-0717_282  2016      4  Tommy Paul     USA     185    R   \n",
       "6093      126205  2017-6116_277  2017      7  Tommy Paul     USA     185    R   \n",
       "6103      126205  2017-6116_289  2017      7  Tommy Paul     USA     185    R   \n",
       "6230      126205  2017-M035_244  2017      7  Tommy Paul     USA     185    R   \n",
       "6246      126205  2017-M035_273  2017      7  Tommy Paul     USA     185    R   \n",
       "...          ...            ...   ...    ...         ...     ...     ...  ...   \n",
       "48602     126205   2024-560_212  2024      8  Tommy Paul     USA     185    R   \n",
       "48687     126205  2024-0329_392  2024      9  Tommy Paul     USA     185    R   \n",
       "48751     126205  2024-5014_359  2024     10  Tommy Paul     USA     185    R   \n",
       "48972     126205  2024-0337_359  2024     10  Tommy Paul     USA     185    R   \n",
       "49028     126205  2024-0352_326  2024     10  Tommy Paul     USA     185    R   \n",
       "\n",
       "           tourney_name tourney_level  ... bp_saved bp_faced  rank  \\\n",
       "2259            Houston             A  ...        3        4   200   \n",
       "6093            Atlanta             A  ...        5        9   291   \n",
       "6103            Atlanta             A  ...        2        4   291   \n",
       "6230         Washington             A  ...        4        6   225   \n",
       "6246         Washington             A  ...        4        5   225   \n",
       "...                 ...           ...  ...      ...      ...   ...   \n",
       "48602           US Open             G  ...       10       14    14   \n",
       "48687             Tokyo             A  ...        7       10    13   \n",
       "48751  Shanghai Masters             M  ...        6        9    13   \n",
       "48972            Vienna             A  ...        9       11    12   \n",
       "49028     Paris Masters             M  ...        6       11    12   \n",
       "\n",
       "       rank_points    won  first_sv_pct  first_sv_win_pct  second_sv_win_pct  \\\n",
       "2259           262   True      0.641509          0.735294           0.578947   \n",
       "6093           172   True      0.688312          0.679245           0.333333   \n",
       "6103           172   True      0.697917          0.731343           0.482759   \n",
       "6230           229   True      0.537313          0.833333           0.548387   \n",
       "6246           229   True      0.676471          0.804348           0.636364   \n",
       "...            ...    ...           ...               ...                ...   \n",
       "48602         2985  False      0.603604          0.641791           0.431818   \n",
       "48687         3005  False      0.589474          0.696429           0.589744   \n",
       "48751         3045  False      0.591398          0.727273           0.473684   \n",
       "48972         3215  False      0.552941          0.702128           0.473684   \n",
       "49028         3180  False      0.565217          0.666667           0.333333   \n",
       "\n",
       "       total_sv_win_pct  bp_save_pct  \n",
       "2259           0.679245     0.750000  \n",
       "6093           0.571429     0.555556  \n",
       "6103           0.656250     0.500000  \n",
       "6230           0.701493     0.666667  \n",
       "6246           0.750000     0.800000  \n",
       "...                 ...          ...  \n",
       "48602          0.558559     0.714286  \n",
       "48687          0.652632     0.700000  \n",
       "48751          0.623656     0.666667  \n",
       "48972          0.600000     0.818182  \n",
       "49028          0.521739     0.545455  \n",
       "\n",
       "[284 rows x 30 columns]"
      ]
     },
     "execution_count": 15,
     "metadata": {},
     "output_type": "execute_result"
    }
   ],
   "source": [
    "tommy_paul_matches"
   ]
  },
  {
   "cell_type": "code",
   "execution_count": 16,
   "id": "57277c3d",
   "metadata": {},
   "outputs": [
    {
     "data": {
      "text/html": [
       "<div>\n",
       "<style scoped>\n",
       "    .dataframe tbody tr th:only-of-type {\n",
       "        vertical-align: middle;\n",
       "    }\n",
       "\n",
       "    .dataframe tbody tr th {\n",
       "        vertical-align: top;\n",
       "    }\n",
       "\n",
       "    .dataframe thead th {\n",
       "        text-align: right;\n",
       "    }\n",
       "</style>\n",
       "<table border=\"1\" class=\"dataframe\">\n",
       "  <thead>\n",
       "    <tr style=\"text-align: right;\">\n",
       "      <th></th>\n",
       "      <th>player_id</th>\n",
       "      <th>match_id</th>\n",
       "      <th>year</th>\n",
       "      <th>month</th>\n",
       "      <th>player_name</th>\n",
       "      <th>country</th>\n",
       "      <th>height</th>\n",
       "      <th>hand</th>\n",
       "      <th>tourney_name</th>\n",
       "      <th>tourney_level</th>\n",
       "      <th>...</th>\n",
       "      <th>bp_saved</th>\n",
       "      <th>bp_faced</th>\n",
       "      <th>rank</th>\n",
       "      <th>rank_points</th>\n",
       "      <th>won</th>\n",
       "      <th>first_sv_pct</th>\n",
       "      <th>first_sv_win_pct</th>\n",
       "      <th>second_sv_win_pct</th>\n",
       "      <th>total_sv_win_pct</th>\n",
       "      <th>bp_save_pct</th>\n",
       "    </tr>\n",
       "  </thead>\n",
       "  <tbody>\n",
       "    <tr>\n",
       "      <th>17165</th>\n",
       "      <td>126205</td>\n",
       "      <td>2022-0807_290</td>\n",
       "      <td>2022</td>\n",
       "      <td>2</td>\n",
       "      <td>Tommy Paul</td>\n",
       "      <td>USA</td>\n",
       "      <td>185</td>\n",
       "      <td>R</td>\n",
       "      <td>Acapulco</td>\n",
       "      <td>A</td>\n",
       "      <td>...</td>\n",
       "      <td>7</td>\n",
       "      <td>10</td>\n",
       "      <td>39</td>\n",
       "      <td>1342</td>\n",
       "      <td>True</td>\n",
       "      <td>0.570175</td>\n",
       "      <td>0.707692</td>\n",
       "      <td>0.448980</td>\n",
       "      <td>0.596491</td>\n",
       "      <td>0.700000</td>\n",
       "    </tr>\n",
       "    <tr>\n",
       "      <th>14886</th>\n",
       "      <td>126205</td>\n",
       "      <td>2021-0429_292</td>\n",
       "      <td>2021</td>\n",
       "      <td>11</td>\n",
       "      <td>Tommy Paul</td>\n",
       "      <td>USA</td>\n",
       "      <td>185</td>\n",
       "      <td>R</td>\n",
       "      <td>Stockholm</td>\n",
       "      <td>A</td>\n",
       "      <td>...</td>\n",
       "      <td>3</td>\n",
       "      <td>4</td>\n",
       "      <td>52</td>\n",
       "      <td>1119</td>\n",
       "      <td>True</td>\n",
       "      <td>0.514706</td>\n",
       "      <td>0.828571</td>\n",
       "      <td>0.454545</td>\n",
       "      <td>0.647059</td>\n",
       "      <td>0.750000</td>\n",
       "    </tr>\n",
       "    <tr>\n",
       "      <th>16713</th>\n",
       "      <td>126205</td>\n",
       "      <td>2022-9667_289</td>\n",
       "      <td>2022</td>\n",
       "      <td>1</td>\n",
       "      <td>Tommy Paul</td>\n",
       "      <td>USA</td>\n",
       "      <td>185</td>\n",
       "      <td>R</td>\n",
       "      <td>Adelaide 2</td>\n",
       "      <td>A</td>\n",
       "      <td>...</td>\n",
       "      <td>1</td>\n",
       "      <td>3</td>\n",
       "      <td>41</td>\n",
       "      <td>1374</td>\n",
       "      <td>True</td>\n",
       "      <td>0.684932</td>\n",
       "      <td>0.700000</td>\n",
       "      <td>0.608696</td>\n",
       "      <td>0.671233</td>\n",
       "      <td>0.333333</td>\n",
       "    </tr>\n",
       "    <tr>\n",
       "      <th>14902</th>\n",
       "      <td>126205</td>\n",
       "      <td>2021-0438_279</td>\n",
       "      <td>2021</td>\n",
       "      <td>10</td>\n",
       "      <td>Tommy Paul</td>\n",
       "      <td>USA</td>\n",
       "      <td>185</td>\n",
       "      <td>R</td>\n",
       "      <td>Moscow</td>\n",
       "      <td>A</td>\n",
       "      <td>...</td>\n",
       "      <td>6</td>\n",
       "      <td>9</td>\n",
       "      <td>54</td>\n",
       "      <td>1128</td>\n",
       "      <td>True</td>\n",
       "      <td>0.522727</td>\n",
       "      <td>0.760870</td>\n",
       "      <td>0.428571</td>\n",
       "      <td>0.602273</td>\n",
       "      <td>0.666667</td>\n",
       "    </tr>\n",
       "    <tr>\n",
       "      <th>14531</th>\n",
       "      <td>126205</td>\n",
       "      <td>2021-0407_291</td>\n",
       "      <td>2021</td>\n",
       "      <td>3</td>\n",
       "      <td>Tommy Paul</td>\n",
       "      <td>USA</td>\n",
       "      <td>185</td>\n",
       "      <td>R</td>\n",
       "      <td>Rotterdam</td>\n",
       "      <td>A</td>\n",
       "      <td>...</td>\n",
       "      <td>0</td>\n",
       "      <td>0</td>\n",
       "      <td>56</td>\n",
       "      <td>1080</td>\n",
       "      <td>True</td>\n",
       "      <td>0.688312</td>\n",
       "      <td>0.867925</td>\n",
       "      <td>0.625000</td>\n",
       "      <td>0.792208</td>\n",
       "      <td>NaN</td>\n",
       "    </tr>\n",
       "    <tr>\n",
       "      <th>16723</th>\n",
       "      <td>126205</td>\n",
       "      <td>2022-9667_277</td>\n",
       "      <td>2022</td>\n",
       "      <td>1</td>\n",
       "      <td>Tommy Paul</td>\n",
       "      <td>USA</td>\n",
       "      <td>185</td>\n",
       "      <td>R</td>\n",
       "      <td>Adelaide 2</td>\n",
       "      <td>A</td>\n",
       "      <td>...</td>\n",
       "      <td>0</td>\n",
       "      <td>0</td>\n",
       "      <td>41</td>\n",
       "      <td>1374</td>\n",
       "      <td>True</td>\n",
       "      <td>0.580000</td>\n",
       "      <td>0.827586</td>\n",
       "      <td>0.619048</td>\n",
       "      <td>0.740000</td>\n",
       "      <td>NaN</td>\n",
       "    </tr>\n",
       "    <tr>\n",
       "      <th>39136</th>\n",
       "      <td>126205</td>\n",
       "      <td>2021-0407_296</td>\n",
       "      <td>2021</td>\n",
       "      <td>3</td>\n",
       "      <td>Tommy Paul</td>\n",
       "      <td>USA</td>\n",
       "      <td>185</td>\n",
       "      <td>R</td>\n",
       "      <td>Rotterdam</td>\n",
       "      <td>A</td>\n",
       "      <td>...</td>\n",
       "      <td>10</td>\n",
       "      <td>14</td>\n",
       "      <td>56</td>\n",
       "      <td>1080</td>\n",
       "      <td>False</td>\n",
       "      <td>0.604651</td>\n",
       "      <td>0.576923</td>\n",
       "      <td>0.470588</td>\n",
       "      <td>0.534884</td>\n",
       "      <td>0.714286</td>\n",
       "    </tr>\n",
       "    <tr>\n",
       "      <th>18926</th>\n",
       "      <td>126205</td>\n",
       "      <td>2022-2807_274</td>\n",
       "      <td>2022</td>\n",
       "      <td>10</td>\n",
       "      <td>Tommy Paul</td>\n",
       "      <td>USA</td>\n",
       "      <td>185</td>\n",
       "      <td>R</td>\n",
       "      <td>Gijon</td>\n",
       "      <td>A</td>\n",
       "      <td>...</td>\n",
       "      <td>0</td>\n",
       "      <td>0</td>\n",
       "      <td>30</td>\n",
       "      <td>1375</td>\n",
       "      <td>True</td>\n",
       "      <td>0.627907</td>\n",
       "      <td>0.851852</td>\n",
       "      <td>0.625000</td>\n",
       "      <td>0.767442</td>\n",
       "      <td>NaN</td>\n",
       "    </tr>\n",
       "    <tr>\n",
       "      <th>17951</th>\n",
       "      <td>126205</td>\n",
       "      <td>2022-0311_273</td>\n",
       "      <td>2022</td>\n",
       "      <td>6</td>\n",
       "      <td>Tommy Paul</td>\n",
       "      <td>USA</td>\n",
       "      <td>185</td>\n",
       "      <td>R</td>\n",
       "      <td>Queen's Club</td>\n",
       "      <td>A</td>\n",
       "      <td>...</td>\n",
       "      <td>7</td>\n",
       "      <td>9</td>\n",
       "      <td>35</td>\n",
       "      <td>1113</td>\n",
       "      <td>True</td>\n",
       "      <td>0.688679</td>\n",
       "      <td>0.712329</td>\n",
       "      <td>0.393939</td>\n",
       "      <td>0.613208</td>\n",
       "      <td>0.777778</td>\n",
       "    </tr>\n",
       "    <tr>\n",
       "      <th>15374</th>\n",
       "      <td>126205</td>\n",
       "      <td>2021-520_162</td>\n",
       "      <td>2021</td>\n",
       "      <td>5</td>\n",
       "      <td>Tommy Paul</td>\n",
       "      <td>USA</td>\n",
       "      <td>185</td>\n",
       "      <td>R</td>\n",
       "      <td>Roland Garros</td>\n",
       "      <td>G</td>\n",
       "      <td>...</td>\n",
       "      <td>14</td>\n",
       "      <td>18</td>\n",
       "      <td>52</td>\n",
       "      <td>1225</td>\n",
       "      <td>True</td>\n",
       "      <td>0.623529</td>\n",
       "      <td>0.764151</td>\n",
       "      <td>0.515625</td>\n",
       "      <td>0.670588</td>\n",
       "      <td>0.777778</td>\n",
       "    </tr>\n",
       "  </tbody>\n",
       "</table>\n",
       "<p>10 rows × 30 columns</p>\n",
       "</div>"
      ],
      "text/plain": [
       "       player_id       match_id  year  month player_name country  height hand  \\\n",
       "17165     126205  2022-0807_290  2022      2  Tommy Paul     USA     185    R   \n",
       "14886     126205  2021-0429_292  2021     11  Tommy Paul     USA     185    R   \n",
       "16713     126205  2022-9667_289  2022      1  Tommy Paul     USA     185    R   \n",
       "14902     126205  2021-0438_279  2021     10  Tommy Paul     USA     185    R   \n",
       "14531     126205  2021-0407_291  2021      3  Tommy Paul     USA     185    R   \n",
       "16723     126205  2022-9667_277  2022      1  Tommy Paul     USA     185    R   \n",
       "39136     126205  2021-0407_296  2021      3  Tommy Paul     USA     185    R   \n",
       "18926     126205  2022-2807_274  2022     10  Tommy Paul     USA     185    R   \n",
       "17951     126205  2022-0311_273  2022      6  Tommy Paul     USA     185    R   \n",
       "15374     126205   2021-520_162  2021      5  Tommy Paul     USA     185    R   \n",
       "\n",
       "        tourney_name tourney_level  ... bp_saved bp_faced  rank  rank_points  \\\n",
       "17165       Acapulco             A  ...        7       10    39         1342   \n",
       "14886      Stockholm             A  ...        3        4    52         1119   \n",
       "16713     Adelaide 2             A  ...        1        3    41         1374   \n",
       "14902         Moscow             A  ...        6        9    54         1128   \n",
       "14531      Rotterdam             A  ...        0        0    56         1080   \n",
       "16723     Adelaide 2             A  ...        0        0    41         1374   \n",
       "39136      Rotterdam             A  ...       10       14    56         1080   \n",
       "18926          Gijon             A  ...        0        0    30         1375   \n",
       "17951   Queen's Club             A  ...        7        9    35         1113   \n",
       "15374  Roland Garros             G  ...       14       18    52         1225   \n",
       "\n",
       "         won  first_sv_pct  first_sv_win_pct  second_sv_win_pct  \\\n",
       "17165   True      0.570175          0.707692           0.448980   \n",
       "14886   True      0.514706          0.828571           0.454545   \n",
       "16713   True      0.684932          0.700000           0.608696   \n",
       "14902   True      0.522727          0.760870           0.428571   \n",
       "14531   True      0.688312          0.867925           0.625000   \n",
       "16723   True      0.580000          0.827586           0.619048   \n",
       "39136  False      0.604651          0.576923           0.470588   \n",
       "18926   True      0.627907          0.851852           0.625000   \n",
       "17951   True      0.688679          0.712329           0.393939   \n",
       "15374   True      0.623529          0.764151           0.515625   \n",
       "\n",
       "       total_sv_win_pct  bp_save_pct  \n",
       "17165          0.596491     0.700000  \n",
       "14886          0.647059     0.750000  \n",
       "16713          0.671233     0.333333  \n",
       "14902          0.602273     0.666667  \n",
       "14531          0.792208          NaN  \n",
       "16723          0.740000          NaN  \n",
       "39136          0.534884     0.714286  \n",
       "18926          0.767442          NaN  \n",
       "17951          0.613208     0.777778  \n",
       "15374          0.670588     0.777778  \n",
       "\n",
       "[10 rows x 30 columns]"
      ]
     },
     "execution_count": 16,
     "metadata": {},
     "output_type": "execute_result"
    }
   ],
   "source": [
    "tp_wilson = tommy_paul_matches[tommy_paul_matches['year'].isin([2021, 2022])]\n",
    "tp_wilson.sample(10)"
   ]
  },
  {
   "cell_type": "code",
   "execution_count": 17,
   "id": "8b919a2a",
   "metadata": {},
   "outputs": [
    {
     "data": {
      "text/plain": [
       "won\n",
       "True     62\n",
       "False    47\n",
       "Name: count, dtype: int64"
      ]
     },
     "execution_count": 17,
     "metadata": {},
     "output_type": "execute_result"
    }
   ],
   "source": [
    "tp_wilson['won'].value_counts()"
   ]
  },
  {
   "cell_type": "code",
   "execution_count": 18,
   "id": "d5e378f5",
   "metadata": {},
   "outputs": [
    {
     "data": {
      "text/html": [
       "<div>\n",
       "<style scoped>\n",
       "    .dataframe tbody tr th:only-of-type {\n",
       "        vertical-align: middle;\n",
       "    }\n",
       "\n",
       "    .dataframe tbody tr th {\n",
       "        vertical-align: top;\n",
       "    }\n",
       "\n",
       "    .dataframe thead th {\n",
       "        text-align: right;\n",
       "    }\n",
       "</style>\n",
       "<table border=\"1\" class=\"dataframe\">\n",
       "  <thead>\n",
       "    <tr style=\"text-align: right;\">\n",
       "      <th></th>\n",
       "      <th>player_id</th>\n",
       "      <th>match_id</th>\n",
       "      <th>year</th>\n",
       "      <th>month</th>\n",
       "      <th>player_name</th>\n",
       "      <th>country</th>\n",
       "      <th>height</th>\n",
       "      <th>hand</th>\n",
       "      <th>tourney_name</th>\n",
       "      <th>tourney_level</th>\n",
       "      <th>...</th>\n",
       "      <th>bp_saved</th>\n",
       "      <th>bp_faced</th>\n",
       "      <th>rank</th>\n",
       "      <th>rank_points</th>\n",
       "      <th>won</th>\n",
       "      <th>first_sv_pct</th>\n",
       "      <th>first_sv_win_pct</th>\n",
       "      <th>second_sv_win_pct</th>\n",
       "      <th>total_sv_win_pct</th>\n",
       "      <th>bp_save_pct</th>\n",
       "    </tr>\n",
       "  </thead>\n",
       "  <tbody>\n",
       "    <tr>\n",
       "      <th>21703</th>\n",
       "      <td>126205</td>\n",
       "      <td>2023-0329_289</td>\n",
       "      <td>2023</td>\n",
       "      <td>10</td>\n",
       "      <td>Tommy Paul</td>\n",
       "      <td>USA</td>\n",
       "      <td>185</td>\n",
       "      <td>R</td>\n",
       "      <td>Tokyo</td>\n",
       "      <td>A</td>\n",
       "      <td>...</td>\n",
       "      <td>0</td>\n",
       "      <td>0</td>\n",
       "      <td>12</td>\n",
       "      <td>2705</td>\n",
       "      <td>True</td>\n",
       "      <td>0.536585</td>\n",
       "      <td>0.954545</td>\n",
       "      <td>0.789474</td>\n",
       "      <td>0.878049</td>\n",
       "      <td>NaN</td>\n",
       "    </tr>\n",
       "    <tr>\n",
       "      <th>48602</th>\n",
       "      <td>126205</td>\n",
       "      <td>2024-560_212</td>\n",
       "      <td>2024</td>\n",
       "      <td>8</td>\n",
       "      <td>Tommy Paul</td>\n",
       "      <td>USA</td>\n",
       "      <td>185</td>\n",
       "      <td>R</td>\n",
       "      <td>US Open</td>\n",
       "      <td>G</td>\n",
       "      <td>...</td>\n",
       "      <td>10</td>\n",
       "      <td>14</td>\n",
       "      <td>14</td>\n",
       "      <td>2985</td>\n",
       "      <td>False</td>\n",
       "      <td>0.603604</td>\n",
       "      <td>0.641791</td>\n",
       "      <td>0.431818</td>\n",
       "      <td>0.558559</td>\n",
       "      <td>0.714286</td>\n",
       "    </tr>\n",
       "    <tr>\n",
       "      <th>19475</th>\n",
       "      <td>126205</td>\n",
       "      <td>2023-580_211</td>\n",
       "      <td>2023</td>\n",
       "      <td>1</td>\n",
       "      <td>Tommy Paul</td>\n",
       "      <td>USA</td>\n",
       "      <td>185</td>\n",
       "      <td>R</td>\n",
       "      <td>Australian Open</td>\n",
       "      <td>G</td>\n",
       "      <td>...</td>\n",
       "      <td>4</td>\n",
       "      <td>4</td>\n",
       "      <td>35</td>\n",
       "      <td>1160</td>\n",
       "      <td>True</td>\n",
       "      <td>0.589744</td>\n",
       "      <td>0.804348</td>\n",
       "      <td>0.593750</td>\n",
       "      <td>0.717949</td>\n",
       "      <td>1.000000</td>\n",
       "    </tr>\n",
       "    <tr>\n",
       "      <th>23325</th>\n",
       "      <td>126205</td>\n",
       "      <td>2024-0311_300</td>\n",
       "      <td>2024</td>\n",
       "      <td>6</td>\n",
       "      <td>Tommy Paul</td>\n",
       "      <td>USA</td>\n",
       "      <td>185</td>\n",
       "      <td>R</td>\n",
       "      <td>Queen's Club</td>\n",
       "      <td>A</td>\n",
       "      <td>...</td>\n",
       "      <td>2</td>\n",
       "      <td>3</td>\n",
       "      <td>13</td>\n",
       "      <td>2750</td>\n",
       "      <td>True</td>\n",
       "      <td>0.681159</td>\n",
       "      <td>0.765957</td>\n",
       "      <td>0.590909</td>\n",
       "      <td>0.710145</td>\n",
       "      <td>0.666667</td>\n",
       "    </tr>\n",
       "    <tr>\n",
       "      <th>45288</th>\n",
       "      <td>126205</td>\n",
       "      <td>2023-0311_282</td>\n",
       "      <td>2023</td>\n",
       "      <td>6</td>\n",
       "      <td>Tommy Paul</td>\n",
       "      <td>USA</td>\n",
       "      <td>185</td>\n",
       "      <td>R</td>\n",
       "      <td>Queen's Club</td>\n",
       "      <td>A</td>\n",
       "      <td>...</td>\n",
       "      <td>10</td>\n",
       "      <td>16</td>\n",
       "      <td>15</td>\n",
       "      <td>2135</td>\n",
       "      <td>False</td>\n",
       "      <td>0.681034</td>\n",
       "      <td>0.582278</td>\n",
       "      <td>0.486486</td>\n",
       "      <td>0.551724</td>\n",
       "      <td>0.625000</td>\n",
       "    </tr>\n",
       "    <tr>\n",
       "      <th>23101</th>\n",
       "      <td>126205</td>\n",
       "      <td>2024-0416_294</td>\n",
       "      <td>2024</td>\n",
       "      <td>5</td>\n",
       "      <td>Tommy Paul</td>\n",
       "      <td>USA</td>\n",
       "      <td>185</td>\n",
       "      <td>R</td>\n",
       "      <td>Rome Masters</td>\n",
       "      <td>M</td>\n",
       "      <td>...</td>\n",
       "      <td>12</td>\n",
       "      <td>18</td>\n",
       "      <td>16</td>\n",
       "      <td>2300</td>\n",
       "      <td>True</td>\n",
       "      <td>0.692308</td>\n",
       "      <td>0.543210</td>\n",
       "      <td>0.555556</td>\n",
       "      <td>0.547009</td>\n",
       "      <td>0.666667</td>\n",
       "    </tr>\n",
       "    <tr>\n",
       "      <th>45328</th>\n",
       "      <td>126205</td>\n",
       "      <td>2023-0741_300</td>\n",
       "      <td>2023</td>\n",
       "      <td>6</td>\n",
       "      <td>Tommy Paul</td>\n",
       "      <td>USA</td>\n",
       "      <td>185</td>\n",
       "      <td>R</td>\n",
       "      <td>Eastbourne</td>\n",
       "      <td>A</td>\n",
       "      <td>...</td>\n",
       "      <td>3</td>\n",
       "      <td>6</td>\n",
       "      <td>17</td>\n",
       "      <td>2110</td>\n",
       "      <td>False</td>\n",
       "      <td>0.631579</td>\n",
       "      <td>0.708333</td>\n",
       "      <td>0.500000</td>\n",
       "      <td>0.631579</td>\n",
       "      <td>0.500000</td>\n",
       "    </tr>\n",
       "    <tr>\n",
       "      <th>48751</th>\n",
       "      <td>126205</td>\n",
       "      <td>2024-5014_359</td>\n",
       "      <td>2024</td>\n",
       "      <td>10</td>\n",
       "      <td>Tommy Paul</td>\n",
       "      <td>USA</td>\n",
       "      <td>185</td>\n",
       "      <td>R</td>\n",
       "      <td>Shanghai Masters</td>\n",
       "      <td>M</td>\n",
       "      <td>...</td>\n",
       "      <td>6</td>\n",
       "      <td>9</td>\n",
       "      <td>13</td>\n",
       "      <td>3045</td>\n",
       "      <td>False</td>\n",
       "      <td>0.591398</td>\n",
       "      <td>0.727273</td>\n",
       "      <td>0.473684</td>\n",
       "      <td>0.623656</td>\n",
       "      <td>0.666667</td>\n",
       "    </tr>\n",
       "    <tr>\n",
       "      <th>23486</th>\n",
       "      <td>126205</td>\n",
       "      <td>2024-540_176</td>\n",
       "      <td>2024</td>\n",
       "      <td>7</td>\n",
       "      <td>Tommy Paul</td>\n",
       "      <td>USA</td>\n",
       "      <td>185</td>\n",
       "      <td>R</td>\n",
       "      <td>Wimbledon</td>\n",
       "      <td>G</td>\n",
       "      <td>...</td>\n",
       "      <td>8</td>\n",
       "      <td>11</td>\n",
       "      <td>13</td>\n",
       "      <td>3100</td>\n",
       "      <td>True</td>\n",
       "      <td>0.688742</td>\n",
       "      <td>0.788462</td>\n",
       "      <td>0.574468</td>\n",
       "      <td>0.721854</td>\n",
       "      <td>0.727273</td>\n",
       "    </tr>\n",
       "    <tr>\n",
       "      <th>23109</th>\n",
       "      <td>126205</td>\n",
       "      <td>2024-0416_286</td>\n",
       "      <td>2024</td>\n",
       "      <td>5</td>\n",
       "      <td>Tommy Paul</td>\n",
       "      <td>USA</td>\n",
       "      <td>185</td>\n",
       "      <td>R</td>\n",
       "      <td>Rome Masters</td>\n",
       "      <td>M</td>\n",
       "      <td>...</td>\n",
       "      <td>3</td>\n",
       "      <td>5</td>\n",
       "      <td>16</td>\n",
       "      <td>2300</td>\n",
       "      <td>True</td>\n",
       "      <td>0.672414</td>\n",
       "      <td>0.589744</td>\n",
       "      <td>0.736842</td>\n",
       "      <td>0.637931</td>\n",
       "      <td>0.600000</td>\n",
       "    </tr>\n",
       "  </tbody>\n",
       "</table>\n",
       "<p>10 rows × 30 columns</p>\n",
       "</div>"
      ],
      "text/plain": [
       "       player_id       match_id  year  month player_name country  height hand  \\\n",
       "21703     126205  2023-0329_289  2023     10  Tommy Paul     USA     185    R   \n",
       "48602     126205   2024-560_212  2024      8  Tommy Paul     USA     185    R   \n",
       "19475     126205   2023-580_211  2023      1  Tommy Paul     USA     185    R   \n",
       "23325     126205  2024-0311_300  2024      6  Tommy Paul     USA     185    R   \n",
       "45288     126205  2023-0311_282  2023      6  Tommy Paul     USA     185    R   \n",
       "23101     126205  2024-0416_294  2024      5  Tommy Paul     USA     185    R   \n",
       "45328     126205  2023-0741_300  2023      6  Tommy Paul     USA     185    R   \n",
       "48751     126205  2024-5014_359  2024     10  Tommy Paul     USA     185    R   \n",
       "23486     126205   2024-540_176  2024      7  Tommy Paul     USA     185    R   \n",
       "23109     126205  2024-0416_286  2024      5  Tommy Paul     USA     185    R   \n",
       "\n",
       "           tourney_name tourney_level  ... bp_saved bp_faced  rank  \\\n",
       "21703             Tokyo             A  ...        0        0    12   \n",
       "48602           US Open             G  ...       10       14    14   \n",
       "19475   Australian Open             G  ...        4        4    35   \n",
       "23325      Queen's Club             A  ...        2        3    13   \n",
       "45288      Queen's Club             A  ...       10       16    15   \n",
       "23101      Rome Masters             M  ...       12       18    16   \n",
       "45328        Eastbourne             A  ...        3        6    17   \n",
       "48751  Shanghai Masters             M  ...        6        9    13   \n",
       "23486         Wimbledon             G  ...        8       11    13   \n",
       "23109      Rome Masters             M  ...        3        5    16   \n",
       "\n",
       "       rank_points    won  first_sv_pct  first_sv_win_pct  second_sv_win_pct  \\\n",
       "21703         2705   True      0.536585          0.954545           0.789474   \n",
       "48602         2985  False      0.603604          0.641791           0.431818   \n",
       "19475         1160   True      0.589744          0.804348           0.593750   \n",
       "23325         2750   True      0.681159          0.765957           0.590909   \n",
       "45288         2135  False      0.681034          0.582278           0.486486   \n",
       "23101         2300   True      0.692308          0.543210           0.555556   \n",
       "45328         2110  False      0.631579          0.708333           0.500000   \n",
       "48751         3045  False      0.591398          0.727273           0.473684   \n",
       "23486         3100   True      0.688742          0.788462           0.574468   \n",
       "23109         2300   True      0.672414          0.589744           0.736842   \n",
       "\n",
       "       total_sv_win_pct  bp_save_pct  \n",
       "21703          0.878049          NaN  \n",
       "48602          0.558559     0.714286  \n",
       "19475          0.717949     1.000000  \n",
       "23325          0.710145     0.666667  \n",
       "45288          0.551724     0.625000  \n",
       "23101          0.547009     0.666667  \n",
       "45328          0.631579     0.500000  \n",
       "48751          0.623656     0.666667  \n",
       "23486          0.721854     0.727273  \n",
       "23109          0.637931     0.600000  \n",
       "\n",
       "[10 rows x 30 columns]"
      ]
     },
     "execution_count": 18,
     "metadata": {},
     "output_type": "execute_result"
    }
   ],
   "source": [
    "tp_yonex = tommy_paul_matches[tommy_paul_matches['year'].isin([2023, 2024])]\n",
    "tp_yonex.sample(10)"
   ]
  },
  {
   "cell_type": "code",
   "execution_count": 19,
   "id": "cf2a0e5f",
   "metadata": {},
   "outputs": [
    {
     "data": {
      "text/plain": [
       "won\n",
       "True     80\n",
       "False    42\n",
       "Name: count, dtype: int64"
      ]
     },
     "execution_count": 19,
     "metadata": {},
     "output_type": "execute_result"
    }
   ],
   "source": [
    "tp_yonex['won'].value_counts()"
   ]
  },
  {
   "cell_type": "code",
   "execution_count": 20,
   "id": "0e04320f",
   "metadata": {},
   "outputs": [
    {
     "data": {
      "text/html": [
       "<div>\n",
       "<style scoped>\n",
       "    .dataframe tbody tr th:only-of-type {\n",
       "        vertical-align: middle;\n",
       "    }\n",
       "\n",
       "    .dataframe tbody tr th {\n",
       "        vertical-align: top;\n",
       "    }\n",
       "\n",
       "    .dataframe thead th {\n",
       "        text-align: right;\n",
       "    }\n",
       "</style>\n",
       "<table border=\"1\" class=\"dataframe\">\n",
       "  <thead>\n",
       "    <tr style=\"text-align: right;\">\n",
       "      <th></th>\n",
       "      <th>player_id</th>\n",
       "      <th>match_id</th>\n",
       "      <th>year</th>\n",
       "      <th>month</th>\n",
       "      <th>player_name</th>\n",
       "      <th>country</th>\n",
       "      <th>height</th>\n",
       "      <th>hand</th>\n",
       "      <th>tourney_name</th>\n",
       "      <th>tourney_level</th>\n",
       "      <th>...</th>\n",
       "      <th>bp_saved</th>\n",
       "      <th>bp_faced</th>\n",
       "      <th>rank</th>\n",
       "      <th>rank_points</th>\n",
       "      <th>won</th>\n",
       "      <th>first_sv_pct</th>\n",
       "      <th>first_sv_win_pct</th>\n",
       "      <th>second_sv_win_pct</th>\n",
       "      <th>total_sv_win_pct</th>\n",
       "      <th>bp_save_pct</th>\n",
       "    </tr>\n",
       "  </thead>\n",
       "  <tbody>\n",
       "    <tr>\n",
       "      <th>14253</th>\n",
       "      <td>126205</td>\n",
       "      <td>2021-0352_255</td>\n",
       "      <td>2021</td>\n",
       "      <td>11</td>\n",
       "      <td>Tommy Paul</td>\n",
       "      <td>USA</td>\n",
       "      <td>185</td>\n",
       "      <td>R</td>\n",
       "      <td>Paris Masters</td>\n",
       "      <td>M</td>\n",
       "      <td>...</td>\n",
       "      <td>1</td>\n",
       "      <td>2</td>\n",
       "      <td>53</td>\n",
       "      <td>1103</td>\n",
       "      <td>True</td>\n",
       "      <td>0.573770</td>\n",
       "      <td>0.742857</td>\n",
       "      <td>0.576923</td>\n",
       "      <td>0.672131</td>\n",
       "      <td>0.500000</td>\n",
       "    </tr>\n",
       "    <tr>\n",
       "      <th>14438</th>\n",
       "      <td>126205</td>\n",
       "      <td>2021-0404_219</td>\n",
       "      <td>2021</td>\n",
       "      <td>10</td>\n",
       "      <td>Tommy Paul</td>\n",
       "      <td>USA</td>\n",
       "      <td>185</td>\n",
       "      <td>R</td>\n",
       "      <td>Indian Wells Masters</td>\n",
       "      <td>M</td>\n",
       "      <td>...</td>\n",
       "      <td>0</td>\n",
       "      <td>2</td>\n",
       "      <td>60</td>\n",
       "      <td>1033</td>\n",
       "      <td>True</td>\n",
       "      <td>0.507937</td>\n",
       "      <td>0.812500</td>\n",
       "      <td>0.580645</td>\n",
       "      <td>0.698413</td>\n",
       "      <td>0.000000</td>\n",
       "    </tr>\n",
       "    <tr>\n",
       "      <th>14470</th>\n",
       "      <td>126205</td>\n",
       "      <td>2021-0404_260</td>\n",
       "      <td>2021</td>\n",
       "      <td>10</td>\n",
       "      <td>Tommy Paul</td>\n",
       "      <td>USA</td>\n",
       "      <td>185</td>\n",
       "      <td>R</td>\n",
       "      <td>Indian Wells Masters</td>\n",
       "      <td>M</td>\n",
       "      <td>...</td>\n",
       "      <td>0</td>\n",
       "      <td>0</td>\n",
       "      <td>60</td>\n",
       "      <td>1033</td>\n",
       "      <td>True</td>\n",
       "      <td>0.585366</td>\n",
       "      <td>0.833333</td>\n",
       "      <td>0.705882</td>\n",
       "      <td>0.780488</td>\n",
       "      <td>NaN</td>\n",
       "    </tr>\n",
       "    <tr>\n",
       "      <th>14490</th>\n",
       "      <td>126205</td>\n",
       "      <td>2021-0404_281</td>\n",
       "      <td>2021</td>\n",
       "      <td>10</td>\n",
       "      <td>Tommy Paul</td>\n",
       "      <td>USA</td>\n",
       "      <td>185</td>\n",
       "      <td>R</td>\n",
       "      <td>Indian Wells Masters</td>\n",
       "      <td>M</td>\n",
       "      <td>...</td>\n",
       "      <td>10</td>\n",
       "      <td>14</td>\n",
       "      <td>60</td>\n",
       "      <td>1033</td>\n",
       "      <td>True</td>\n",
       "      <td>0.598131</td>\n",
       "      <td>0.718750</td>\n",
       "      <td>0.418605</td>\n",
       "      <td>0.598131</td>\n",
       "      <td>0.714286</td>\n",
       "    </tr>\n",
       "    <tr>\n",
       "      <th>14520</th>\n",
       "      <td>126205</td>\n",
       "      <td>2021-0407_280</td>\n",
       "      <td>2021</td>\n",
       "      <td>3</td>\n",
       "      <td>Tommy Paul</td>\n",
       "      <td>USA</td>\n",
       "      <td>185</td>\n",
       "      <td>R</td>\n",
       "      <td>Rotterdam</td>\n",
       "      <td>A</td>\n",
       "      <td>...</td>\n",
       "      <td>6</td>\n",
       "      <td>8</td>\n",
       "      <td>56</td>\n",
       "      <td>1080</td>\n",
       "      <td>True</td>\n",
       "      <td>0.701149</td>\n",
       "      <td>0.672131</td>\n",
       "      <td>0.538462</td>\n",
       "      <td>0.632184</td>\n",
       "      <td>0.750000</td>\n",
       "    </tr>\n",
       "    <tr>\n",
       "      <th>...</th>\n",
       "      <td>...</td>\n",
       "      <td>...</td>\n",
       "      <td>...</td>\n",
       "      <td>...</td>\n",
       "      <td>...</td>\n",
       "      <td>...</td>\n",
       "      <td>...</td>\n",
       "      <td>...</td>\n",
       "      <td>...</td>\n",
       "      <td>...</td>\n",
       "      <td>...</td>\n",
       "      <td>...</td>\n",
       "      <td>...</td>\n",
       "      <td>...</td>\n",
       "      <td>...</td>\n",
       "      <td>...</td>\n",
       "      <td>...</td>\n",
       "      <td>...</td>\n",
       "      <td>...</td>\n",
       "      <td>...</td>\n",
       "      <td>...</td>\n",
       "    </tr>\n",
       "    <tr>\n",
       "      <th>48602</th>\n",
       "      <td>126205</td>\n",
       "      <td>2024-560_212</td>\n",
       "      <td>2024</td>\n",
       "      <td>8</td>\n",
       "      <td>Tommy Paul</td>\n",
       "      <td>USA</td>\n",
       "      <td>185</td>\n",
       "      <td>R</td>\n",
       "      <td>US Open</td>\n",
       "      <td>G</td>\n",
       "      <td>...</td>\n",
       "      <td>10</td>\n",
       "      <td>14</td>\n",
       "      <td>14</td>\n",
       "      <td>2985</td>\n",
       "      <td>False</td>\n",
       "      <td>0.603604</td>\n",
       "      <td>0.641791</td>\n",
       "      <td>0.431818</td>\n",
       "      <td>0.558559</td>\n",
       "      <td>0.714286</td>\n",
       "    </tr>\n",
       "    <tr>\n",
       "      <th>48687</th>\n",
       "      <td>126205</td>\n",
       "      <td>2024-0329_392</td>\n",
       "      <td>2024</td>\n",
       "      <td>9</td>\n",
       "      <td>Tommy Paul</td>\n",
       "      <td>USA</td>\n",
       "      <td>185</td>\n",
       "      <td>R</td>\n",
       "      <td>Tokyo</td>\n",
       "      <td>A</td>\n",
       "      <td>...</td>\n",
       "      <td>7</td>\n",
       "      <td>10</td>\n",
       "      <td>13</td>\n",
       "      <td>3005</td>\n",
       "      <td>False</td>\n",
       "      <td>0.589474</td>\n",
       "      <td>0.696429</td>\n",
       "      <td>0.589744</td>\n",
       "      <td>0.652632</td>\n",
       "      <td>0.700000</td>\n",
       "    </tr>\n",
       "    <tr>\n",
       "      <th>48751</th>\n",
       "      <td>126205</td>\n",
       "      <td>2024-5014_359</td>\n",
       "      <td>2024</td>\n",
       "      <td>10</td>\n",
       "      <td>Tommy Paul</td>\n",
       "      <td>USA</td>\n",
       "      <td>185</td>\n",
       "      <td>R</td>\n",
       "      <td>Shanghai Masters</td>\n",
       "      <td>M</td>\n",
       "      <td>...</td>\n",
       "      <td>6</td>\n",
       "      <td>9</td>\n",
       "      <td>13</td>\n",
       "      <td>3045</td>\n",
       "      <td>False</td>\n",
       "      <td>0.591398</td>\n",
       "      <td>0.727273</td>\n",
       "      <td>0.473684</td>\n",
       "      <td>0.623656</td>\n",
       "      <td>0.666667</td>\n",
       "    </tr>\n",
       "    <tr>\n",
       "      <th>48972</th>\n",
       "      <td>126205</td>\n",
       "      <td>2024-0337_359</td>\n",
       "      <td>2024</td>\n",
       "      <td>10</td>\n",
       "      <td>Tommy Paul</td>\n",
       "      <td>USA</td>\n",
       "      <td>185</td>\n",
       "      <td>R</td>\n",
       "      <td>Vienna</td>\n",
       "      <td>A</td>\n",
       "      <td>...</td>\n",
       "      <td>9</td>\n",
       "      <td>11</td>\n",
       "      <td>12</td>\n",
       "      <td>3215</td>\n",
       "      <td>False</td>\n",
       "      <td>0.552941</td>\n",
       "      <td>0.702128</td>\n",
       "      <td>0.473684</td>\n",
       "      <td>0.600000</td>\n",
       "      <td>0.818182</td>\n",
       "    </tr>\n",
       "    <tr>\n",
       "      <th>49028</th>\n",
       "      <td>126205</td>\n",
       "      <td>2024-0352_326</td>\n",
       "      <td>2024</td>\n",
       "      <td>10</td>\n",
       "      <td>Tommy Paul</td>\n",
       "      <td>USA</td>\n",
       "      <td>185</td>\n",
       "      <td>R</td>\n",
       "      <td>Paris Masters</td>\n",
       "      <td>M</td>\n",
       "      <td>...</td>\n",
       "      <td>6</td>\n",
       "      <td>11</td>\n",
       "      <td>12</td>\n",
       "      <td>3180</td>\n",
       "      <td>False</td>\n",
       "      <td>0.565217</td>\n",
       "      <td>0.666667</td>\n",
       "      <td>0.333333</td>\n",
       "      <td>0.521739</td>\n",
       "      <td>0.545455</td>\n",
       "    </tr>\n",
       "  </tbody>\n",
       "</table>\n",
       "<p>231 rows × 30 columns</p>\n",
       "</div>"
      ],
      "text/plain": [
       "       player_id       match_id  year  month player_name country  height hand  \\\n",
       "14253     126205  2021-0352_255  2021     11  Tommy Paul     USA     185    R   \n",
       "14438     126205  2021-0404_219  2021     10  Tommy Paul     USA     185    R   \n",
       "14470     126205  2021-0404_260  2021     10  Tommy Paul     USA     185    R   \n",
       "14490     126205  2021-0404_281  2021     10  Tommy Paul     USA     185    R   \n",
       "14520     126205  2021-0407_280  2021      3  Tommy Paul     USA     185    R   \n",
       "...          ...            ...   ...    ...         ...     ...     ...  ...   \n",
       "48602     126205   2024-560_212  2024      8  Tommy Paul     USA     185    R   \n",
       "48687     126205  2024-0329_392  2024      9  Tommy Paul     USA     185    R   \n",
       "48751     126205  2024-5014_359  2024     10  Tommy Paul     USA     185    R   \n",
       "48972     126205  2024-0337_359  2024     10  Tommy Paul     USA     185    R   \n",
       "49028     126205  2024-0352_326  2024     10  Tommy Paul     USA     185    R   \n",
       "\n",
       "               tourney_name tourney_level  ... bp_saved bp_faced  rank  \\\n",
       "14253         Paris Masters             M  ...        1        2    53   \n",
       "14438  Indian Wells Masters             M  ...        0        2    60   \n",
       "14470  Indian Wells Masters             M  ...        0        0    60   \n",
       "14490  Indian Wells Masters             M  ...       10       14    60   \n",
       "14520             Rotterdam             A  ...        6        8    56   \n",
       "...                     ...           ...  ...      ...      ...   ...   \n",
       "48602               US Open             G  ...       10       14    14   \n",
       "48687                 Tokyo             A  ...        7       10    13   \n",
       "48751      Shanghai Masters             M  ...        6        9    13   \n",
       "48972                Vienna             A  ...        9       11    12   \n",
       "49028         Paris Masters             M  ...        6       11    12   \n",
       "\n",
       "       rank_points    won  first_sv_pct  first_sv_win_pct  second_sv_win_pct  \\\n",
       "14253         1103   True      0.573770          0.742857           0.576923   \n",
       "14438         1033   True      0.507937          0.812500           0.580645   \n",
       "14470         1033   True      0.585366          0.833333           0.705882   \n",
       "14490         1033   True      0.598131          0.718750           0.418605   \n",
       "14520         1080   True      0.701149          0.672131           0.538462   \n",
       "...            ...    ...           ...               ...                ...   \n",
       "48602         2985  False      0.603604          0.641791           0.431818   \n",
       "48687         3005  False      0.589474          0.696429           0.589744   \n",
       "48751         3045  False      0.591398          0.727273           0.473684   \n",
       "48972         3215  False      0.552941          0.702128           0.473684   \n",
       "49028         3180  False      0.565217          0.666667           0.333333   \n",
       "\n",
       "       total_sv_win_pct  bp_save_pct  \n",
       "14253          0.672131     0.500000  \n",
       "14438          0.698413     0.000000  \n",
       "14470          0.780488          NaN  \n",
       "14490          0.598131     0.714286  \n",
       "14520          0.632184     0.750000  \n",
       "...                 ...          ...  \n",
       "48602          0.558559     0.714286  \n",
       "48687          0.652632     0.700000  \n",
       "48751          0.623656     0.666667  \n",
       "48972          0.600000     0.818182  \n",
       "49028          0.521739     0.545455  \n",
       "\n",
       "[231 rows x 30 columns]"
      ]
     },
     "execution_count": 20,
     "metadata": {},
     "output_type": "execute_result"
    }
   ],
   "source": [
    "tp_both = tommy_paul_matches[tommy_paul_matches['year'].isin([2021, 2022, 2023, 2024])]\n",
    "tp_both"
   ]
  },
  {
   "cell_type": "code",
   "execution_count": 21,
   "id": "0277e8f3",
   "metadata": {},
   "outputs": [
    {
     "data": {
      "text/html": [
       "<div>\n",
       "<style scoped>\n",
       "    .dataframe tbody tr th:only-of-type {\n",
       "        vertical-align: middle;\n",
       "    }\n",
       "\n",
       "    .dataframe tbody tr th {\n",
       "        vertical-align: top;\n",
       "    }\n",
       "\n",
       "    .dataframe thead th {\n",
       "        text-align: right;\n",
       "    }\n",
       "</style>\n",
       "<table border=\"1\" class=\"dataframe\">\n",
       "  <thead>\n",
       "    <tr style=\"text-align: right;\">\n",
       "      <th></th>\n",
       "      <th>won</th>\n",
       "      <th>Yonex</th>\n",
       "      <th>Wilson</th>\n",
       "    </tr>\n",
       "  </thead>\n",
       "  <tbody>\n",
       "    <tr>\n",
       "      <th>0</th>\n",
       "      <td>Wins</td>\n",
       "      <td>80</td>\n",
       "      <td>62</td>\n",
       "    </tr>\n",
       "    <tr>\n",
       "      <th>1</th>\n",
       "      <td>Losses</td>\n",
       "      <td>42</td>\n",
       "      <td>47</td>\n",
       "    </tr>\n",
       "  </tbody>\n",
       "</table>\n",
       "</div>"
      ],
      "text/plain": [
       "      won  Yonex  Wilson\n",
       "0    Wins     80      62\n",
       "1  Losses     42      47"
      ]
     },
     "execution_count": 21,
     "metadata": {},
     "output_type": "execute_result"
    }
   ],
   "source": [
    "wl_comp = pd.DataFrame({\n",
    "    'Yonex' : tp_yonex['won'].map({True: 'Wins', False: 'Losses'}).value_counts(),\n",
    "    'Wilson' : tp_wilson['won'].map({True: 'Wins', False: 'Losses'}).value_counts()\n",
    "}).reset_index()\n",
    "\n",
    "wl_comp"
   ]
  },
  {
   "cell_type": "markdown",
   "id": "9865c642",
   "metadata": {},
   "source": [
    "I haven't really figured out how I will handle this one yet, but I need to submit. I will dive deeper into this next week"
   ]
  },
  {
   "cell_type": "code",
   "execution_count": null,
   "id": "c09e0bf9",
   "metadata": {},
   "outputs": [],
   "source": [
    "\n"
   ]
  },
  {
   "cell_type": "code",
   "execution_count": null,
   "id": "c76c74fa",
   "metadata": {},
   "outputs": [],
   "source": []
  }
 ],
 "metadata": {
  "kernelspec": {
   "display_name": "Python 3",
   "language": "python",
   "name": "python3"
  },
  "language_info": {
   "codemirror_mode": {
    "name": "ipython",
    "version": 3
   },
   "file_extension": ".py",
   "mimetype": "text/x-python",
   "name": "python",
   "nbconvert_exporter": "python",
   "pygments_lexer": "ipython3",
   "version": "3.13.2"
  }
 },
 "nbformat": 4,
 "nbformat_minor": 5
}
